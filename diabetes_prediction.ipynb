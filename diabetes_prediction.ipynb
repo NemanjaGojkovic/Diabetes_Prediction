{
 "cells": [
  {
   "cell_type": "markdown",
   "id": "3d0a30a1",
   "metadata": {
    "papermill": {
     "duration": 0.015148,
     "end_time": "2023-07-04T12:30:49.174893",
     "exception": false,
     "start_time": "2023-07-04T12:30:49.159745",
     "status": "completed"
    },
    "tags": []
   },
   "source": [
    "# Diabetes prediction problem"
   ]
  },
  {
   "cell_type": "code",
   "execution_count": 1,
   "id": "aed87beb",
   "metadata": {
    "_cell_guid": "b1076dfc-b9ad-4769-8c92-a6c4dae69d19",
    "_uuid": "8f2839f25d086af736a60e9eeb907d3b93b6e0e5",
    "execution": {
     "iopub.execute_input": "2023-07-04T12:30:49.203171Z",
     "iopub.status.busy": "2023-07-04T12:30:49.202495Z",
     "iopub.status.idle": "2023-07-04T12:30:50.770975Z",
     "shell.execute_reply": "2023-07-04T12:30:50.769832Z"
    },
    "papermill": {
     "duration": 1.585833,
     "end_time": "2023-07-04T12:30:50.773810",
     "exception": false,
     "start_time": "2023-07-04T12:30:49.187977",
     "status": "completed"
    },
    "tags": []
   },
   "outputs": [],
   "source": [
    "import numpy as np \n",
    "import pandas as pd \n",
    "import matplotlib.pyplot as plt\n",
    "import seaborn as sns"
   ]
  },
  {
   "cell_type": "code",
   "execution_count": 2,
   "id": "36859f22",
   "metadata": {
    "execution": {
     "iopub.execute_input": "2023-07-04T12:30:50.802499Z",
     "iopub.status.busy": "2023-07-04T12:30:50.802069Z",
     "iopub.status.idle": "2023-07-04T12:30:51.046628Z",
     "shell.execute_reply": "2023-07-04T12:30:51.045268Z"
    },
    "papermill": {
     "duration": 0.261672,
     "end_time": "2023-07-04T12:30:51.049092",
     "exception": false,
     "start_time": "2023-07-04T12:30:50.787420",
     "status": "completed"
    },
    "tags": []
   },
   "outputs": [
    {
     "data": {
      "text/html": [
       "<div>\n",
       "<style scoped>\n",
       "    .dataframe tbody tr th:only-of-type {\n",
       "        vertical-align: middle;\n",
       "    }\n",
       "\n",
       "    .dataframe tbody tr th {\n",
       "        vertical-align: top;\n",
       "    }\n",
       "\n",
       "    .dataframe thead th {\n",
       "        text-align: right;\n",
       "    }\n",
       "</style>\n",
       "<table border=\"1\" class=\"dataframe\">\n",
       "  <thead>\n",
       "    <tr style=\"text-align: right;\">\n",
       "      <th></th>\n",
       "      <th>gender</th>\n",
       "      <th>age</th>\n",
       "      <th>hypertension</th>\n",
       "      <th>heart_disease</th>\n",
       "      <th>smoking_history</th>\n",
       "      <th>bmi</th>\n",
       "      <th>HbA1c_level</th>\n",
       "      <th>blood_glucose_level</th>\n",
       "      <th>diabetes</th>\n",
       "    </tr>\n",
       "  </thead>\n",
       "  <tbody>\n",
       "    <tr>\n",
       "      <th>0</th>\n",
       "      <td>Female</td>\n",
       "      <td>80.0</td>\n",
       "      <td>0</td>\n",
       "      <td>1</td>\n",
       "      <td>never</td>\n",
       "      <td>25.19</td>\n",
       "      <td>6.6</td>\n",
       "      <td>140</td>\n",
       "      <td>0</td>\n",
       "    </tr>\n",
       "    <tr>\n",
       "      <th>1</th>\n",
       "      <td>Female</td>\n",
       "      <td>54.0</td>\n",
       "      <td>0</td>\n",
       "      <td>0</td>\n",
       "      <td>No Info</td>\n",
       "      <td>27.32</td>\n",
       "      <td>6.6</td>\n",
       "      <td>80</td>\n",
       "      <td>0</td>\n",
       "    </tr>\n",
       "    <tr>\n",
       "      <th>2</th>\n",
       "      <td>Male</td>\n",
       "      <td>28.0</td>\n",
       "      <td>0</td>\n",
       "      <td>0</td>\n",
       "      <td>never</td>\n",
       "      <td>27.32</td>\n",
       "      <td>5.7</td>\n",
       "      <td>158</td>\n",
       "      <td>0</td>\n",
       "    </tr>\n",
       "    <tr>\n",
       "      <th>3</th>\n",
       "      <td>Female</td>\n",
       "      <td>36.0</td>\n",
       "      <td>0</td>\n",
       "      <td>0</td>\n",
       "      <td>current</td>\n",
       "      <td>23.45</td>\n",
       "      <td>5.0</td>\n",
       "      <td>155</td>\n",
       "      <td>0</td>\n",
       "    </tr>\n",
       "    <tr>\n",
       "      <th>4</th>\n",
       "      <td>Male</td>\n",
       "      <td>76.0</td>\n",
       "      <td>1</td>\n",
       "      <td>1</td>\n",
       "      <td>current</td>\n",
       "      <td>20.14</td>\n",
       "      <td>4.8</td>\n",
       "      <td>155</td>\n",
       "      <td>0</td>\n",
       "    </tr>\n",
       "    <tr>\n",
       "      <th>...</th>\n",
       "      <td>...</td>\n",
       "      <td>...</td>\n",
       "      <td>...</td>\n",
       "      <td>...</td>\n",
       "      <td>...</td>\n",
       "      <td>...</td>\n",
       "      <td>...</td>\n",
       "      <td>...</td>\n",
       "      <td>...</td>\n",
       "    </tr>\n",
       "    <tr>\n",
       "      <th>99995</th>\n",
       "      <td>Female</td>\n",
       "      <td>80.0</td>\n",
       "      <td>0</td>\n",
       "      <td>0</td>\n",
       "      <td>No Info</td>\n",
       "      <td>27.32</td>\n",
       "      <td>6.2</td>\n",
       "      <td>90</td>\n",
       "      <td>0</td>\n",
       "    </tr>\n",
       "    <tr>\n",
       "      <th>99996</th>\n",
       "      <td>Female</td>\n",
       "      <td>2.0</td>\n",
       "      <td>0</td>\n",
       "      <td>0</td>\n",
       "      <td>No Info</td>\n",
       "      <td>17.37</td>\n",
       "      <td>6.5</td>\n",
       "      <td>100</td>\n",
       "      <td>0</td>\n",
       "    </tr>\n",
       "    <tr>\n",
       "      <th>99997</th>\n",
       "      <td>Male</td>\n",
       "      <td>66.0</td>\n",
       "      <td>0</td>\n",
       "      <td>0</td>\n",
       "      <td>former</td>\n",
       "      <td>27.83</td>\n",
       "      <td>5.7</td>\n",
       "      <td>155</td>\n",
       "      <td>0</td>\n",
       "    </tr>\n",
       "    <tr>\n",
       "      <th>99998</th>\n",
       "      <td>Female</td>\n",
       "      <td>24.0</td>\n",
       "      <td>0</td>\n",
       "      <td>0</td>\n",
       "      <td>never</td>\n",
       "      <td>35.42</td>\n",
       "      <td>4.0</td>\n",
       "      <td>100</td>\n",
       "      <td>0</td>\n",
       "    </tr>\n",
       "    <tr>\n",
       "      <th>99999</th>\n",
       "      <td>Female</td>\n",
       "      <td>57.0</td>\n",
       "      <td>0</td>\n",
       "      <td>0</td>\n",
       "      <td>current</td>\n",
       "      <td>22.43</td>\n",
       "      <td>6.6</td>\n",
       "      <td>90</td>\n",
       "      <td>0</td>\n",
       "    </tr>\n",
       "  </tbody>\n",
       "</table>\n",
       "<p>100000 rows × 9 columns</p>\n",
       "</div>"
      ],
      "text/plain": [
       "       gender   age  hypertension  heart_disease smoking_history    bmi  \\\n",
       "0      Female  80.0             0              1           never  25.19   \n",
       "1      Female  54.0             0              0         No Info  27.32   \n",
       "2        Male  28.0             0              0           never  27.32   \n",
       "3      Female  36.0             0              0         current  23.45   \n",
       "4        Male  76.0             1              1         current  20.14   \n",
       "...       ...   ...           ...            ...             ...    ...   \n",
       "99995  Female  80.0             0              0         No Info  27.32   \n",
       "99996  Female   2.0             0              0         No Info  17.37   \n",
       "99997    Male  66.0             0              0          former  27.83   \n",
       "99998  Female  24.0             0              0           never  35.42   \n",
       "99999  Female  57.0             0              0         current  22.43   \n",
       "\n",
       "       HbA1c_level  blood_glucose_level  diabetes  \n",
       "0              6.6                  140         0  \n",
       "1              6.6                   80         0  \n",
       "2              5.7                  158         0  \n",
       "3              5.0                  155         0  \n",
       "4              4.8                  155         0  \n",
       "...            ...                  ...       ...  \n",
       "99995          6.2                   90         0  \n",
       "99996          6.5                  100         0  \n",
       "99997          5.7                  155         0  \n",
       "99998          4.0                  100         0  \n",
       "99999          6.6                   90         0  \n",
       "\n",
       "[100000 rows x 9 columns]"
      ]
     },
     "execution_count": 2,
     "metadata": {},
     "output_type": "execute_result"
    }
   ],
   "source": [
    "df=pd.read_csv('/kaggle/input/diabetes-prediction-dataset/diabetes_prediction_dataset.csv')\n",
    "df"
   ]
  },
  {
   "cell_type": "code",
   "execution_count": 3,
   "id": "be4e46f5",
   "metadata": {
    "execution": {
     "iopub.execute_input": "2023-07-04T12:30:51.077907Z",
     "iopub.status.busy": "2023-07-04T12:30:51.077492Z",
     "iopub.status.idle": "2023-07-04T12:30:51.163636Z",
     "shell.execute_reply": "2023-07-04T12:30:51.162854Z"
    },
    "papermill": {
     "duration": 0.103744,
     "end_time": "2023-07-04T12:30:51.166204",
     "exception": false,
     "start_time": "2023-07-04T12:30:51.062460",
     "status": "completed"
    },
    "tags": []
   },
   "outputs": [
    {
     "name": "stdout",
     "output_type": "stream",
     "text": [
      "<class 'pandas.core.frame.DataFrame'>\n",
      "RangeIndex: 100000 entries, 0 to 99999\n",
      "Data columns (total 9 columns):\n",
      " #   Column               Non-Null Count   Dtype  \n",
      "---  ------               --------------   -----  \n",
      " 0   gender               100000 non-null  object \n",
      " 1   age                  100000 non-null  float64\n",
      " 2   hypertension         100000 non-null  int64  \n",
      " 3   heart_disease        100000 non-null  int64  \n",
      " 4   smoking_history      100000 non-null  object \n",
      " 5   bmi                  100000 non-null  float64\n",
      " 6   HbA1c_level          100000 non-null  float64\n",
      " 7   blood_glucose_level  100000 non-null  int64  \n",
      " 8   diabetes             100000 non-null  int64  \n",
      "dtypes: float64(3), int64(4), object(2)\n",
      "memory usage: 6.9+ MB\n"
     ]
    }
   ],
   "source": [
    "df.info()"
   ]
  },
  {
   "cell_type": "code",
   "execution_count": 4,
   "id": "1648f04f",
   "metadata": {
    "execution": {
     "iopub.execute_input": "2023-07-04T12:30:51.196003Z",
     "iopub.status.busy": "2023-07-04T12:30:51.195074Z",
     "iopub.status.idle": "2023-07-04T12:30:51.268435Z",
     "shell.execute_reply": "2023-07-04T12:30:51.267328Z"
    },
    "papermill": {
     "duration": 0.090968,
     "end_time": "2023-07-04T12:30:51.270870",
     "exception": false,
     "start_time": "2023-07-04T12:30:51.179902",
     "status": "completed"
    },
    "tags": []
   },
   "outputs": [
    {
     "data": {
      "text/plain": [
       "gender                 0\n",
       "age                    0\n",
       "hypertension           0\n",
       "heart_disease          0\n",
       "smoking_history        0\n",
       "bmi                    0\n",
       "HbA1c_level            0\n",
       "blood_glucose_level    0\n",
       "diabetes               0\n",
       "dtype: int64"
      ]
     },
     "execution_count": 4,
     "metadata": {},
     "output_type": "execute_result"
    }
   ],
   "source": [
    "df.isna().sum()"
   ]
  },
  {
   "cell_type": "markdown",
   "id": "f7eb5b11",
   "metadata": {
    "papermill": {
     "duration": 0.013323,
     "end_time": "2023-07-04T12:30:51.297774",
     "exception": false,
     "start_time": "2023-07-04T12:30:51.284451",
     "status": "completed"
    },
    "tags": []
   },
   "source": [
    "There is no NA values in this dataset. For `smoking_history` variable there is cateogory that defines if there is informations about pacient smoking history. We will first get a view of categorical variables in this dataset."
   ]
  },
  {
   "cell_type": "code",
   "execution_count": 5,
   "id": "b7f49534",
   "metadata": {
    "execution": {
     "iopub.execute_input": "2023-07-04T12:30:51.327856Z",
     "iopub.status.busy": "2023-07-04T12:30:51.327474Z",
     "iopub.status.idle": "2023-07-04T12:30:51.673938Z",
     "shell.execute_reply": "2023-07-04T12:30:51.672877Z"
    },
    "papermill": {
     "duration": 0.364873,
     "end_time": "2023-07-04T12:30:51.676436",
     "exception": false,
     "start_time": "2023-07-04T12:30:51.311563",
     "status": "completed"
    },
    "tags": []
   },
   "outputs": [
    {
     "data": {
      "image/png": "[encoded data removed]",
      "text/plain": [
       "<Figure size 640x480 with 1 Axes>"
      ]
     },
     "metadata": {},
     "output_type": "display_data"
    }
   ],
   "source": [
    "df.smoking_history.value_counts().plot(kind='bar')\n",
    "plt.show()"
   ]
  },
  {
   "cell_type": "code",
   "execution_count": 6,
   "id": "011c989b",
   "metadata": {
    "execution": {
     "iopub.execute_input": "2023-07-04T12:30:51.707067Z",
     "iopub.status.busy": "2023-07-04T12:30:51.706173Z",
     "iopub.status.idle": "2023-07-04T12:30:51.760165Z",
     "shell.execute_reply": "2023-07-04T12:30:51.759152Z"
    },
    "papermill": {
     "duration": 0.071883,
     "end_time": "2023-07-04T12:30:51.762539",
     "exception": false,
     "start_time": "2023-07-04T12:30:51.690656",
     "status": "completed"
    },
    "tags": []
   },
   "outputs": [
    {
     "data": {
      "text/plain": [
       "0.0"
      ]
     },
     "execution_count": 6,
     "metadata": {},
     "output_type": "execute_result"
    }
   ],
   "source": [
    "from scipy.stats import chi2_contingency\n",
    "ops = pd.crosstab(df.diabetes, df.smoking_history)\n",
    "chi, p, dof, ex = chi2_contingency(ops)\n",
    "p"
   ]
  },
  {
   "cell_type": "markdown",
   "id": "444a4227",
   "metadata": {
    "papermill": {
     "duration": 0.01458,
     "end_time": "2023-07-04T12:30:51.791483",
     "exception": false,
     "start_time": "2023-07-04T12:30:51.776903",
     "status": "completed"
    },
    "tags": []
   },
   "source": [
    "We can see that there is a lot of people from whom we did not get the information about smoking habits. Because of that we will leave that category in variable. We can consider grouping other categories that are not so frequent, but for now we will leave this variable as it is. Also we have checked is there correlation between output and this variable with chi2 test and results are saying that there is significant correlation between those two."
   ]
  },
  {
   "cell_type": "code",
   "execution_count": 7,
   "id": "3e95249f",
   "metadata": {
    "execution": {
     "iopub.execute_input": "2023-07-04T12:30:51.821597Z",
     "iopub.status.busy": "2023-07-04T12:30:51.821182Z",
     "iopub.status.idle": "2023-07-04T12:30:52.052666Z",
     "shell.execute_reply": "2023-07-04T12:30:52.051584Z"
    },
    "papermill": {
     "duration": 0.249554,
     "end_time": "2023-07-04T12:30:52.055089",
     "exception": false,
     "start_time": "2023-07-04T12:30:51.805535",
     "status": "completed"
    },
    "tags": []
   },
   "outputs": [
    {
     "data": {
      "image/png": "[encoded data removed]",
      "text/plain": [
       "<Figure size 640x480 with 1 Axes>"
      ]
     },
     "metadata": {},
     "output_type": "display_data"
    }
   ],
   "source": [
    "df.gender.value_counts().plot(kind='bar')\n",
    "plt.show()"
   ]
  },
  {
   "cell_type": "markdown",
   "id": "9d53de97",
   "metadata": {
    "papermill": {
     "duration": 0.014325,
     "end_time": "2023-07-04T12:30:52.084851",
     "exception": false,
     "start_time": "2023-07-04T12:30:52.070526",
     "status": "completed"
    },
    "tags": []
   },
   "source": [
    "From the bar chart we can se that there is more females than males. Also we can see that there exist other category, supposedly a error in data gathering. We will fix that issue."
   ]
  },
  {
   "cell_type": "code",
   "execution_count": 8,
   "id": "ab30d4ae",
   "metadata": {
    "execution": {
     "iopub.execute_input": "2023-07-04T12:30:52.116376Z",
     "iopub.status.busy": "2023-07-04T12:30:52.115938Z",
     "iopub.status.idle": "2023-07-04T12:30:52.139468Z",
     "shell.execute_reply": "2023-07-04T12:30:52.138272Z"
    },
    "papermill": {
     "duration": 0.042231,
     "end_time": "2023-07-04T12:30:52.141828",
     "exception": false,
     "start_time": "2023-07-04T12:30:52.099597",
     "status": "completed"
    },
    "tags": []
   },
   "outputs": [
    {
     "data": {
      "text/plain": [
       "Female    58552\n",
       "Male      41430\n",
       "Other        18\n",
       "Name: gender, dtype: int64"
      ]
     },
     "execution_count": 8,
     "metadata": {},
     "output_type": "execute_result"
    }
   ],
   "source": [
    "df.gender.value_counts()"
   ]
  },
  {
   "cell_type": "code",
   "execution_count": 9,
   "id": "abc841f2",
   "metadata": {
    "execution": {
     "iopub.execute_input": "2023-07-04T12:30:52.173693Z",
     "iopub.status.busy": "2023-07-04T12:30:52.172789Z",
     "iopub.status.idle": "2023-07-04T12:30:52.207578Z",
     "shell.execute_reply": "2023-07-04T12:30:52.206444Z"
    },
    "papermill": {
     "duration": 0.053852,
     "end_time": "2023-07-04T12:30:52.210353",
     "exception": false,
     "start_time": "2023-07-04T12:30:52.156501",
     "status": "completed"
    },
    "tags": []
   },
   "outputs": [
    {
     "data": {
      "text/html": [
       "<div>\n",
       "<style scoped>\n",
       "    .dataframe tbody tr th:only-of-type {\n",
       "        vertical-align: middle;\n",
       "    }\n",
       "\n",
       "    .dataframe tbody tr th {\n",
       "        vertical-align: top;\n",
       "    }\n",
       "\n",
       "    .dataframe thead th {\n",
       "        text-align: right;\n",
       "    }\n",
       "</style>\n",
       "<table border=\"1\" class=\"dataframe\">\n",
       "  <thead>\n",
       "    <tr style=\"text-align: right;\">\n",
       "      <th></th>\n",
       "      <th>age</th>\n",
       "      <th>hypertension</th>\n",
       "      <th>heart_disease</th>\n",
       "      <th>bmi</th>\n",
       "      <th>HbA1c_level</th>\n",
       "      <th>blood_glucose_level</th>\n",
       "      <th>diabetes</th>\n",
       "    </tr>\n",
       "    <tr>\n",
       "      <th>gender</th>\n",
       "      <th></th>\n",
       "      <th></th>\n",
       "      <th></th>\n",
       "      <th></th>\n",
       "      <th></th>\n",
       "      <th></th>\n",
       "      <th></th>\n",
       "    </tr>\n",
       "  </thead>\n",
       "  <tbody>\n",
       "    <tr>\n",
       "      <th>Female</th>\n",
       "      <td>42.463291</td>\n",
       "      <td>0.071680</td>\n",
       "      <td>0.026677</td>\n",
       "      <td>27.449287</td>\n",
       "      <td>5.509477</td>\n",
       "      <td>137.468951</td>\n",
       "      <td>0.076189</td>\n",
       "    </tr>\n",
       "    <tr>\n",
       "      <th>Male</th>\n",
       "      <td>41.075139</td>\n",
       "      <td>0.079363</td>\n",
       "      <td>0.057446</td>\n",
       "      <td>27.139108</td>\n",
       "      <td>5.553041</td>\n",
       "      <td>138.890031</td>\n",
       "      <td>0.097490</td>\n",
       "    </tr>\n",
       "    <tr>\n",
       "      <th>Other</th>\n",
       "      <td>29.555556</td>\n",
       "      <td>0.000000</td>\n",
       "      <td>0.000000</td>\n",
       "      <td>27.379444</td>\n",
       "      <td>5.405556</td>\n",
       "      <td>139.444444</td>\n",
       "      <td>0.000000</td>\n",
       "    </tr>\n",
       "  </tbody>\n",
       "</table>\n",
       "</div>"
      ],
      "text/plain": [
       "              age  hypertension  heart_disease        bmi  HbA1c_level  \\\n",
       "gender                                                                   \n",
       "Female  42.463291      0.071680       0.026677  27.449287     5.509477   \n",
       "Male    41.075139      0.079363       0.057446  27.139108     5.553041   \n",
       "Other   29.555556      0.000000       0.000000  27.379444     5.405556   \n",
       "\n",
       "        blood_glucose_level  diabetes  \n",
       "gender                                 \n",
       "Female           137.468951  0.076189  \n",
       "Male             138.890031  0.097490  \n",
       "Other            139.444444  0.000000  "
      ]
     },
     "execution_count": 9,
     "metadata": {},
     "output_type": "execute_result"
    }
   ],
   "source": [
    "df.groupby('gender').mean(numeric_only=True)"
   ]
  },
  {
   "cell_type": "code",
   "execution_count": 10,
   "id": "1b1bd377",
   "metadata": {
    "execution": {
     "iopub.execute_input": "2023-07-04T12:30:52.242180Z",
     "iopub.status.busy": "2023-07-04T12:30:52.241785Z",
     "iopub.status.idle": "2023-07-04T12:30:52.291788Z",
     "shell.execute_reply": "2023-07-04T12:30:52.290624Z"
    },
    "papermill": {
     "duration": 0.068875,
     "end_time": "2023-07-04T12:30:52.294305",
     "exception": false,
     "start_time": "2023-07-04T12:30:52.225430",
     "status": "completed"
    },
    "tags": []
   },
   "outputs": [
    {
     "data": {
      "text/html": [
       "<div>\n",
       "<style scoped>\n",
       "    .dataframe tbody tr th:only-of-type {\n",
       "        vertical-align: middle;\n",
       "    }\n",
       "\n",
       "    .dataframe tbody tr th {\n",
       "        vertical-align: top;\n",
       "    }\n",
       "\n",
       "    .dataframe thead th {\n",
       "        text-align: right;\n",
       "    }\n",
       "</style>\n",
       "<table border=\"1\" class=\"dataframe\">\n",
       "  <thead>\n",
       "    <tr style=\"text-align: right;\">\n",
       "      <th>smoking_history</th>\n",
       "      <th>No Info</th>\n",
       "      <th>current</th>\n",
       "      <th>ever</th>\n",
       "      <th>former</th>\n",
       "      <th>never</th>\n",
       "      <th>not current</th>\n",
       "    </tr>\n",
       "    <tr>\n",
       "      <th>gender</th>\n",
       "      <th></th>\n",
       "      <th></th>\n",
       "      <th></th>\n",
       "      <th></th>\n",
       "      <th></th>\n",
       "      <th></th>\n",
       "    </tr>\n",
       "  </thead>\n",
       "  <tbody>\n",
       "    <tr>\n",
       "      <th>Female</th>\n",
       "      <td>19700</td>\n",
       "      <td>5058</td>\n",
       "      <td>2238</td>\n",
       "      <td>4774</td>\n",
       "      <td>22869</td>\n",
       "      <td>3913</td>\n",
       "    </tr>\n",
       "    <tr>\n",
       "      <th>Male</th>\n",
       "      <td>16110</td>\n",
       "      <td>4228</td>\n",
       "      <td>1765</td>\n",
       "      <td>4578</td>\n",
       "      <td>12223</td>\n",
       "      <td>2526</td>\n",
       "    </tr>\n",
       "    <tr>\n",
       "      <th>Other</th>\n",
       "      <td>6</td>\n",
       "      <td>0</td>\n",
       "      <td>1</td>\n",
       "      <td>0</td>\n",
       "      <td>3</td>\n",
       "      <td>8</td>\n",
       "    </tr>\n",
       "  </tbody>\n",
       "</table>\n",
       "</div>"
      ],
      "text/plain": [
       "smoking_history  No Info  current  ever  former  never  not current\n",
       "gender                                                             \n",
       "Female             19700     5058  2238    4774  22869         3913\n",
       "Male               16110     4228  1765    4578  12223         2526\n",
       "Other                  6        0     1       0      3            8"
      ]
     },
     "execution_count": 10,
     "metadata": {},
     "output_type": "execute_result"
    }
   ],
   "source": [
    "pd.crosstab(df.gender, df.smoking_history)"
   ]
  },
  {
   "cell_type": "markdown",
   "id": "dc307fe7",
   "metadata": {
    "papermill": {
     "duration": 0.01491,
     "end_time": "2023-07-04T12:30:52.324369",
     "exception": false,
     "start_time": "2023-07-04T12:30:52.309459",
     "status": "completed"
    },
    "tags": []
   },
   "source": [
    "Because the lack of correlation between `gender` and other variables, we can not fix by this values by hand. Beacuse there is only 18 `Other` values, we will set them to most frequent cateogory, `Female`."
   ]
  },
  {
   "cell_type": "code",
   "execution_count": 11,
   "id": "4ff5f2b2",
   "metadata": {
    "execution": {
     "iopub.execute_input": "2023-07-04T12:30:52.357487Z",
     "iopub.status.busy": "2023-07-04T12:30:52.357064Z",
     "iopub.status.idle": "2023-07-04T12:30:52.381178Z",
     "shell.execute_reply": "2023-07-04T12:30:52.380370Z"
    },
    "papermill": {
     "duration": 0.043599,
     "end_time": "2023-07-04T12:30:52.383490",
     "exception": false,
     "start_time": "2023-07-04T12:30:52.339891",
     "status": "completed"
    },
    "tags": []
   },
   "outputs": [],
   "source": [
    "df.loc[df.gender=='Other', 'gender']='Female'"
   ]
  },
  {
   "cell_type": "code",
   "execution_count": 12,
   "id": "f64027cf",
   "metadata": {
    "execution": {
     "iopub.execute_input": "2023-07-04T12:30:52.416094Z",
     "iopub.status.busy": "2023-07-04T12:30:52.415141Z",
     "iopub.status.idle": "2023-07-04T12:30:52.650427Z",
     "shell.execute_reply": "2023-07-04T12:30:52.649258Z"
    },
    "papermill": {
     "duration": 0.254154,
     "end_time": "2023-07-04T12:30:52.652997",
     "exception": false,
     "start_time": "2023-07-04T12:30:52.398843",
     "status": "completed"
    },
    "tags": []
   },
   "outputs": [
    {
     "data": {
      "image/png": "[encoded data removed]",
      "text/plain": [
       "<Figure size 640x480 with 1 Axes>"
      ]
     },
     "metadata": {},
     "output_type": "display_data"
    }
   ],
   "source": [
    "df.gender.value_counts().plot(kind='bar')\n",
    "plt.show()"
   ]
  },
  {
   "cell_type": "code",
   "execution_count": 13,
   "id": "ee74213a",
   "metadata": {
    "execution": {
     "iopub.execute_input": "2023-07-04T12:30:52.686716Z",
     "iopub.status.busy": "2023-07-04T12:30:52.686273Z",
     "iopub.status.idle": "2023-07-04T12:30:52.940476Z",
     "shell.execute_reply": "2023-07-04T12:30:52.939424Z"
    },
    "papermill": {
     "duration": 0.273963,
     "end_time": "2023-07-04T12:30:52.943000",
     "exception": false,
     "start_time": "2023-07-04T12:30:52.669037",
     "status": "completed"
    },
    "tags": []
   },
   "outputs": [
    {
     "data": {
      "image/png": "[encoded data removed]",
      "text/plain": [
       "<Figure size 640x480 with 1 Axes>"
      ]
     },
     "metadata": {},
     "output_type": "display_data"
    }
   ],
   "source": [
    "df.groupby('diabetes')['gender'].value_counts().plot(kind='bar')\n",
    "plt.show()"
   ]
  },
  {
   "cell_type": "code",
   "execution_count": 14,
   "id": "cc143472",
   "metadata": {
    "execution": {
     "iopub.execute_input": "2023-07-04T12:30:52.976760Z",
     "iopub.status.busy": "2023-07-04T12:30:52.976327Z",
     "iopub.status.idle": "2023-07-04T12:30:53.010884Z",
     "shell.execute_reply": "2023-07-04T12:30:53.009830Z"
    },
    "papermill": {
     "duration": 0.054253,
     "end_time": "2023-07-04T12:30:53.013273",
     "exception": false,
     "start_time": "2023-07-04T12:30:52.959020",
     "status": "completed"
    },
    "tags": []
   },
   "outputs": [
    {
     "data": {
      "text/plain": [
       "1.188732885582169e-32"
      ]
     },
     "execution_count": 14,
     "metadata": {},
     "output_type": "execute_result"
    }
   ],
   "source": [
    "from scipy.stats import chi2_contingency\n",
    "ops = pd.crosstab(df.diabetes, df.gender)\n",
    "chi, p, dof, ex = chi2_contingency(ops)\n",
    "p"
   ]
  },
  {
   "cell_type": "markdown",
   "id": "2fd67a24",
   "metadata": {
    "papermill": {
     "duration": 0.015863,
     "end_time": "2023-07-04T12:30:53.045144",
     "exception": false,
     "start_time": "2023-07-04T12:30:53.029281",
     "status": "completed"
    },
    "tags": []
   },
   "source": [
    "We have also used chi2 test to find out if there is correlation between output and these variable, and there surley is. After finishing review of categorical data we can proceed on analysing numerical data. Because there is binary values and ordinary numerical values, we will have two separate analysis. First we will see what is happening with"
   ]
  },
  {
   "cell_type": "code",
   "execution_count": 15,
   "id": "58ef8086",
   "metadata": {
    "execution": {
     "iopub.execute_input": "2023-07-04T12:30:53.079219Z",
     "iopub.status.busy": "2023-07-04T12:30:53.078848Z",
     "iopub.status.idle": "2023-07-04T12:30:53.137713Z",
     "shell.execute_reply": "2023-07-04T12:30:53.136599Z"
    },
    "papermill": {
     "duration": 0.080602,
     "end_time": "2023-07-04T12:30:53.141714",
     "exception": false,
     "start_time": "2023-07-04T12:30:53.061112",
     "status": "completed"
    },
    "tags": []
   },
   "outputs": [
    {
     "data": {
      "text/html": [
       "<div>\n",
       "<style scoped>\n",
       "    .dataframe tbody tr th:only-of-type {\n",
       "        vertical-align: middle;\n",
       "    }\n",
       "\n",
       "    .dataframe tbody tr th {\n",
       "        vertical-align: top;\n",
       "    }\n",
       "\n",
       "    .dataframe thead th {\n",
       "        text-align: right;\n",
       "    }\n",
       "</style>\n",
       "<table border=\"1\" class=\"dataframe\">\n",
       "  <thead>\n",
       "    <tr style=\"text-align: right;\">\n",
       "      <th></th>\n",
       "      <th>age</th>\n",
       "      <th>hypertension</th>\n",
       "      <th>heart_disease</th>\n",
       "      <th>bmi</th>\n",
       "      <th>HbA1c_level</th>\n",
       "      <th>blood_glucose_level</th>\n",
       "      <th>diabetes</th>\n",
       "    </tr>\n",
       "  </thead>\n",
       "  <tbody>\n",
       "    <tr>\n",
       "      <th>count</th>\n",
       "      <td>100000.000000</td>\n",
       "      <td>100000.00000</td>\n",
       "      <td>100000.000000</td>\n",
       "      <td>100000.000000</td>\n",
       "      <td>100000.000000</td>\n",
       "      <td>100000.000000</td>\n",
       "      <td>100000.000000</td>\n",
       "    </tr>\n",
       "    <tr>\n",
       "      <th>mean</th>\n",
       "      <td>41.885856</td>\n",
       "      <td>0.07485</td>\n",
       "      <td>0.039420</td>\n",
       "      <td>27.320767</td>\n",
       "      <td>5.527507</td>\n",
       "      <td>138.058060</td>\n",
       "      <td>0.085000</td>\n",
       "    </tr>\n",
       "    <tr>\n",
       "      <th>std</th>\n",
       "      <td>22.516840</td>\n",
       "      <td>0.26315</td>\n",
       "      <td>0.194593</td>\n",
       "      <td>6.636783</td>\n",
       "      <td>1.070672</td>\n",
       "      <td>40.708136</td>\n",
       "      <td>0.278883</td>\n",
       "    </tr>\n",
       "    <tr>\n",
       "      <th>min</th>\n",
       "      <td>0.080000</td>\n",
       "      <td>0.00000</td>\n",
       "      <td>0.000000</td>\n",
       "      <td>10.010000</td>\n",
       "      <td>3.500000</td>\n",
       "      <td>80.000000</td>\n",
       "      <td>0.000000</td>\n",
       "    </tr>\n",
       "    <tr>\n",
       "      <th>25%</th>\n",
       "      <td>24.000000</td>\n",
       "      <td>0.00000</td>\n",
       "      <td>0.000000</td>\n",
       "      <td>23.630000</td>\n",
       "      <td>4.800000</td>\n",
       "      <td>100.000000</td>\n",
       "      <td>0.000000</td>\n",
       "    </tr>\n",
       "    <tr>\n",
       "      <th>50%</th>\n",
       "      <td>43.000000</td>\n",
       "      <td>0.00000</td>\n",
       "      <td>0.000000</td>\n",
       "      <td>27.320000</td>\n",
       "      <td>5.800000</td>\n",
       "      <td>140.000000</td>\n",
       "      <td>0.000000</td>\n",
       "    </tr>\n",
       "    <tr>\n",
       "      <th>75%</th>\n",
       "      <td>60.000000</td>\n",
       "      <td>0.00000</td>\n",
       "      <td>0.000000</td>\n",
       "      <td>29.580000</td>\n",
       "      <td>6.200000</td>\n",
       "      <td>159.000000</td>\n",
       "      <td>0.000000</td>\n",
       "    </tr>\n",
       "    <tr>\n",
       "      <th>max</th>\n",
       "      <td>80.000000</td>\n",
       "      <td>1.00000</td>\n",
       "      <td>1.000000</td>\n",
       "      <td>95.690000</td>\n",
       "      <td>9.000000</td>\n",
       "      <td>300.000000</td>\n",
       "      <td>1.000000</td>\n",
       "    </tr>\n",
       "  </tbody>\n",
       "</table>\n",
       "</div>"
      ],
      "text/plain": [
       "                 age  hypertension  heart_disease            bmi  \\\n",
       "count  100000.000000  100000.00000  100000.000000  100000.000000   \n",
       "mean       41.885856       0.07485       0.039420      27.320767   \n",
       "std        22.516840       0.26315       0.194593       6.636783   \n",
       "min         0.080000       0.00000       0.000000      10.010000   \n",
       "25%        24.000000       0.00000       0.000000      23.630000   \n",
       "50%        43.000000       0.00000       0.000000      27.320000   \n",
       "75%        60.000000       0.00000       0.000000      29.580000   \n",
       "max        80.000000       1.00000       1.000000      95.690000   \n",
       "\n",
       "         HbA1c_level  blood_glucose_level       diabetes  \n",
       "count  100000.000000        100000.000000  100000.000000  \n",
       "mean        5.527507           138.058060       0.085000  \n",
       "std         1.070672            40.708136       0.278883  \n",
       "min         3.500000            80.000000       0.000000  \n",
       "25%         4.800000           100.000000       0.000000  \n",
       "50%         5.800000           140.000000       0.000000  \n",
       "75%         6.200000           159.000000       0.000000  \n",
       "max         9.000000           300.000000       1.000000  "
      ]
     },
     "execution_count": 15,
     "metadata": {},
     "output_type": "execute_result"
    }
   ],
   "source": [
    "df.describe()"
   ]
  },
  {
   "cell_type": "code",
   "execution_count": 16,
   "id": "90b6d868",
   "metadata": {
    "execution": {
     "iopub.execute_input": "2023-07-04T12:30:53.177873Z",
     "iopub.status.busy": "2023-07-04T12:30:53.177488Z",
     "iopub.status.idle": "2023-07-04T12:30:54.078009Z",
     "shell.execute_reply": "2023-07-04T12:30:54.076801Z"
    },
    "papermill": {
     "duration": 0.921169,
     "end_time": "2023-07-04T12:30:54.080384",
     "exception": false,
     "start_time": "2023-07-04T12:30:53.159215",
     "status": "completed"
    },
    "tags": []
   },
   "outputs": [
    {
     "data": {
      "image/png": "[encoded data removed]",
      "text/plain": [
       "<Figure size 1200x600 with 4 Axes>"
      ]
     },
     "metadata": {},
     "output_type": "display_data"
    }
   ],
   "source": [
    "df[['age','bmi','HbA1c_level','blood_glucose_level']].hist(figsize=(12,6))\n",
    "plt.show()"
   ]
  },
  {
   "cell_type": "code",
   "execution_count": 17,
   "id": "bba69863",
   "metadata": {
    "execution": {
     "iopub.execute_input": "2023-07-04T12:30:54.116632Z",
     "iopub.status.busy": "2023-07-04T12:30:54.116202Z",
     "iopub.status.idle": "2023-07-04T12:30:54.515464Z",
     "shell.execute_reply": "2023-07-04T12:30:54.509944Z"
    },
    "papermill": {
     "duration": 0.421154,
     "end_time": "2023-07-04T12:30:54.518771",
     "exception": false,
     "start_time": "2023-07-04T12:30:54.097617",
     "status": "completed"
    },
    "tags": []
   },
   "outputs": [
    {
     "data": {
      "image/png": "[encoded data removed]",
      "text/plain": [
       "<Figure size 2000x1000 with 1 Axes>"
      ]
     },
     "metadata": {},
     "output_type": "display_data"
    }
   ],
   "source": [
    "df[['age','bmi','HbA1c_level','blood_glucose_level']].plot(kind='box', figsize=(20,10))\n",
    "plt.show()"
   ]
  },
  {
   "cell_type": "markdown",
   "id": "46f63ff6",
   "metadata": {
    "papermill": {
     "duration": 0.019327,
     "end_time": "2023-07-04T12:30:54.563511",
     "exception": false,
     "start_time": "2023-07-04T12:30:54.544184",
     "status": "completed"
    },
    "tags": []
   },
   "source": [
    "First thing that we can see is that variable bmi has many outliers. We will leave them for now, becuase we must consider a multivariable outlier analysis later. Other variables have normal results, some of which have few outliers, but nothing strange. We can continue analysing binary variables."
   ]
  },
  {
   "cell_type": "code",
   "execution_count": 18,
   "id": "0233abbb",
   "metadata": {
    "execution": {
     "iopub.execute_input": "2023-07-04T12:30:54.600897Z",
     "iopub.status.busy": "2023-07-04T12:30:54.600477Z",
     "iopub.status.idle": "2023-07-04T12:30:54.609988Z",
     "shell.execute_reply": "2023-07-04T12:30:54.609143Z"
    },
    "papermill": {
     "duration": 0.031575,
     "end_time": "2023-07-04T12:30:54.612726",
     "exception": false,
     "start_time": "2023-07-04T12:30:54.581151",
     "status": "completed"
    },
    "tags": []
   },
   "outputs": [
    {
     "data": {
      "text/plain": [
       "0    0.915\n",
       "1    0.085\n",
       "Name: diabetes, dtype: float64"
      ]
     },
     "execution_count": 18,
     "metadata": {},
     "output_type": "execute_result"
    }
   ],
   "source": [
    "df.diabetes.value_counts(normalize=True)"
   ]
  },
  {
   "cell_type": "code",
   "execution_count": 19,
   "id": "74969d78",
   "metadata": {
    "execution": {
     "iopub.execute_input": "2023-07-04T12:30:54.656484Z",
     "iopub.status.busy": "2023-07-04T12:30:54.655196Z",
     "iopub.status.idle": "2023-07-04T12:30:54.667270Z",
     "shell.execute_reply": "2023-07-04T12:30:54.666270Z"
    },
    "papermill": {
     "duration": 0.033856,
     "end_time": "2023-07-04T12:30:54.669553",
     "exception": false,
     "start_time": "2023-07-04T12:30:54.635697",
     "status": "completed"
    },
    "tags": []
   },
   "outputs": [
    {
     "data": {
      "text/plain": [
       "0    0.92515\n",
       "1    0.07485\n",
       "Name: hypertension, dtype: float64"
      ]
     },
     "execution_count": 19,
     "metadata": {},
     "output_type": "execute_result"
    }
   ],
   "source": [
    "df.hypertension.value_counts(normalize=True)"
   ]
  },
  {
   "cell_type": "code",
   "execution_count": 20,
   "id": "816644fd",
   "metadata": {
    "execution": {
     "iopub.execute_input": "2023-07-04T12:30:54.711240Z",
     "iopub.status.busy": "2023-07-04T12:30:54.710534Z",
     "iopub.status.idle": "2023-07-04T12:30:54.721585Z",
     "shell.execute_reply": "2023-07-04T12:30:54.720561Z"
    },
    "papermill": {
     "duration": 0.033321,
     "end_time": "2023-07-04T12:30:54.724022",
     "exception": false,
     "start_time": "2023-07-04T12:30:54.690701",
     "status": "completed"
    },
    "tags": []
   },
   "outputs": [
    {
     "data": {
      "text/plain": [
       "0    0.96058\n",
       "1    0.03942\n",
       "Name: heart_disease, dtype: float64"
      ]
     },
     "execution_count": 20,
     "metadata": {},
     "output_type": "execute_result"
    }
   ],
   "source": [
    "df.heart_disease.value_counts(normalize=True)"
   ]
  },
  {
   "cell_type": "code",
   "execution_count": 21,
   "id": "ee8e93ac",
   "metadata": {
    "execution": {
     "iopub.execute_input": "2023-07-04T12:30:54.768651Z",
     "iopub.status.busy": "2023-07-04T12:30:54.767568Z",
     "iopub.status.idle": "2023-07-04T12:30:54.805653Z",
     "shell.execute_reply": "2023-07-04T12:30:54.804761Z"
    },
    "papermill": {
     "duration": 0.066398,
     "end_time": "2023-07-04T12:30:54.809004",
     "exception": false,
     "start_time": "2023-07-04T12:30:54.742606",
     "status": "completed"
    },
    "tags": []
   },
   "outputs": [
    {
     "data": {
      "text/html": [
       "<div>\n",
       "<style scoped>\n",
       "    .dataframe tbody tr th:only-of-type {\n",
       "        vertical-align: middle;\n",
       "    }\n",
       "\n",
       "    .dataframe tbody tr th {\n",
       "        vertical-align: top;\n",
       "    }\n",
       "\n",
       "    .dataframe thead th {\n",
       "        text-align: right;\n",
       "    }\n",
       "</style>\n",
       "<table border=\"1\" class=\"dataframe\">\n",
       "  <thead>\n",
       "    <tr style=\"text-align: right;\">\n",
       "      <th>hypertension</th>\n",
       "      <th>0</th>\n",
       "      <th>1</th>\n",
       "    </tr>\n",
       "    <tr>\n",
       "      <th>diabetes</th>\n",
       "      <th></th>\n",
       "      <th></th>\n",
       "    </tr>\n",
       "  </thead>\n",
       "  <tbody>\n",
       "    <tr>\n",
       "      <th>0</th>\n",
       "      <td>0.930692</td>\n",
       "      <td>0.721042</td>\n",
       "    </tr>\n",
       "    <tr>\n",
       "      <th>1</th>\n",
       "      <td>0.069308</td>\n",
       "      <td>0.278958</td>\n",
       "    </tr>\n",
       "  </tbody>\n",
       "</table>\n",
       "</div>"
      ],
      "text/plain": [
       "hypertension         0         1\n",
       "diabetes                        \n",
       "0             0.930692  0.721042\n",
       "1             0.069308  0.278958"
      ]
     },
     "execution_count": 21,
     "metadata": {},
     "output_type": "execute_result"
    }
   ],
   "source": [
    "pd.crosstab(index=df.diabetes, columns=df.hypertension, normalize='columns')"
   ]
  },
  {
   "cell_type": "code",
   "execution_count": 22,
   "id": "bcb6ba52",
   "metadata": {
    "execution": {
     "iopub.execute_input": "2023-07-04T12:30:54.854458Z",
     "iopub.status.busy": "2023-07-04T12:30:54.853670Z",
     "iopub.status.idle": "2023-07-04T12:30:54.867179Z",
     "shell.execute_reply": "2023-07-04T12:30:54.866022Z"
    },
    "papermill": {
     "duration": 0.037571,
     "end_time": "2023-07-04T12:30:54.870975",
     "exception": false,
     "start_time": "2023-07-04T12:30:54.833404",
     "status": "completed"
    },
    "tags": []
   },
   "outputs": [
    {
     "name": "stdout",
     "output_type": "stream",
     "text": [
      "Coef. correlation: 0.1717268495488512, p-value: 0.0\n"
     ]
    }
   ],
   "source": [
    "from scipy.stats import pearsonr\n",
    "r, p = pearsonr(df.diabetes, df.heart_disease)\n",
    "print(f'Coef. correlation: {r}, p-value: {p}')"
   ]
  },
  {
   "cell_type": "code",
   "execution_count": 23,
   "id": "03e9ece2",
   "metadata": {
    "execution": {
     "iopub.execute_input": "2023-07-04T12:30:54.951202Z",
     "iopub.status.busy": "2023-07-04T12:30:54.950539Z",
     "iopub.status.idle": "2023-07-04T12:30:54.967320Z",
     "shell.execute_reply": "2023-07-04T12:30:54.966124Z"
    },
    "papermill": {
     "duration": 0.06178,
     "end_time": "2023-07-04T12:30:54.971553",
     "exception": false,
     "start_time": "2023-07-04T12:30:54.909773",
     "status": "completed"
    },
    "tags": []
   },
   "outputs": [
    {
     "name": "stdout",
     "output_type": "stream",
     "text": [
      "Coef. correlation: 0.1978232464080518, p-value: 0.0\n"
     ]
    }
   ],
   "source": [
    "r, p = pearsonr(df.diabetes, df.hypertension)\n",
    "print(f'Coef. correlation: {r}, p-value: {p}')"
   ]
  },
  {
   "cell_type": "markdown",
   "id": "5bf842c2",
   "metadata": {
    "papermill": {
     "duration": 0.040072,
     "end_time": "2023-07-04T12:30:55.052117",
     "exception": false,
     "start_time": "2023-07-04T12:30:55.012045",
     "status": "completed"
    },
    "tags": []
   },
   "source": [
    "First of all we can see that we have huge class imbalance in this dataset, where only 5% of the people have diabetes. So we can say that accuracy for this classification problem will not be useful for evaulation. Also we can see that there is correlation between output and input binary variables with pearson correlation coeffietient. This is important because we can see that this variables have high impact on output.\n",
    "Next stage is transforming cateogorical into numerical data."
   ]
  },
  {
   "cell_type": "code",
   "execution_count": 24,
   "id": "33935368",
   "metadata": {
    "execution": {
     "iopub.execute_input": "2023-07-04T12:30:55.107071Z",
     "iopub.status.busy": "2023-07-04T12:30:55.106655Z",
     "iopub.status.idle": "2023-07-04T12:30:55.190761Z",
     "shell.execute_reply": "2023-07-04T12:30:55.189499Z"
    },
    "papermill": {
     "duration": 0.107156,
     "end_time": "2023-07-04T12:30:55.193804",
     "exception": false,
     "start_time": "2023-07-04T12:30:55.086648",
     "status": "completed"
    },
    "tags": []
   },
   "outputs": [],
   "source": [
    "df.gender=df.gender.apply(lambda x: 1 if x == 'Female' else 0)"
   ]
  },
  {
   "cell_type": "code",
   "execution_count": 25,
   "id": "c998dfec",
   "metadata": {
    "execution": {
     "iopub.execute_input": "2023-07-04T12:30:55.233404Z",
     "iopub.status.busy": "2023-07-04T12:30:55.232553Z",
     "iopub.status.idle": "2023-07-04T12:30:55.484695Z",
     "shell.execute_reply": "2023-07-04T12:30:55.483437Z"
    },
    "papermill": {
     "duration": 0.274854,
     "end_time": "2023-07-04T12:30:55.487284",
     "exception": false,
     "start_time": "2023-07-04T12:30:55.212430",
     "status": "completed"
    },
    "tags": []
   },
   "outputs": [
    {
     "data": {
      "text/html": [
       "<div>\n",
       "<style scoped>\n",
       "    .dataframe tbody tr th:only-of-type {\n",
       "        vertical-align: middle;\n",
       "    }\n",
       "\n",
       "    .dataframe tbody tr th {\n",
       "        vertical-align: top;\n",
       "    }\n",
       "\n",
       "    .dataframe thead th {\n",
       "        text-align: right;\n",
       "    }\n",
       "</style>\n",
       "<table border=\"1\" class=\"dataframe\">\n",
       "  <thead>\n",
       "    <tr style=\"text-align: right;\">\n",
       "      <th></th>\n",
       "      <th>No Info</th>\n",
       "      <th>current</th>\n",
       "      <th>ever</th>\n",
       "      <th>former</th>\n",
       "      <th>never</th>\n",
       "      <th>not current</th>\n",
       "    </tr>\n",
       "  </thead>\n",
       "  <tbody>\n",
       "    <tr>\n",
       "      <th>0</th>\n",
       "      <td>0.0</td>\n",
       "      <td>0.0</td>\n",
       "      <td>0.0</td>\n",
       "      <td>0.0</td>\n",
       "      <td>1.0</td>\n",
       "      <td>0.0</td>\n",
       "    </tr>\n",
       "    <tr>\n",
       "      <th>1</th>\n",
       "      <td>1.0</td>\n",
       "      <td>0.0</td>\n",
       "      <td>0.0</td>\n",
       "      <td>0.0</td>\n",
       "      <td>0.0</td>\n",
       "      <td>0.0</td>\n",
       "    </tr>\n",
       "    <tr>\n",
       "      <th>2</th>\n",
       "      <td>0.0</td>\n",
       "      <td>0.0</td>\n",
       "      <td>0.0</td>\n",
       "      <td>0.0</td>\n",
       "      <td>1.0</td>\n",
       "      <td>0.0</td>\n",
       "    </tr>\n",
       "    <tr>\n",
       "      <th>3</th>\n",
       "      <td>0.0</td>\n",
       "      <td>1.0</td>\n",
       "      <td>0.0</td>\n",
       "      <td>0.0</td>\n",
       "      <td>0.0</td>\n",
       "      <td>0.0</td>\n",
       "    </tr>\n",
       "    <tr>\n",
       "      <th>4</th>\n",
       "      <td>0.0</td>\n",
       "      <td>1.0</td>\n",
       "      <td>0.0</td>\n",
       "      <td>0.0</td>\n",
       "      <td>0.0</td>\n",
       "      <td>0.0</td>\n",
       "    </tr>\n",
       "    <tr>\n",
       "      <th>...</th>\n",
       "      <td>...</td>\n",
       "      <td>...</td>\n",
       "      <td>...</td>\n",
       "      <td>...</td>\n",
       "      <td>...</td>\n",
       "      <td>...</td>\n",
       "    </tr>\n",
       "    <tr>\n",
       "      <th>99995</th>\n",
       "      <td>1.0</td>\n",
       "      <td>0.0</td>\n",
       "      <td>0.0</td>\n",
       "      <td>0.0</td>\n",
       "      <td>0.0</td>\n",
       "      <td>0.0</td>\n",
       "    </tr>\n",
       "    <tr>\n",
       "      <th>99996</th>\n",
       "      <td>1.0</td>\n",
       "      <td>0.0</td>\n",
       "      <td>0.0</td>\n",
       "      <td>0.0</td>\n",
       "      <td>0.0</td>\n",
       "      <td>0.0</td>\n",
       "    </tr>\n",
       "    <tr>\n",
       "      <th>99997</th>\n",
       "      <td>0.0</td>\n",
       "      <td>0.0</td>\n",
       "      <td>0.0</td>\n",
       "      <td>1.0</td>\n",
       "      <td>0.0</td>\n",
       "      <td>0.0</td>\n",
       "    </tr>\n",
       "    <tr>\n",
       "      <th>99998</th>\n",
       "      <td>0.0</td>\n",
       "      <td>0.0</td>\n",
       "      <td>0.0</td>\n",
       "      <td>0.0</td>\n",
       "      <td>1.0</td>\n",
       "      <td>0.0</td>\n",
       "    </tr>\n",
       "    <tr>\n",
       "      <th>99999</th>\n",
       "      <td>0.0</td>\n",
       "      <td>1.0</td>\n",
       "      <td>0.0</td>\n",
       "      <td>0.0</td>\n",
       "      <td>0.0</td>\n",
       "      <td>0.0</td>\n",
       "    </tr>\n",
       "  </tbody>\n",
       "</table>\n",
       "<p>100000 rows × 6 columns</p>\n",
       "</div>"
      ],
      "text/plain": [
       "       No Info  current  ever  former  never  not current\n",
       "0          0.0      0.0   0.0     0.0    1.0          0.0\n",
       "1          1.0      0.0   0.0     0.0    0.0          0.0\n",
       "2          0.0      0.0   0.0     0.0    1.0          0.0\n",
       "3          0.0      1.0   0.0     0.0    0.0          0.0\n",
       "4          0.0      1.0   0.0     0.0    0.0          0.0\n",
       "...        ...      ...   ...     ...    ...          ...\n",
       "99995      1.0      0.0   0.0     0.0    0.0          0.0\n",
       "99996      1.0      0.0   0.0     0.0    0.0          0.0\n",
       "99997      0.0      0.0   0.0     1.0    0.0          0.0\n",
       "99998      0.0      0.0   0.0     0.0    1.0          0.0\n",
       "99999      0.0      1.0   0.0     0.0    0.0          0.0\n",
       "\n",
       "[100000 rows x 6 columns]"
      ]
     },
     "execution_count": 25,
     "metadata": {},
     "output_type": "execute_result"
    }
   ],
   "source": [
    "from sklearn.preprocessing import OneHotEncoder\n",
    "encoder = OneHotEncoder()\n",
    "ohe=encoder.fit_transform(df[['smoking_history']]).toarray()\n",
    "labels=encoder.categories_\n",
    "feat_labels=np.concatenate(labels)\n",
    "ohc_df=pd.DataFrame(data=ohe, columns=feat_labels)\n",
    "ohc_df"
   ]
  },
  {
   "cell_type": "code",
   "execution_count": 26,
   "id": "b2f863df",
   "metadata": {
    "execution": {
     "iopub.execute_input": "2023-07-04T12:30:55.527154Z",
     "iopub.status.busy": "2023-07-04T12:30:55.526731Z",
     "iopub.status.idle": "2023-07-04T12:30:55.578092Z",
     "shell.execute_reply": "2023-07-04T12:30:55.576768Z"
    },
    "papermill": {
     "duration": 0.074508,
     "end_time": "2023-07-04T12:30:55.580722",
     "exception": false,
     "start_time": "2023-07-04T12:30:55.506214",
     "status": "completed"
    },
    "tags": []
   },
   "outputs": [
    {
     "data": {
      "text/html": [
       "<div>\n",
       "<style scoped>\n",
       "    .dataframe tbody tr th:only-of-type {\n",
       "        vertical-align: middle;\n",
       "    }\n",
       "\n",
       "    .dataframe tbody tr th {\n",
       "        vertical-align: top;\n",
       "    }\n",
       "\n",
       "    .dataframe thead th {\n",
       "        text-align: right;\n",
       "    }\n",
       "</style>\n",
       "<table border=\"1\" class=\"dataframe\">\n",
       "  <thead>\n",
       "    <tr style=\"text-align: right;\">\n",
       "      <th></th>\n",
       "      <th>gender</th>\n",
       "      <th>age</th>\n",
       "      <th>hypertension</th>\n",
       "      <th>heart_disease</th>\n",
       "      <th>bmi</th>\n",
       "      <th>HbA1c_level</th>\n",
       "      <th>blood_glucose_level</th>\n",
       "      <th>diabetes</th>\n",
       "      <th>No Info</th>\n",
       "      <th>current</th>\n",
       "      <th>ever</th>\n",
       "      <th>former</th>\n",
       "      <th>never</th>\n",
       "      <th>not current</th>\n",
       "    </tr>\n",
       "  </thead>\n",
       "  <tbody>\n",
       "    <tr>\n",
       "      <th>0</th>\n",
       "      <td>1</td>\n",
       "      <td>80.0</td>\n",
       "      <td>0</td>\n",
       "      <td>1</td>\n",
       "      <td>25.19</td>\n",
       "      <td>6.6</td>\n",
       "      <td>140</td>\n",
       "      <td>0</td>\n",
       "      <td>0.0</td>\n",
       "      <td>0.0</td>\n",
       "      <td>0.0</td>\n",
       "      <td>0.0</td>\n",
       "      <td>1.0</td>\n",
       "      <td>0.0</td>\n",
       "    </tr>\n",
       "    <tr>\n",
       "      <th>1</th>\n",
       "      <td>1</td>\n",
       "      <td>54.0</td>\n",
       "      <td>0</td>\n",
       "      <td>0</td>\n",
       "      <td>27.32</td>\n",
       "      <td>6.6</td>\n",
       "      <td>80</td>\n",
       "      <td>0</td>\n",
       "      <td>1.0</td>\n",
       "      <td>0.0</td>\n",
       "      <td>0.0</td>\n",
       "      <td>0.0</td>\n",
       "      <td>0.0</td>\n",
       "      <td>0.0</td>\n",
       "    </tr>\n",
       "    <tr>\n",
       "      <th>2</th>\n",
       "      <td>0</td>\n",
       "      <td>28.0</td>\n",
       "      <td>0</td>\n",
       "      <td>0</td>\n",
       "      <td>27.32</td>\n",
       "      <td>5.7</td>\n",
       "      <td>158</td>\n",
       "      <td>0</td>\n",
       "      <td>0.0</td>\n",
       "      <td>0.0</td>\n",
       "      <td>0.0</td>\n",
       "      <td>0.0</td>\n",
       "      <td>1.0</td>\n",
       "      <td>0.0</td>\n",
       "    </tr>\n",
       "    <tr>\n",
       "      <th>3</th>\n",
       "      <td>1</td>\n",
       "      <td>36.0</td>\n",
       "      <td>0</td>\n",
       "      <td>0</td>\n",
       "      <td>23.45</td>\n",
       "      <td>5.0</td>\n",
       "      <td>155</td>\n",
       "      <td>0</td>\n",
       "      <td>0.0</td>\n",
       "      <td>1.0</td>\n",
       "      <td>0.0</td>\n",
       "      <td>0.0</td>\n",
       "      <td>0.0</td>\n",
       "      <td>0.0</td>\n",
       "    </tr>\n",
       "    <tr>\n",
       "      <th>4</th>\n",
       "      <td>0</td>\n",
       "      <td>76.0</td>\n",
       "      <td>1</td>\n",
       "      <td>1</td>\n",
       "      <td>20.14</td>\n",
       "      <td>4.8</td>\n",
       "      <td>155</td>\n",
       "      <td>0</td>\n",
       "      <td>0.0</td>\n",
       "      <td>1.0</td>\n",
       "      <td>0.0</td>\n",
       "      <td>0.0</td>\n",
       "      <td>0.0</td>\n",
       "      <td>0.0</td>\n",
       "    </tr>\n",
       "    <tr>\n",
       "      <th>...</th>\n",
       "      <td>...</td>\n",
       "      <td>...</td>\n",
       "      <td>...</td>\n",
       "      <td>...</td>\n",
       "      <td>...</td>\n",
       "      <td>...</td>\n",
       "      <td>...</td>\n",
       "      <td>...</td>\n",
       "      <td>...</td>\n",
       "      <td>...</td>\n",
       "      <td>...</td>\n",
       "      <td>...</td>\n",
       "      <td>...</td>\n",
       "      <td>...</td>\n",
       "    </tr>\n",
       "    <tr>\n",
       "      <th>99995</th>\n",
       "      <td>1</td>\n",
       "      <td>80.0</td>\n",
       "      <td>0</td>\n",
       "      <td>0</td>\n",
       "      <td>27.32</td>\n",
       "      <td>6.2</td>\n",
       "      <td>90</td>\n",
       "      <td>0</td>\n",
       "      <td>1.0</td>\n",
       "      <td>0.0</td>\n",
       "      <td>0.0</td>\n",
       "      <td>0.0</td>\n",
       "      <td>0.0</td>\n",
       "      <td>0.0</td>\n",
       "    </tr>\n",
       "    <tr>\n",
       "      <th>99996</th>\n",
       "      <td>1</td>\n",
       "      <td>2.0</td>\n",
       "      <td>0</td>\n",
       "      <td>0</td>\n",
       "      <td>17.37</td>\n",
       "      <td>6.5</td>\n",
       "      <td>100</td>\n",
       "      <td>0</td>\n",
       "      <td>1.0</td>\n",
       "      <td>0.0</td>\n",
       "      <td>0.0</td>\n",
       "      <td>0.0</td>\n",
       "      <td>0.0</td>\n",
       "      <td>0.0</td>\n",
       "    </tr>\n",
       "    <tr>\n",
       "      <th>99997</th>\n",
       "      <td>0</td>\n",
       "      <td>66.0</td>\n",
       "      <td>0</td>\n",
       "      <td>0</td>\n",
       "      <td>27.83</td>\n",
       "      <td>5.7</td>\n",
       "      <td>155</td>\n",
       "      <td>0</td>\n",
       "      <td>0.0</td>\n",
       "      <td>0.0</td>\n",
       "      <td>0.0</td>\n",
       "      <td>1.0</td>\n",
       "      <td>0.0</td>\n",
       "      <td>0.0</td>\n",
       "    </tr>\n",
       "    <tr>\n",
       "      <th>99998</th>\n",
       "      <td>1</td>\n",
       "      <td>24.0</td>\n",
       "      <td>0</td>\n",
       "      <td>0</td>\n",
       "      <td>35.42</td>\n",
       "      <td>4.0</td>\n",
       "      <td>100</td>\n",
       "      <td>0</td>\n",
       "      <td>0.0</td>\n",
       "      <td>0.0</td>\n",
       "      <td>0.0</td>\n",
       "      <td>0.0</td>\n",
       "      <td>1.0</td>\n",
       "      <td>0.0</td>\n",
       "    </tr>\n",
       "    <tr>\n",
       "      <th>99999</th>\n",
       "      <td>1</td>\n",
       "      <td>57.0</td>\n",
       "      <td>0</td>\n",
       "      <td>0</td>\n",
       "      <td>22.43</td>\n",
       "      <td>6.6</td>\n",
       "      <td>90</td>\n",
       "      <td>0</td>\n",
       "      <td>0.0</td>\n",
       "      <td>1.0</td>\n",
       "      <td>0.0</td>\n",
       "      <td>0.0</td>\n",
       "      <td>0.0</td>\n",
       "      <td>0.0</td>\n",
       "    </tr>\n",
       "  </tbody>\n",
       "</table>\n",
       "<p>100000 rows × 14 columns</p>\n",
       "</div>"
      ],
      "text/plain": [
       "       gender   age  hypertension  heart_disease    bmi  HbA1c_level  \\\n",
       "0           1  80.0             0              1  25.19          6.6   \n",
       "1           1  54.0             0              0  27.32          6.6   \n",
       "2           0  28.0             0              0  27.32          5.7   \n",
       "3           1  36.0             0              0  23.45          5.0   \n",
       "4           0  76.0             1              1  20.14          4.8   \n",
       "...       ...   ...           ...            ...    ...          ...   \n",
       "99995       1  80.0             0              0  27.32          6.2   \n",
       "99996       1   2.0             0              0  17.37          6.5   \n",
       "99997       0  66.0             0              0  27.83          5.7   \n",
       "99998       1  24.0             0              0  35.42          4.0   \n",
       "99999       1  57.0             0              0  22.43          6.6   \n",
       "\n",
       "       blood_glucose_level  diabetes  No Info  current  ever  former  never  \\\n",
       "0                      140         0      0.0      0.0   0.0     0.0    1.0   \n",
       "1                       80         0      1.0      0.0   0.0     0.0    0.0   \n",
       "2                      158         0      0.0      0.0   0.0     0.0    1.0   \n",
       "3                      155         0      0.0      1.0   0.0     0.0    0.0   \n",
       "4                      155         0      0.0      1.0   0.0     0.0    0.0   \n",
       "...                    ...       ...      ...      ...   ...     ...    ...   \n",
       "99995                   90         0      1.0      0.0   0.0     0.0    0.0   \n",
       "99996                  100         0      1.0      0.0   0.0     0.0    0.0   \n",
       "99997                  155         0      0.0      0.0   0.0     1.0    0.0   \n",
       "99998                  100         0      0.0      0.0   0.0     0.0    1.0   \n",
       "99999                   90         0      0.0      1.0   0.0     0.0    0.0   \n",
       "\n",
       "       not current  \n",
       "0              0.0  \n",
       "1              0.0  \n",
       "2              0.0  \n",
       "3              0.0  \n",
       "4              0.0  \n",
       "...            ...  \n",
       "99995          0.0  \n",
       "99996          0.0  \n",
       "99997          0.0  \n",
       "99998          0.0  \n",
       "99999          0.0  \n",
       "\n",
       "[100000 rows x 14 columns]"
      ]
     },
     "execution_count": 26,
     "metadata": {},
     "output_type": "execute_result"
    }
   ],
   "source": [
    "df=pd.concat([df, ohc_df], axis=1)\n",
    "df=df.drop('smoking_history', axis=1)\n",
    "df"
   ]
  },
  {
   "cell_type": "markdown",
   "id": "a2c50031",
   "metadata": {
    "papermill": {
     "duration": 0.018954,
     "end_time": "2023-07-04T12:30:55.618967",
     "exception": false,
     "start_time": "2023-07-04T12:30:55.600013",
     "status": "completed"
    },
    "tags": []
   },
   "source": [
    "Because `gender` was binary categorical variable we used binary conversion, where `Female` now have value 1, and `Male` now have value 0. For `smoking_history` variable we have used **OneHotEncoder** and made 5 new columns, for each unique value of this variable. Last thing to do for preprocessing data is to normalize it. "
   ]
  },
  {
   "cell_type": "code",
   "execution_count": 27,
   "id": "a1f7ba8c",
   "metadata": {
    "execution": {
     "iopub.execute_input": "2023-07-04T12:30:55.661274Z",
     "iopub.status.busy": "2023-07-04T12:30:55.660428Z",
     "iopub.status.idle": "2023-07-04T12:30:55.726499Z",
     "shell.execute_reply": "2023-07-04T12:30:55.725639Z"
    },
    "papermill": {
     "duration": 0.090381,
     "end_time": "2023-07-04T12:30:55.728673",
     "exception": false,
     "start_time": "2023-07-04T12:30:55.638292",
     "status": "completed"
    },
    "tags": []
   },
   "outputs": [
    {
     "data": {
      "text/html": [
       "<div>\n",
       "<style scoped>\n",
       "    .dataframe tbody tr th:only-of-type {\n",
       "        vertical-align: middle;\n",
       "    }\n",
       "\n",
       "    .dataframe tbody tr th {\n",
       "        vertical-align: top;\n",
       "    }\n",
       "\n",
       "    .dataframe thead th {\n",
       "        text-align: right;\n",
       "    }\n",
       "</style>\n",
       "<table border=\"1\" class=\"dataframe\">\n",
       "  <thead>\n",
       "    <tr style=\"text-align: right;\">\n",
       "      <th></th>\n",
       "      <th>gender</th>\n",
       "      <th>age</th>\n",
       "      <th>hypertension</th>\n",
       "      <th>heart_disease</th>\n",
       "      <th>bmi</th>\n",
       "      <th>HbA1c_level</th>\n",
       "      <th>blood_glucose_level</th>\n",
       "      <th>diabetes</th>\n",
       "      <th>No Info</th>\n",
       "      <th>current</th>\n",
       "      <th>ever</th>\n",
       "      <th>former</th>\n",
       "      <th>never</th>\n",
       "      <th>not current</th>\n",
       "    </tr>\n",
       "  </thead>\n",
       "  <tbody>\n",
       "    <tr>\n",
       "      <th>0</th>\n",
       "      <td>1.0</td>\n",
       "      <td>1.000000</td>\n",
       "      <td>0.0</td>\n",
       "      <td>1.0</td>\n",
       "      <td>0.177171</td>\n",
       "      <td>0.563636</td>\n",
       "      <td>0.272727</td>\n",
       "      <td>0.0</td>\n",
       "      <td>0.0</td>\n",
       "      <td>0.0</td>\n",
       "      <td>0.0</td>\n",
       "      <td>0.0</td>\n",
       "      <td>1.0</td>\n",
       "      <td>0.0</td>\n",
       "    </tr>\n",
       "    <tr>\n",
       "      <th>1</th>\n",
       "      <td>1.0</td>\n",
       "      <td>0.674675</td>\n",
       "      <td>0.0</td>\n",
       "      <td>0.0</td>\n",
       "      <td>0.202031</td>\n",
       "      <td>0.563636</td>\n",
       "      <td>0.000000</td>\n",
       "      <td>0.0</td>\n",
       "      <td>1.0</td>\n",
       "      <td>0.0</td>\n",
       "      <td>0.0</td>\n",
       "      <td>0.0</td>\n",
       "      <td>0.0</td>\n",
       "      <td>0.0</td>\n",
       "    </tr>\n",
       "    <tr>\n",
       "      <th>2</th>\n",
       "      <td>0.0</td>\n",
       "      <td>0.349349</td>\n",
       "      <td>0.0</td>\n",
       "      <td>0.0</td>\n",
       "      <td>0.202031</td>\n",
       "      <td>0.400000</td>\n",
       "      <td>0.354545</td>\n",
       "      <td>0.0</td>\n",
       "      <td>0.0</td>\n",
       "      <td>0.0</td>\n",
       "      <td>0.0</td>\n",
       "      <td>0.0</td>\n",
       "      <td>1.0</td>\n",
       "      <td>0.0</td>\n",
       "    </tr>\n",
       "    <tr>\n",
       "      <th>3</th>\n",
       "      <td>1.0</td>\n",
       "      <td>0.449449</td>\n",
       "      <td>0.0</td>\n",
       "      <td>0.0</td>\n",
       "      <td>0.156863</td>\n",
       "      <td>0.272727</td>\n",
       "      <td>0.340909</td>\n",
       "      <td>0.0</td>\n",
       "      <td>0.0</td>\n",
       "      <td>1.0</td>\n",
       "      <td>0.0</td>\n",
       "      <td>0.0</td>\n",
       "      <td>0.0</td>\n",
       "      <td>0.0</td>\n",
       "    </tr>\n",
       "    <tr>\n",
       "      <th>4</th>\n",
       "      <td>0.0</td>\n",
       "      <td>0.949950</td>\n",
       "      <td>1.0</td>\n",
       "      <td>1.0</td>\n",
       "      <td>0.118231</td>\n",
       "      <td>0.236364</td>\n",
       "      <td>0.340909</td>\n",
       "      <td>0.0</td>\n",
       "      <td>0.0</td>\n",
       "      <td>1.0</td>\n",
       "      <td>0.0</td>\n",
       "      <td>0.0</td>\n",
       "      <td>0.0</td>\n",
       "      <td>0.0</td>\n",
       "    </tr>\n",
       "    <tr>\n",
       "      <th>...</th>\n",
       "      <td>...</td>\n",
       "      <td>...</td>\n",
       "      <td>...</td>\n",
       "      <td>...</td>\n",
       "      <td>...</td>\n",
       "      <td>...</td>\n",
       "      <td>...</td>\n",
       "      <td>...</td>\n",
       "      <td>...</td>\n",
       "      <td>...</td>\n",
       "      <td>...</td>\n",
       "      <td>...</td>\n",
       "      <td>...</td>\n",
       "      <td>...</td>\n",
       "    </tr>\n",
       "    <tr>\n",
       "      <th>99995</th>\n",
       "      <td>1.0</td>\n",
       "      <td>1.000000</td>\n",
       "      <td>0.0</td>\n",
       "      <td>0.0</td>\n",
       "      <td>0.202031</td>\n",
       "      <td>0.490909</td>\n",
       "      <td>0.045455</td>\n",
       "      <td>0.0</td>\n",
       "      <td>1.0</td>\n",
       "      <td>0.0</td>\n",
       "      <td>0.0</td>\n",
       "      <td>0.0</td>\n",
       "      <td>0.0</td>\n",
       "      <td>0.0</td>\n",
       "    </tr>\n",
       "    <tr>\n",
       "      <th>99996</th>\n",
       "      <td>1.0</td>\n",
       "      <td>0.024024</td>\n",
       "      <td>0.0</td>\n",
       "      <td>0.0</td>\n",
       "      <td>0.085901</td>\n",
       "      <td>0.545455</td>\n",
       "      <td>0.090909</td>\n",
       "      <td>0.0</td>\n",
       "      <td>1.0</td>\n",
       "      <td>0.0</td>\n",
       "      <td>0.0</td>\n",
       "      <td>0.0</td>\n",
       "      <td>0.0</td>\n",
       "      <td>0.0</td>\n",
       "    </tr>\n",
       "    <tr>\n",
       "      <th>99997</th>\n",
       "      <td>0.0</td>\n",
       "      <td>0.824825</td>\n",
       "      <td>0.0</td>\n",
       "      <td>0.0</td>\n",
       "      <td>0.207983</td>\n",
       "      <td>0.400000</td>\n",
       "      <td>0.340909</td>\n",
       "      <td>0.0</td>\n",
       "      <td>0.0</td>\n",
       "      <td>0.0</td>\n",
       "      <td>0.0</td>\n",
       "      <td>1.0</td>\n",
       "      <td>0.0</td>\n",
       "      <td>0.0</td>\n",
       "    </tr>\n",
       "    <tr>\n",
       "      <th>99998</th>\n",
       "      <td>1.0</td>\n",
       "      <td>0.299299</td>\n",
       "      <td>0.0</td>\n",
       "      <td>0.0</td>\n",
       "      <td>0.296569</td>\n",
       "      <td>0.090909</td>\n",
       "      <td>0.090909</td>\n",
       "      <td>0.0</td>\n",
       "      <td>0.0</td>\n",
       "      <td>0.0</td>\n",
       "      <td>0.0</td>\n",
       "      <td>0.0</td>\n",
       "      <td>1.0</td>\n",
       "      <td>0.0</td>\n",
       "    </tr>\n",
       "    <tr>\n",
       "      <th>99999</th>\n",
       "      <td>1.0</td>\n",
       "      <td>0.712212</td>\n",
       "      <td>0.0</td>\n",
       "      <td>0.0</td>\n",
       "      <td>0.144958</td>\n",
       "      <td>0.563636</td>\n",
       "      <td>0.045455</td>\n",
       "      <td>0.0</td>\n",
       "      <td>0.0</td>\n",
       "      <td>1.0</td>\n",
       "      <td>0.0</td>\n",
       "      <td>0.0</td>\n",
       "      <td>0.0</td>\n",
       "      <td>0.0</td>\n",
       "    </tr>\n",
       "  </tbody>\n",
       "</table>\n",
       "<p>100000 rows × 14 columns</p>\n",
       "</div>"
      ],
      "text/plain": [
       "       gender       age  hypertension  heart_disease       bmi  HbA1c_level  \\\n",
       "0         1.0  1.000000           0.0            1.0  0.177171     0.563636   \n",
       "1         1.0  0.674675           0.0            0.0  0.202031     0.563636   \n",
       "2         0.0  0.349349           0.0            0.0  0.202031     0.400000   \n",
       "3         1.0  0.449449           0.0            0.0  0.156863     0.272727   \n",
       "4         0.0  0.949950           1.0            1.0  0.118231     0.236364   \n",
       "...       ...       ...           ...            ...       ...          ...   \n",
       "99995     1.0  1.000000           0.0            0.0  0.202031     0.490909   \n",
       "99996     1.0  0.024024           0.0            0.0  0.085901     0.545455   \n",
       "99997     0.0  0.824825           0.0            0.0  0.207983     0.400000   \n",
       "99998     1.0  0.299299           0.0            0.0  0.296569     0.090909   \n",
       "99999     1.0  0.712212           0.0            0.0  0.144958     0.563636   \n",
       "\n",
       "       blood_glucose_level  diabetes  No Info  current  ever  former  never  \\\n",
       "0                 0.272727       0.0      0.0      0.0   0.0     0.0    1.0   \n",
       "1                 0.000000       0.0      1.0      0.0   0.0     0.0    0.0   \n",
       "2                 0.354545       0.0      0.0      0.0   0.0     0.0    1.0   \n",
       "3                 0.340909       0.0      0.0      1.0   0.0     0.0    0.0   \n",
       "4                 0.340909       0.0      0.0      1.0   0.0     0.0    0.0   \n",
       "...                    ...       ...      ...      ...   ...     ...    ...   \n",
       "99995             0.045455       0.0      1.0      0.0   0.0     0.0    0.0   \n",
       "99996             0.090909       0.0      1.0      0.0   0.0     0.0    0.0   \n",
       "99997             0.340909       0.0      0.0      0.0   0.0     1.0    0.0   \n",
       "99998             0.090909       0.0      0.0      0.0   0.0     0.0    1.0   \n",
       "99999             0.045455       0.0      0.0      1.0   0.0     0.0    0.0   \n",
       "\n",
       "       not current  \n",
       "0              0.0  \n",
       "1              0.0  \n",
       "2              0.0  \n",
       "3              0.0  \n",
       "4              0.0  \n",
       "...            ...  \n",
       "99995          0.0  \n",
       "99996          0.0  \n",
       "99997          0.0  \n",
       "99998          0.0  \n",
       "99999          0.0  \n",
       "\n",
       "[100000 rows x 14 columns]"
      ]
     },
     "execution_count": 27,
     "metadata": {},
     "output_type": "execute_result"
    }
   ],
   "source": [
    "from sklearn.preprocessing import MinMaxScaler\n",
    "scaler = MinMaxScaler()\n",
    "np_norm=scaler.fit_transform(df)\n",
    "df_norm=pd.DataFrame(data=np_norm, columns=df.columns)\n",
    "df_norm"
   ]
  },
  {
   "cell_type": "markdown",
   "id": "fecce9a1",
   "metadata": {
    "papermill": {
     "duration": 0.02045,
     "end_time": "2023-07-04T12:30:55.770752",
     "exception": false,
     "start_time": "2023-07-04T12:30:55.750302",
     "status": "completed"
    },
    "tags": []
   },
   "source": [
    "Because there is a lot of columns that is made from **OneHotEncoder**, for normalization we used **MinMaxScaler**. Our preprocessing is finished and we can now focus on anolmaly detection. Before that we need to separate train and test set for further modeling."
   ]
  },
  {
   "cell_type": "code",
   "execution_count": 28,
   "id": "05ac5a94",
   "metadata": {
    "execution": {
     "iopub.execute_input": "2023-07-04T12:30:55.820579Z",
     "iopub.status.busy": "2023-07-04T12:30:55.819814Z",
     "iopub.status.idle": "2023-07-04T12:30:55.967897Z",
     "shell.execute_reply": "2023-07-04T12:30:55.966812Z"
    },
    "papermill": {
     "duration": 0.179471,
     "end_time": "2023-07-04T12:30:55.970851",
     "exception": false,
     "start_time": "2023-07-04T12:30:55.791380",
     "status": "completed"
    },
    "tags": []
   },
   "outputs": [],
   "source": [
    "from sklearn.model_selection import train_test_split\n",
    "X_train, X_test, y_train, y_test = train_test_split(df_norm.drop('diabetes', axis=1), df_norm.diabetes, test_size=0.2, random_state=13)"
   ]
  },
  {
   "cell_type": "code",
   "execution_count": 29,
   "id": "b5a9d5aa",
   "metadata": {
    "execution": {
     "iopub.execute_input": "2023-07-04T12:30:56.012925Z",
     "iopub.status.busy": "2023-07-04T12:30:56.012513Z",
     "iopub.status.idle": "2023-07-04T12:31:30.052584Z",
     "shell.execute_reply": "2023-07-04T12:31:30.051423Z"
    },
    "papermill": {
     "duration": 34.084015,
     "end_time": "2023-07-04T12:31:30.075193",
     "exception": false,
     "start_time": "2023-07-04T12:30:55.991178",
     "status": "completed"
    },
    "tags": []
   },
   "outputs": [
    {
     "data": {
      "image/png": "[encoded data removed]",
      "text/plain": [
       "<Figure size 640x480 with 1 Axes>"
      ]
     },
     "metadata": {},
     "output_type": "display_data"
    }
   ],
   "source": [
    "from sklearn.neighbors import NearestNeighbors\n",
    "out = NearestNeighbors()\n",
    "out.fit(X_train)\n",
    "distances, indexes = out.kneighbors()\n",
    "plt.plot(distances.mean(axis=1))\n",
    "plt.axhline(0.3, color = 'r')\n",
    "plt.show()"
   ]
  },
  {
   "cell_type": "code",
   "execution_count": 30,
   "id": "a984f7cf",
   "metadata": {
    "execution": {
     "iopub.execute_input": "2023-07-04T12:31:30.117544Z",
     "iopub.status.busy": "2023-07-04T12:31:30.117151Z",
     "iopub.status.idle": "2023-07-04T12:31:30.137089Z",
     "shell.execute_reply": "2023-07-04T12:31:30.135895Z"
    },
    "papermill": {
     "duration": 0.044398,
     "end_time": "2023-07-04T12:31:30.139800",
     "exception": false,
     "start_time": "2023-07-04T12:31:30.095402",
     "status": "completed"
    },
    "tags": []
   },
   "outputs": [],
   "source": [
    "X_train=X_train.reset_index()\n",
    "X_train=X_train.drop('index', axis=1)\n",
    "outlier_index = np.where(distances.mean(axis=1)>0.3)\n",
    "X_train_noout=X_train.drop(outlier_index[0])"
   ]
  },
  {
   "cell_type": "markdown",
   "id": "3c1b78a8",
   "metadata": {
    "papermill": {
     "duration": 0.020009,
     "end_time": "2023-07-04T12:31:30.180286",
     "exception": false,
     "start_time": "2023-07-04T12:31:30.160277",
     "status": "completed"
    },
    "tags": []
   },
   "source": [
    "We have now made new dataset which involves data without outliers based on **KNN** model. We will use both in future analysis so we can see how does models work on both of them but also we will use feature engineering and selection to make one more dataset. For feature engineering we will be using **PolynomialFeatures**."
   ]
  },
  {
   "cell_type": "code",
   "execution_count": 31,
   "id": "343a720b",
   "metadata": {
    "execution": {
     "iopub.execute_input": "2023-07-04T12:31:30.222661Z",
     "iopub.status.busy": "2023-07-04T12:31:30.222237Z",
     "iopub.status.idle": "2023-07-04T12:31:30.490473Z",
     "shell.execute_reply": "2023-07-04T12:31:30.489297Z"
    },
    "papermill": {
     "duration": 0.292532,
     "end_time": "2023-07-04T12:31:30.493064",
     "exception": false,
     "start_time": "2023-07-04T12:31:30.200532",
     "status": "completed"
    },
    "tags": []
   },
   "outputs": [
    {
     "data": {
      "text/html": [
       "<div>\n",
       "<style scoped>\n",
       "    .dataframe tbody tr th:only-of-type {\n",
       "        vertical-align: middle;\n",
       "    }\n",
       "\n",
       "    .dataframe tbody tr th {\n",
       "        vertical-align: top;\n",
       "    }\n",
       "\n",
       "    .dataframe thead th {\n",
       "        text-align: right;\n",
       "    }\n",
       "</style>\n",
       "<table border=\"1\" class=\"dataframe\">\n",
       "  <thead>\n",
       "    <tr style=\"text-align: right;\">\n",
       "      <th></th>\n",
       "      <th>1</th>\n",
       "      <th>gender</th>\n",
       "      <th>age</th>\n",
       "      <th>hypertension</th>\n",
       "      <th>heart_disease</th>\n",
       "      <th>bmi</th>\n",
       "      <th>HbA1c_level</th>\n",
       "      <th>blood_glucose_level</th>\n",
       "      <th>No Info</th>\n",
       "      <th>current</th>\n",
       "      <th>...</th>\n",
       "      <th>ever former</th>\n",
       "      <th>ever never</th>\n",
       "      <th>ever not current</th>\n",
       "      <th>former^2</th>\n",
       "      <th>former never</th>\n",
       "      <th>former not current</th>\n",
       "      <th>never^2</th>\n",
       "      <th>never not current</th>\n",
       "      <th>not current^2</th>\n",
       "      <th>diabetes</th>\n",
       "    </tr>\n",
       "  </thead>\n",
       "  <tbody>\n",
       "    <tr>\n",
       "      <th>0</th>\n",
       "      <td>1.0</td>\n",
       "      <td>1.0</td>\n",
       "      <td>1.000000</td>\n",
       "      <td>0.0</td>\n",
       "      <td>1.0</td>\n",
       "      <td>0.177171</td>\n",
       "      <td>0.563636</td>\n",
       "      <td>0.272727</td>\n",
       "      <td>0.0</td>\n",
       "      <td>0.0</td>\n",
       "      <td>...</td>\n",
       "      <td>0.0</td>\n",
       "      <td>0.0</td>\n",
       "      <td>0.0</td>\n",
       "      <td>0.0</td>\n",
       "      <td>0.0</td>\n",
       "      <td>0.0</td>\n",
       "      <td>1.0</td>\n",
       "      <td>0.0</td>\n",
       "      <td>0.0</td>\n",
       "      <td>0.0</td>\n",
       "    </tr>\n",
       "    <tr>\n",
       "      <th>1</th>\n",
       "      <td>1.0</td>\n",
       "      <td>1.0</td>\n",
       "      <td>0.674675</td>\n",
       "      <td>0.0</td>\n",
       "      <td>0.0</td>\n",
       "      <td>0.202031</td>\n",
       "      <td>0.563636</td>\n",
       "      <td>0.000000</td>\n",
       "      <td>1.0</td>\n",
       "      <td>0.0</td>\n",
       "      <td>...</td>\n",
       "      <td>0.0</td>\n",
       "      <td>0.0</td>\n",
       "      <td>0.0</td>\n",
       "      <td>0.0</td>\n",
       "      <td>0.0</td>\n",
       "      <td>0.0</td>\n",
       "      <td>0.0</td>\n",
       "      <td>0.0</td>\n",
       "      <td>0.0</td>\n",
       "      <td>0.0</td>\n",
       "    </tr>\n",
       "    <tr>\n",
       "      <th>2</th>\n",
       "      <td>1.0</td>\n",
       "      <td>0.0</td>\n",
       "      <td>0.349349</td>\n",
       "      <td>0.0</td>\n",
       "      <td>0.0</td>\n",
       "      <td>0.202031</td>\n",
       "      <td>0.400000</td>\n",
       "      <td>0.354545</td>\n",
       "      <td>0.0</td>\n",
       "      <td>0.0</td>\n",
       "      <td>...</td>\n",
       "      <td>0.0</td>\n",
       "      <td>0.0</td>\n",
       "      <td>0.0</td>\n",
       "      <td>0.0</td>\n",
       "      <td>0.0</td>\n",
       "      <td>0.0</td>\n",
       "      <td>1.0</td>\n",
       "      <td>0.0</td>\n",
       "      <td>0.0</td>\n",
       "      <td>0.0</td>\n",
       "    </tr>\n",
       "    <tr>\n",
       "      <th>3</th>\n",
       "      <td>1.0</td>\n",
       "      <td>1.0</td>\n",
       "      <td>0.449449</td>\n",
       "      <td>0.0</td>\n",
       "      <td>0.0</td>\n",
       "      <td>0.156863</td>\n",
       "      <td>0.272727</td>\n",
       "      <td>0.340909</td>\n",
       "      <td>0.0</td>\n",
       "      <td>1.0</td>\n",
       "      <td>...</td>\n",
       "      <td>0.0</td>\n",
       "      <td>0.0</td>\n",
       "      <td>0.0</td>\n",
       "      <td>0.0</td>\n",
       "      <td>0.0</td>\n",
       "      <td>0.0</td>\n",
       "      <td>0.0</td>\n",
       "      <td>0.0</td>\n",
       "      <td>0.0</td>\n",
       "      <td>0.0</td>\n",
       "    </tr>\n",
       "    <tr>\n",
       "      <th>4</th>\n",
       "      <td>1.0</td>\n",
       "      <td>0.0</td>\n",
       "      <td>0.949950</td>\n",
       "      <td>1.0</td>\n",
       "      <td>1.0</td>\n",
       "      <td>0.118231</td>\n",
       "      <td>0.236364</td>\n",
       "      <td>0.340909</td>\n",
       "      <td>0.0</td>\n",
       "      <td>1.0</td>\n",
       "      <td>...</td>\n",
       "      <td>0.0</td>\n",
       "      <td>0.0</td>\n",
       "      <td>0.0</td>\n",
       "      <td>0.0</td>\n",
       "      <td>0.0</td>\n",
       "      <td>0.0</td>\n",
       "      <td>0.0</td>\n",
       "      <td>0.0</td>\n",
       "      <td>0.0</td>\n",
       "      <td>0.0</td>\n",
       "    </tr>\n",
       "    <tr>\n",
       "      <th>...</th>\n",
       "      <td>...</td>\n",
       "      <td>...</td>\n",
       "      <td>...</td>\n",
       "      <td>...</td>\n",
       "      <td>...</td>\n",
       "      <td>...</td>\n",
       "      <td>...</td>\n",
       "      <td>...</td>\n",
       "      <td>...</td>\n",
       "      <td>...</td>\n",
       "      <td>...</td>\n",
       "      <td>...</td>\n",
       "      <td>...</td>\n",
       "      <td>...</td>\n",
       "      <td>...</td>\n",
       "      <td>...</td>\n",
       "      <td>...</td>\n",
       "      <td>...</td>\n",
       "      <td>...</td>\n",
       "      <td>...</td>\n",
       "      <td>...</td>\n",
       "    </tr>\n",
       "    <tr>\n",
       "      <th>99995</th>\n",
       "      <td>1.0</td>\n",
       "      <td>1.0</td>\n",
       "      <td>1.000000</td>\n",
       "      <td>0.0</td>\n",
       "      <td>0.0</td>\n",
       "      <td>0.202031</td>\n",
       "      <td>0.490909</td>\n",
       "      <td>0.045455</td>\n",
       "      <td>1.0</td>\n",
       "      <td>0.0</td>\n",
       "      <td>...</td>\n",
       "      <td>0.0</td>\n",
       "      <td>0.0</td>\n",
       "      <td>0.0</td>\n",
       "      <td>0.0</td>\n",
       "      <td>0.0</td>\n",
       "      <td>0.0</td>\n",
       "      <td>0.0</td>\n",
       "      <td>0.0</td>\n",
       "      <td>0.0</td>\n",
       "      <td>0.0</td>\n",
       "    </tr>\n",
       "    <tr>\n",
       "      <th>99996</th>\n",
       "      <td>1.0</td>\n",
       "      <td>1.0</td>\n",
       "      <td>0.024024</td>\n",
       "      <td>0.0</td>\n",
       "      <td>0.0</td>\n",
       "      <td>0.085901</td>\n",
       "      <td>0.545455</td>\n",
       "      <td>0.090909</td>\n",
       "      <td>1.0</td>\n",
       "      <td>0.0</td>\n",
       "      <td>...</td>\n",
       "      <td>0.0</td>\n",
       "      <td>0.0</td>\n",
       "      <td>0.0</td>\n",
       "      <td>0.0</td>\n",
       "      <td>0.0</td>\n",
       "      <td>0.0</td>\n",
       "      <td>0.0</td>\n",
       "      <td>0.0</td>\n",
       "      <td>0.0</td>\n",
       "      <td>0.0</td>\n",
       "    </tr>\n",
       "    <tr>\n",
       "      <th>99997</th>\n",
       "      <td>1.0</td>\n",
       "      <td>0.0</td>\n",
       "      <td>0.824825</td>\n",
       "      <td>0.0</td>\n",
       "      <td>0.0</td>\n",
       "      <td>0.207983</td>\n",
       "      <td>0.400000</td>\n",
       "      <td>0.340909</td>\n",
       "      <td>0.0</td>\n",
       "      <td>0.0</td>\n",
       "      <td>...</td>\n",
       "      <td>0.0</td>\n",
       "      <td>0.0</td>\n",
       "      <td>0.0</td>\n",
       "      <td>1.0</td>\n",
       "      <td>0.0</td>\n",
       "      <td>0.0</td>\n",
       "      <td>0.0</td>\n",
       "      <td>0.0</td>\n",
       "      <td>0.0</td>\n",
       "      <td>0.0</td>\n",
       "    </tr>\n",
       "    <tr>\n",
       "      <th>99998</th>\n",
       "      <td>1.0</td>\n",
       "      <td>1.0</td>\n",
       "      <td>0.299299</td>\n",
       "      <td>0.0</td>\n",
       "      <td>0.0</td>\n",
       "      <td>0.296569</td>\n",
       "      <td>0.090909</td>\n",
       "      <td>0.090909</td>\n",
       "      <td>0.0</td>\n",
       "      <td>0.0</td>\n",
       "      <td>...</td>\n",
       "      <td>0.0</td>\n",
       "      <td>0.0</td>\n",
       "      <td>0.0</td>\n",
       "      <td>0.0</td>\n",
       "      <td>0.0</td>\n",
       "      <td>0.0</td>\n",
       "      <td>1.0</td>\n",
       "      <td>0.0</td>\n",
       "      <td>0.0</td>\n",
       "      <td>0.0</td>\n",
       "    </tr>\n",
       "    <tr>\n",
       "      <th>99999</th>\n",
       "      <td>1.0</td>\n",
       "      <td>1.0</td>\n",
       "      <td>0.712212</td>\n",
       "      <td>0.0</td>\n",
       "      <td>0.0</td>\n",
       "      <td>0.144958</td>\n",
       "      <td>0.563636</td>\n",
       "      <td>0.045455</td>\n",
       "      <td>0.0</td>\n",
       "      <td>1.0</td>\n",
       "      <td>...</td>\n",
       "      <td>0.0</td>\n",
       "      <td>0.0</td>\n",
       "      <td>0.0</td>\n",
       "      <td>0.0</td>\n",
       "      <td>0.0</td>\n",
       "      <td>0.0</td>\n",
       "      <td>0.0</td>\n",
       "      <td>0.0</td>\n",
       "      <td>0.0</td>\n",
       "      <td>0.0</td>\n",
       "    </tr>\n",
       "  </tbody>\n",
       "</table>\n",
       "<p>100000 rows × 106 columns</p>\n",
       "</div>"
      ],
      "text/plain": [
       "         1  gender       age  hypertension  heart_disease       bmi  \\\n",
       "0      1.0     1.0  1.000000           0.0            1.0  0.177171   \n",
       "1      1.0     1.0  0.674675           0.0            0.0  0.202031   \n",
       "2      1.0     0.0  0.349349           0.0            0.0  0.202031   \n",
       "3      1.0     1.0  0.449449           0.0            0.0  0.156863   \n",
       "4      1.0     0.0  0.949950           1.0            1.0  0.118231   \n",
       "...    ...     ...       ...           ...            ...       ...   \n",
       "99995  1.0     1.0  1.000000           0.0            0.0  0.202031   \n",
       "99996  1.0     1.0  0.024024           0.0            0.0  0.085901   \n",
       "99997  1.0     0.0  0.824825           0.0            0.0  0.207983   \n",
       "99998  1.0     1.0  0.299299           0.0            0.0  0.296569   \n",
       "99999  1.0     1.0  0.712212           0.0            0.0  0.144958   \n",
       "\n",
       "       HbA1c_level  blood_glucose_level  No Info  current  ...  ever former  \\\n",
       "0         0.563636             0.272727      0.0      0.0  ...          0.0   \n",
       "1         0.563636             0.000000      1.0      0.0  ...          0.0   \n",
       "2         0.400000             0.354545      0.0      0.0  ...          0.0   \n",
       "3         0.272727             0.340909      0.0      1.0  ...          0.0   \n",
       "4         0.236364             0.340909      0.0      1.0  ...          0.0   \n",
       "...            ...                  ...      ...      ...  ...          ...   \n",
       "99995     0.490909             0.045455      1.0      0.0  ...          0.0   \n",
       "99996     0.545455             0.090909      1.0      0.0  ...          0.0   \n",
       "99997     0.400000             0.340909      0.0      0.0  ...          0.0   \n",
       "99998     0.090909             0.090909      0.0      0.0  ...          0.0   \n",
       "99999     0.563636             0.045455      0.0      1.0  ...          0.0   \n",
       "\n",
       "       ever never  ever not current  former^2  former never  \\\n",
       "0             0.0               0.0       0.0           0.0   \n",
       "1             0.0               0.0       0.0           0.0   \n",
       "2             0.0               0.0       0.0           0.0   \n",
       "3             0.0               0.0       0.0           0.0   \n",
       "4             0.0               0.0       0.0           0.0   \n",
       "...           ...               ...       ...           ...   \n",
       "99995         0.0               0.0       0.0           0.0   \n",
       "99996         0.0               0.0       0.0           0.0   \n",
       "99997         0.0               0.0       1.0           0.0   \n",
       "99998         0.0               0.0       0.0           0.0   \n",
       "99999         0.0               0.0       0.0           0.0   \n",
       "\n",
       "       former not current  never^2  never not current  not current^2  diabetes  \n",
       "0                     0.0      1.0                0.0            0.0       0.0  \n",
       "1                     0.0      0.0                0.0            0.0       0.0  \n",
       "2                     0.0      1.0                0.0            0.0       0.0  \n",
       "3                     0.0      0.0                0.0            0.0       0.0  \n",
       "4                     0.0      0.0                0.0            0.0       0.0  \n",
       "...                   ...      ...                ...            ...       ...  \n",
       "99995                 0.0      0.0                0.0            0.0       0.0  \n",
       "99996                 0.0      0.0                0.0            0.0       0.0  \n",
       "99997                 0.0      0.0                0.0            0.0       0.0  \n",
       "99998                 0.0      1.0                0.0            0.0       0.0  \n",
       "99999                 0.0      0.0                0.0            0.0       0.0  \n",
       "\n",
       "[100000 rows x 106 columns]"
      ]
     },
     "execution_count": 31,
     "metadata": {},
     "output_type": "execute_result"
    }
   ],
   "source": [
    "from sklearn.preprocessing import PolynomialFeatures\n",
    "df_newfeat = df_norm.drop('diabetes', axis=1).copy()\n",
    "poly=PolynomialFeatures(degree=2)\n",
    "np_poly=poly.fit_transform(df_newfeat)\n",
    "df_poly=pd.DataFrame(data=np_poly, columns=poly.get_feature_names_out())\n",
    "df_poly['diabetes']=df_norm.diabetes\n",
    "df_poly"
   ]
  },
  {
   "cell_type": "code",
   "execution_count": 32,
   "id": "384fa107",
   "metadata": {
    "execution": {
     "iopub.execute_input": "2023-07-04T12:31:30.537427Z",
     "iopub.status.busy": "2023-07-04T12:31:30.537014Z",
     "iopub.status.idle": "2023-07-04T12:31:30.641366Z",
     "shell.execute_reply": "2023-07-04T12:31:30.640308Z"
    },
    "papermill": {
     "duration": 0.130126,
     "end_time": "2023-07-04T12:31:30.644219",
     "exception": false,
     "start_time": "2023-07-04T12:31:30.514093",
     "status": "completed"
    },
    "tags": []
   },
   "outputs": [],
   "source": [
    "X_train_poly, X_test_poly, y_train_poly, y_test_poly = train_test_split(df_poly.drop('diabetes', axis=1), df_poly.diabetes, test_size=0.2, random_state=13)"
   ]
  },
  {
   "cell_type": "markdown",
   "id": "cb80a72c",
   "metadata": {
    "papermill": {
     "duration": 0.020815,
     "end_time": "2023-07-04T12:31:30.686510",
     "exception": false,
     "start_time": "2023-07-04T12:31:30.665695",
     "status": "completed"
    },
    "tags": []
   },
   "source": [
    "After we have made new features, we need to use feature selection tools so we can select only the most important columns from dataset and dodge a overfit problem. For feature selection we will use VarianceThreshold with 0.7 probability."
   ]
  },
  {
   "cell_type": "code",
   "execution_count": 33,
   "id": "aaf9919f",
   "metadata": {
    "execution": {
     "iopub.execute_input": "2023-07-04T12:31:30.730658Z",
     "iopub.status.busy": "2023-07-04T12:31:30.730251Z",
     "iopub.status.idle": "2023-07-04T12:31:31.144710Z",
     "shell.execute_reply": "2023-07-04T12:31:31.143657Z"
    },
    "papermill": {
     "duration": 0.439977,
     "end_time": "2023-07-04T12:31:31.147456",
     "exception": false,
     "start_time": "2023-07-04T12:31:30.707479",
     "status": "completed"
    },
    "tags": []
   },
   "outputs": [],
   "source": [
    "from sklearn.feature_selection import VarianceThreshold\n",
    "selection = VarianceThreshold(threshold=(0.05))\n",
    "selection.fit(pd.concat([X_train_poly, y_train_poly], axis=1))\n",
    "labels=selection.get_support()\n",
    "df_sel_train=pd.concat([X_train_poly, y_train_poly], axis=1).loc[:,labels]\n",
    "df_sel_test=pd.concat([X_test_poly, y_test_poly], axis=1).loc[:,labels]\n",
    "X_train_sel = df_sel_train.drop('diabetes', axis=1)\n",
    "X_test_sel = df_sel_test.drop('diabetes', axis=1)\n",
    "y_train_sel = df_sel_train.diabetes\n",
    "y_test_sel = df_sel_test.diabetes"
   ]
  },
  {
   "cell_type": "markdown",
   "id": "c8328531",
   "metadata": {
    "papermill": {
     "duration": 0.020744,
     "end_time": "2023-07-04T12:31:31.188985",
     "exception": false,
     "start_time": "2023-07-04T12:31:31.168241",
     "status": "completed"
    },
    "tags": []
   },
   "source": [
    "Now we have total of 4 datasets that we will going to use: starter set, no outlier set, polynomial feature created set and feature selected set. For every one of this sets we will make models. Now its modeling time, where we will first make pipline for modeling, and then start creating models. We will use 3 main algorithms for this problem, DescisionTree, KNearestNeighbros, LogisticRegression and one boosting algorithm, GradientBoost. For every of the sets we will be using hyperparameters optimization using GridSearchCV method."
   ]
  }
 ],
 "metadata": {
  "kernelspec": {
   "display_name": "Python 3",
   "language": "python",
   "name": "python3"
  },
  "language_info": {
   "codemirror_mode": {
    "name": "ipython",
    "version": 3
   },
   "file_extension": ".py",
   "mimetype": "text/x-python",
   "name": "python",
   "nbconvert_exporter": "python",
   "pygments_lexer": "ipython3",
   "version": "3.10.10"
  },
  "papermill": {
   "default_parameters": {},
   "duration": 55.191471,
   "end_time": "2023-07-04T12:31:32.233007",
   "environment_variables": {},
   "exception": null,
   "input_path": "__notebook__.ipynb",
   "output_path": "__notebook__.ipynb",
   "parameters": {},
   "start_time": "2023-07-04T12:30:37.041536",
   "version": "2.4.0"
  }
 },
 "nbformat": 4,
 "nbformat_minor": 5
}
