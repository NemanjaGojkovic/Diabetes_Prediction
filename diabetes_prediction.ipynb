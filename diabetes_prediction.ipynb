{
 "cells": [
  {
   "cell_type": "markdown",
   "id": "bcf8d919",
   "metadata": {
    "papermill": {
     "duration": 0.016573,
     "end_time": "2023-07-07T12:04:53.020305",
     "exception": false,
     "start_time": "2023-07-07T12:04:53.003732",
     "status": "completed"
    },
    "tags": []
   },
   "source": [
    "# Diabetes prediction problem"
   ]
  },
  {
   "cell_type": "code",
   "execution_count": 1,
   "id": "fea79d99",
   "metadata": {
    "_cell_guid": "b1076dfc-b9ad-4769-8c92-a6c4dae69d19",
    "_uuid": "8f2839f25d086af736a60e9eeb907d3b93b6e0e5",
    "execution": {
     "iopub.execute_input": "2023-07-07T12:04:53.054004Z",
     "iopub.status.busy": "2023-07-07T12:04:53.053658Z",
     "iopub.status.idle": "2023-07-07T12:04:54.592766Z",
     "shell.execute_reply": "2023-07-07T12:04:54.591313Z"
    },
    "papermill": {
     "duration": 1.558586,
     "end_time": "2023-07-07T12:04:54.595286",
     "exception": false,
     "start_time": "2023-07-07T12:04:53.036700",
     "status": "completed"
    },
    "tags": []
   },
   "outputs": [],
   "source": [
    "import numpy as np \n",
    "import pandas as pd \n",
    "import matplotlib.pyplot as plt\n",
    "import seaborn as sns\n",
    "import warnings\n",
    "warnings.filterwarnings(\"ignore\")"
   ]
  },
  {
   "cell_type": "code",
   "execution_count": 2,
   "id": "7ab78ef1",
   "metadata": {
    "execution": {
     "iopub.execute_input": "2023-07-07T12:04:54.630550Z",
     "iopub.status.busy": "2023-07-07T12:04:54.630255Z",
     "iopub.status.idle": "2023-07-07T12:04:54.792119Z",
     "shell.execute_reply": "2023-07-07T12:04:54.790964Z"
    },
    "papermill": {
     "duration": 0.182283,
     "end_time": "2023-07-07T12:04:54.794283",
     "exception": false,
     "start_time": "2023-07-07T12:04:54.612000",
     "status": "completed"
    },
    "tags": []
   },
   "outputs": [
    {
     "data": {
      "text/html": [
       "<div>\n",
       "<style scoped>\n",
       "    .dataframe tbody tr th:only-of-type {\n",
       "        vertical-align: middle;\n",
       "    }\n",
       "\n",
       "    .dataframe tbody tr th {\n",
       "        vertical-align: top;\n",
       "    }\n",
       "\n",
       "    .dataframe thead th {\n",
       "        text-align: right;\n",
       "    }\n",
       "</style>\n",
       "<table border=\"1\" class=\"dataframe\">\n",
       "  <thead>\n",
       "    <tr style=\"text-align: right;\">\n",
       "      <th></th>\n",
       "      <th>gender</th>\n",
       "      <th>age</th>\n",
       "      <th>hypertension</th>\n",
       "      <th>heart_disease</th>\n",
       "      <th>smoking_history</th>\n",
       "      <th>bmi</th>\n",
       "      <th>HbA1c_level</th>\n",
       "      <th>blood_glucose_level</th>\n",
       "      <th>diabetes</th>\n",
       "    </tr>\n",
       "  </thead>\n",
       "  <tbody>\n",
       "    <tr>\n",
       "      <th>0</th>\n",
       "      <td>Female</td>\n",
       "      <td>80.0</td>\n",
       "      <td>0</td>\n",
       "      <td>1</td>\n",
       "      <td>never</td>\n",
       "      <td>25.19</td>\n",
       "      <td>6.6</td>\n",
       "      <td>140</td>\n",
       "      <td>0</td>\n",
       "    </tr>\n",
       "    <tr>\n",
       "      <th>1</th>\n",
       "      <td>Female</td>\n",
       "      <td>54.0</td>\n",
       "      <td>0</td>\n",
       "      <td>0</td>\n",
       "      <td>No Info</td>\n",
       "      <td>27.32</td>\n",
       "      <td>6.6</td>\n",
       "      <td>80</td>\n",
       "      <td>0</td>\n",
       "    </tr>\n",
       "    <tr>\n",
       "      <th>2</th>\n",
       "      <td>Male</td>\n",
       "      <td>28.0</td>\n",
       "      <td>0</td>\n",
       "      <td>0</td>\n",
       "      <td>never</td>\n",
       "      <td>27.32</td>\n",
       "      <td>5.7</td>\n",
       "      <td>158</td>\n",
       "      <td>0</td>\n",
       "    </tr>\n",
       "    <tr>\n",
       "      <th>3</th>\n",
       "      <td>Female</td>\n",
       "      <td>36.0</td>\n",
       "      <td>0</td>\n",
       "      <td>0</td>\n",
       "      <td>current</td>\n",
       "      <td>23.45</td>\n",
       "      <td>5.0</td>\n",
       "      <td>155</td>\n",
       "      <td>0</td>\n",
       "    </tr>\n",
       "    <tr>\n",
       "      <th>4</th>\n",
       "      <td>Male</td>\n",
       "      <td>76.0</td>\n",
       "      <td>1</td>\n",
       "      <td>1</td>\n",
       "      <td>current</td>\n",
       "      <td>20.14</td>\n",
       "      <td>4.8</td>\n",
       "      <td>155</td>\n",
       "      <td>0</td>\n",
       "    </tr>\n",
       "    <tr>\n",
       "      <th>...</th>\n",
       "      <td>...</td>\n",
       "      <td>...</td>\n",
       "      <td>...</td>\n",
       "      <td>...</td>\n",
       "      <td>...</td>\n",
       "      <td>...</td>\n",
       "      <td>...</td>\n",
       "      <td>...</td>\n",
       "      <td>...</td>\n",
       "    </tr>\n",
       "    <tr>\n",
       "      <th>99995</th>\n",
       "      <td>Female</td>\n",
       "      <td>80.0</td>\n",
       "      <td>0</td>\n",
       "      <td>0</td>\n",
       "      <td>No Info</td>\n",
       "      <td>27.32</td>\n",
       "      <td>6.2</td>\n",
       "      <td>90</td>\n",
       "      <td>0</td>\n",
       "    </tr>\n",
       "    <tr>\n",
       "      <th>99996</th>\n",
       "      <td>Female</td>\n",
       "      <td>2.0</td>\n",
       "      <td>0</td>\n",
       "      <td>0</td>\n",
       "      <td>No Info</td>\n",
       "      <td>17.37</td>\n",
       "      <td>6.5</td>\n",
       "      <td>100</td>\n",
       "      <td>0</td>\n",
       "    </tr>\n",
       "    <tr>\n",
       "      <th>99997</th>\n",
       "      <td>Male</td>\n",
       "      <td>66.0</td>\n",
       "      <td>0</td>\n",
       "      <td>0</td>\n",
       "      <td>former</td>\n",
       "      <td>27.83</td>\n",
       "      <td>5.7</td>\n",
       "      <td>155</td>\n",
       "      <td>0</td>\n",
       "    </tr>\n",
       "    <tr>\n",
       "      <th>99998</th>\n",
       "      <td>Female</td>\n",
       "      <td>24.0</td>\n",
       "      <td>0</td>\n",
       "      <td>0</td>\n",
       "      <td>never</td>\n",
       "      <td>35.42</td>\n",
       "      <td>4.0</td>\n",
       "      <td>100</td>\n",
       "      <td>0</td>\n",
       "    </tr>\n",
       "    <tr>\n",
       "      <th>99999</th>\n",
       "      <td>Female</td>\n",
       "      <td>57.0</td>\n",
       "      <td>0</td>\n",
       "      <td>0</td>\n",
       "      <td>current</td>\n",
       "      <td>22.43</td>\n",
       "      <td>6.6</td>\n",
       "      <td>90</td>\n",
       "      <td>0</td>\n",
       "    </tr>\n",
       "  </tbody>\n",
       "</table>\n",
       "<p>100000 rows × 9 columns</p>\n",
       "</div>"
      ],
      "text/plain": [
       "       gender   age  hypertension  heart_disease smoking_history    bmi  \\\n",
       "0      Female  80.0             0              1           never  25.19   \n",
       "1      Female  54.0             0              0         No Info  27.32   \n",
       "2        Male  28.0             0              0           never  27.32   \n",
       "3      Female  36.0             0              0         current  23.45   \n",
       "4        Male  76.0             1              1         current  20.14   \n",
       "...       ...   ...           ...            ...             ...    ...   \n",
       "99995  Female  80.0             0              0         No Info  27.32   \n",
       "99996  Female   2.0             0              0         No Info  17.37   \n",
       "99997    Male  66.0             0              0          former  27.83   \n",
       "99998  Female  24.0             0              0           never  35.42   \n",
       "99999  Female  57.0             0              0         current  22.43   \n",
       "\n",
       "       HbA1c_level  blood_glucose_level  diabetes  \n",
       "0              6.6                  140         0  \n",
       "1              6.6                   80         0  \n",
       "2              5.7                  158         0  \n",
       "3              5.0                  155         0  \n",
       "4              4.8                  155         0  \n",
       "...            ...                  ...       ...  \n",
       "99995          6.2                   90         0  \n",
       "99996          6.5                  100         0  \n",
       "99997          5.7                  155         0  \n",
       "99998          4.0                  100         0  \n",
       "99999          6.6                   90         0  \n",
       "\n",
       "[100000 rows x 9 columns]"
      ]
     },
     "execution_count": 2,
     "metadata": {},
     "output_type": "execute_result"
    }
   ],
   "source": [
    "df=pd.read_csv('/kaggle/input/diabetes-prediction-dataset/diabetes_prediction_dataset.csv')\n",
    "df"
   ]
  },
  {
   "cell_type": "code",
   "execution_count": 3,
   "id": "a83830f6",
   "metadata": {
    "execution": {
     "iopub.execute_input": "2023-07-07T12:04:54.830140Z",
     "iopub.status.busy": "2023-07-07T12:04:54.829822Z",
     "iopub.status.idle": "2023-07-07T12:04:54.880731Z",
     "shell.execute_reply": "2023-07-07T12:04:54.879232Z"
    },
    "papermill": {
     "duration": 0.071726,
     "end_time": "2023-07-07T12:04:54.883159",
     "exception": false,
     "start_time": "2023-07-07T12:04:54.811433",
     "status": "completed"
    },
    "tags": []
   },
   "outputs": [
    {
     "name": "stdout",
     "output_type": "stream",
     "text": [
      "<class 'pandas.core.frame.DataFrame'>\n",
      "RangeIndex: 100000 entries, 0 to 99999\n",
      "Data columns (total 9 columns):\n",
      " #   Column               Non-Null Count   Dtype  \n",
      "---  ------               --------------   -----  \n",
      " 0   gender               100000 non-null  object \n",
      " 1   age                  100000 non-null  float64\n",
      " 2   hypertension         100000 non-null  int64  \n",
      " 3   heart_disease        100000 non-null  int64  \n",
      " 4   smoking_history      100000 non-null  object \n",
      " 5   bmi                  100000 non-null  float64\n",
      " 6   HbA1c_level          100000 non-null  float64\n",
      " 7   blood_glucose_level  100000 non-null  int64  \n",
      " 8   diabetes             100000 non-null  int64  \n",
      "dtypes: float64(3), int64(4), object(2)\n",
      "memory usage: 6.9+ MB\n"
     ]
    }
   ],
   "source": [
    "df.info()"
   ]
  },
  {
   "cell_type": "code",
   "execution_count": 4,
   "id": "05ce1ac9",
   "metadata": {
    "execution": {
     "iopub.execute_input": "2023-07-07T12:04:54.919033Z",
     "iopub.status.busy": "2023-07-07T12:04:54.918720Z",
     "iopub.status.idle": "2023-07-07T12:04:54.954157Z",
     "shell.execute_reply": "2023-07-07T12:04:54.952860Z"
    },
    "papermill": {
     "duration": 0.055999,
     "end_time": "2023-07-07T12:04:54.956405",
     "exception": false,
     "start_time": "2023-07-07T12:04:54.900406",
     "status": "completed"
    },
    "tags": []
   },
   "outputs": [
    {
     "data": {
      "text/plain": [
       "gender                 0\n",
       "age                    0\n",
       "hypertension           0\n",
       "heart_disease          0\n",
       "smoking_history        0\n",
       "bmi                    0\n",
       "HbA1c_level            0\n",
       "blood_glucose_level    0\n",
       "diabetes               0\n",
       "dtype: int64"
      ]
     },
     "execution_count": 4,
     "metadata": {},
     "output_type": "execute_result"
    }
   ],
   "source": [
    "df.isna().sum()"
   ]
  },
  {
   "cell_type": "markdown",
   "id": "9f02d27e",
   "metadata": {
    "papermill": {
     "duration": 0.017004,
     "end_time": "2023-07-07T12:04:54.991183",
     "exception": false,
     "start_time": "2023-07-07T12:04:54.974179",
     "status": "completed"
    },
    "tags": []
   },
   "source": [
    "There is no NA values in this dataset. For `smoking_history` variable there is cateogory that defines if there is informations about pacient smoking history. We will first get a view of categorical variables in this dataset."
   ]
  },
  {
   "cell_type": "code",
   "execution_count": 5,
   "id": "7892a8e9",
   "metadata": {
    "execution": {
     "iopub.execute_input": "2023-07-07T12:04:55.026344Z",
     "iopub.status.busy": "2023-07-07T12:04:55.025807Z",
     "iopub.status.idle": "2023-07-07T12:04:55.276578Z",
     "shell.execute_reply": "2023-07-07T12:04:55.275371Z"
    },
    "papermill": {
     "duration": 0.270462,
     "end_time": "2023-07-07T12:04:55.278501",
     "exception": false,
     "start_time": "2023-07-07T12:04:55.008039",
     "status": "completed"
    },
    "tags": []
   },
   "outputs": [
    {
     "data": {
      "image/png": "[encoded data removed]",
      "text/plain": [
       "<Figure size 640x480 with 1 Axes>"
      ]
     },
     "metadata": {},
     "output_type": "display_data"
    }
   ],
   "source": [
    "df.smoking_history.value_counts().plot(kind='bar')\n",
    "plt.show()"
   ]
  },
  {
   "cell_type": "code",
   "execution_count": 6,
   "id": "cc1202ac",
   "metadata": {
    "execution": {
     "iopub.execute_input": "2023-07-07T12:04:55.314934Z",
     "iopub.status.busy": "2023-07-07T12:04:55.314533Z",
     "iopub.status.idle": "2023-07-07T12:04:55.359995Z",
     "shell.execute_reply": "2023-07-07T12:04:55.358857Z"
    },
    "papermill": {
     "duration": 0.066704,
     "end_time": "2023-07-07T12:04:55.362633",
     "exception": false,
     "start_time": "2023-07-07T12:04:55.295929",
     "status": "completed"
    },
    "tags": []
   },
   "outputs": [
    {
     "data": {
      "text/plain": [
       "0.0"
      ]
     },
     "execution_count": 6,
     "metadata": {},
     "output_type": "execute_result"
    }
   ],
   "source": [
    "from scipy.stats import chi2_contingency\n",
    "ops = pd.crosstab(df.diabetes, df.smoking_history)\n",
    "chi, p, dof, ex = chi2_contingency(ops)\n",
    "p"
   ]
  },
  {
   "cell_type": "markdown",
   "id": "627b484c",
   "metadata": {
    "papermill": {
     "duration": 0.016673,
     "end_time": "2023-07-07T12:04:55.397226",
     "exception": false,
     "start_time": "2023-07-07T12:04:55.380553",
     "status": "completed"
    },
    "tags": []
   },
   "source": [
    "We can see that there is a lot of people from whom we did not get the information about smoking habits. Because of that we will leave that category in variable. We can consider grouping other categories that are not so frequent, but for now we will leave this variable as it is. Also we have checked is there correlation between output and this variable with chi2 test and results are saying that there is significant correlation between those two."
   ]
  },
  {
   "cell_type": "code",
   "execution_count": 7,
   "id": "2460cfed",
   "metadata": {
    "execution": {
     "iopub.execute_input": "2023-07-07T12:04:55.433285Z",
     "iopub.status.busy": "2023-07-07T12:04:55.432939Z",
     "iopub.status.idle": "2023-07-07T12:04:55.579279Z",
     "shell.execute_reply": "2023-07-07T12:04:55.578541Z"
    },
    "papermill": {
     "duration": 0.167194,
     "end_time": "2023-07-07T12:04:55.581222",
     "exception": false,
     "start_time": "2023-07-07T12:04:55.414028",
     "status": "completed"
    },
    "tags": []
   },
   "outputs": [
    {
     "data": {
      "image/png": "[encoded data removed]",
      "text/plain": [
       "<Figure size 640x480 with 1 Axes>"
      ]
     },
     "metadata": {},
     "output_type": "display_data"
    }
   ],
   "source": [
    "df.gender.value_counts().plot(kind='bar')\n",
    "plt.show()"
   ]
  },
  {
   "cell_type": "markdown",
   "id": "a28d786d",
   "metadata": {
    "papermill": {
     "duration": 0.01741,
     "end_time": "2023-07-07T12:04:55.616735",
     "exception": false,
     "start_time": "2023-07-07T12:04:55.599325",
     "status": "completed"
    },
    "tags": []
   },
   "source": [
    "From the bar chart we can se that there is more females than males. Also we can see that there exist other category, supposedly a error in data gathering. We will fix that issue."
   ]
  },
  {
   "cell_type": "code",
   "execution_count": 8,
   "id": "3f25f2c0",
   "metadata": {
    "execution": {
     "iopub.execute_input": "2023-07-07T12:04:55.654490Z",
     "iopub.status.busy": "2023-07-07T12:04:55.653818Z",
     "iopub.status.idle": "2023-07-07T12:04:55.665719Z",
     "shell.execute_reply": "2023-07-07T12:04:55.664642Z"
    },
    "papermill": {
     "duration": 0.03341,
     "end_time": "2023-07-07T12:04:55.667948",
     "exception": false,
     "start_time": "2023-07-07T12:04:55.634538",
     "status": "completed"
    },
    "tags": []
   },
   "outputs": [
    {
     "data": {
      "text/plain": [
       "Female    58552\n",
       "Male      41430\n",
       "Other        18\n",
       "Name: gender, dtype: int64"
      ]
     },
     "execution_count": 8,
     "metadata": {},
     "output_type": "execute_result"
    }
   ],
   "source": [
    "df.gender.value_counts()"
   ]
  },
  {
   "cell_type": "code",
   "execution_count": 9,
   "id": "d8299248",
   "metadata": {
    "execution": {
     "iopub.execute_input": "2023-07-07T12:04:55.705313Z",
     "iopub.status.busy": "2023-07-07T12:04:55.704949Z",
     "iopub.status.idle": "2023-07-07T12:04:55.734102Z",
     "shell.execute_reply": "2023-07-07T12:04:55.733064Z"
    },
    "papermill": {
     "duration": 0.050465,
     "end_time": "2023-07-07T12:04:55.736443",
     "exception": false,
     "start_time": "2023-07-07T12:04:55.685978",
     "status": "completed"
    },
    "tags": []
   },
   "outputs": [
    {
     "data": {
      "text/html": [
       "<div>\n",
       "<style scoped>\n",
       "    .dataframe tbody tr th:only-of-type {\n",
       "        vertical-align: middle;\n",
       "    }\n",
       "\n",
       "    .dataframe tbody tr th {\n",
       "        vertical-align: top;\n",
       "    }\n",
       "\n",
       "    .dataframe thead th {\n",
       "        text-align: right;\n",
       "    }\n",
       "</style>\n",
       "<table border=\"1\" class=\"dataframe\">\n",
       "  <thead>\n",
       "    <tr style=\"text-align: right;\">\n",
       "      <th></th>\n",
       "      <th>age</th>\n",
       "      <th>hypertension</th>\n",
       "      <th>heart_disease</th>\n",
       "      <th>bmi</th>\n",
       "      <th>HbA1c_level</th>\n",
       "      <th>blood_glucose_level</th>\n",
       "      <th>diabetes</th>\n",
       "    </tr>\n",
       "    <tr>\n",
       "      <th>gender</th>\n",
       "      <th></th>\n",
       "      <th></th>\n",
       "      <th></th>\n",
       "      <th></th>\n",
       "      <th></th>\n",
       "      <th></th>\n",
       "      <th></th>\n",
       "    </tr>\n",
       "  </thead>\n",
       "  <tbody>\n",
       "    <tr>\n",
       "      <th>Female</th>\n",
       "      <td>42.463291</td>\n",
       "      <td>0.071680</td>\n",
       "      <td>0.026677</td>\n",
       "      <td>27.449287</td>\n",
       "      <td>5.509477</td>\n",
       "      <td>137.468951</td>\n",
       "      <td>0.076189</td>\n",
       "    </tr>\n",
       "    <tr>\n",
       "      <th>Male</th>\n",
       "      <td>41.075139</td>\n",
       "      <td>0.079363</td>\n",
       "      <td>0.057446</td>\n",
       "      <td>27.139108</td>\n",
       "      <td>5.553041</td>\n",
       "      <td>138.890031</td>\n",
       "      <td>0.097490</td>\n",
       "    </tr>\n",
       "    <tr>\n",
       "      <th>Other</th>\n",
       "      <td>29.555556</td>\n",
       "      <td>0.000000</td>\n",
       "      <td>0.000000</td>\n",
       "      <td>27.379444</td>\n",
       "      <td>5.405556</td>\n",
       "      <td>139.444444</td>\n",
       "      <td>0.000000</td>\n",
       "    </tr>\n",
       "  </tbody>\n",
       "</table>\n",
       "</div>"
      ],
      "text/plain": [
       "              age  hypertension  heart_disease        bmi  HbA1c_level  \\\n",
       "gender                                                                   \n",
       "Female  42.463291      0.071680       0.026677  27.449287     5.509477   \n",
       "Male    41.075139      0.079363       0.057446  27.139108     5.553041   \n",
       "Other   29.555556      0.000000       0.000000  27.379444     5.405556   \n",
       "\n",
       "        blood_glucose_level  diabetes  \n",
       "gender                                 \n",
       "Female           137.468951  0.076189  \n",
       "Male             138.890031  0.097490  \n",
       "Other            139.444444  0.000000  "
      ]
     },
     "execution_count": 9,
     "metadata": {},
     "output_type": "execute_result"
    }
   ],
   "source": [
    "df.groupby('gender').mean(numeric_only=True)"
   ]
  },
  {
   "cell_type": "code",
   "execution_count": 10,
   "id": "eaf0c9c7",
   "metadata": {
    "execution": {
     "iopub.execute_input": "2023-07-07T12:04:55.775436Z",
     "iopub.status.busy": "2023-07-07T12:04:55.775058Z",
     "iopub.status.idle": "2023-07-07T12:04:55.814633Z",
     "shell.execute_reply": "2023-07-07T12:04:55.813590Z"
    },
    "papermill": {
     "duration": 0.062059,
     "end_time": "2023-07-07T12:04:55.816852",
     "exception": false,
     "start_time": "2023-07-07T12:04:55.754793",
     "status": "completed"
    },
    "tags": []
   },
   "outputs": [
    {
     "data": {
      "text/html": [
       "<div>\n",
       "<style scoped>\n",
       "    .dataframe tbody tr th:only-of-type {\n",
       "        vertical-align: middle;\n",
       "    }\n",
       "\n",
       "    .dataframe tbody tr th {\n",
       "        vertical-align: top;\n",
       "    }\n",
       "\n",
       "    .dataframe thead th {\n",
       "        text-align: right;\n",
       "    }\n",
       "</style>\n",
       "<table border=\"1\" class=\"dataframe\">\n",
       "  <thead>\n",
       "    <tr style=\"text-align: right;\">\n",
       "      <th>smoking_history</th>\n",
       "      <th>No Info</th>\n",
       "      <th>current</th>\n",
       "      <th>ever</th>\n",
       "      <th>former</th>\n",
       "      <th>never</th>\n",
       "      <th>not current</th>\n",
       "    </tr>\n",
       "    <tr>\n",
       "      <th>gender</th>\n",
       "      <th></th>\n",
       "      <th></th>\n",
       "      <th></th>\n",
       "      <th></th>\n",
       "      <th></th>\n",
       "      <th></th>\n",
       "    </tr>\n",
       "  </thead>\n",
       "  <tbody>\n",
       "    <tr>\n",
       "      <th>Female</th>\n",
       "      <td>19700</td>\n",
       "      <td>5058</td>\n",
       "      <td>2238</td>\n",
       "      <td>4774</td>\n",
       "      <td>22869</td>\n",
       "      <td>3913</td>\n",
       "    </tr>\n",
       "    <tr>\n",
       "      <th>Male</th>\n",
       "      <td>16110</td>\n",
       "      <td>4228</td>\n",
       "      <td>1765</td>\n",
       "      <td>4578</td>\n",
       "      <td>12223</td>\n",
       "      <td>2526</td>\n",
       "    </tr>\n",
       "    <tr>\n",
       "      <th>Other</th>\n",
       "      <td>6</td>\n",
       "      <td>0</td>\n",
       "      <td>1</td>\n",
       "      <td>0</td>\n",
       "      <td>3</td>\n",
       "      <td>8</td>\n",
       "    </tr>\n",
       "  </tbody>\n",
       "</table>\n",
       "</div>"
      ],
      "text/plain": [
       "smoking_history  No Info  current  ever  former  never  not current\n",
       "gender                                                             \n",
       "Female             19700     5058  2238    4774  22869         3913\n",
       "Male               16110     4228  1765    4578  12223         2526\n",
       "Other                  6        0     1       0      3            8"
      ]
     },
     "execution_count": 10,
     "metadata": {},
     "output_type": "execute_result"
    }
   ],
   "source": [
    "pd.crosstab(df.gender, df.smoking_history)"
   ]
  },
  {
   "cell_type": "markdown",
   "id": "0d9bd695",
   "metadata": {
    "papermill": {
     "duration": 0.018677,
     "end_time": "2023-07-07T12:04:55.853343",
     "exception": false,
     "start_time": "2023-07-07T12:04:55.834666",
     "status": "completed"
    },
    "tags": []
   },
   "source": [
    "Because the lack of correlation between `gender` and other variables, we can not fix by this values by hand. Beacuse there is only 18 `Other` values, we will set them to most frequent cateogory, `Female`."
   ]
  },
  {
   "cell_type": "code",
   "execution_count": 11,
   "id": "4d19f5b1",
   "metadata": {
    "execution": {
     "iopub.execute_input": "2023-07-07T12:04:55.892057Z",
     "iopub.status.busy": "2023-07-07T12:04:55.891036Z",
     "iopub.status.idle": "2023-07-07T12:04:55.904545Z",
     "shell.execute_reply": "2023-07-07T12:04:55.903635Z"
    },
    "papermill": {
     "duration": 0.034525,
     "end_time": "2023-07-07T12:04:55.906485",
     "exception": false,
     "start_time": "2023-07-07T12:04:55.871960",
     "status": "completed"
    },
    "tags": []
   },
   "outputs": [],
   "source": [
    "df.loc[df.gender=='Other', 'gender']='Female'"
   ]
  },
  {
   "cell_type": "code",
   "execution_count": 12,
   "id": "4e3f0607",
   "metadata": {
    "execution": {
     "iopub.execute_input": "2023-07-07T12:04:55.946714Z",
     "iopub.status.busy": "2023-07-07T12:04:55.946052Z",
     "iopub.status.idle": "2023-07-07T12:04:56.106040Z",
     "shell.execute_reply": "2023-07-07T12:04:56.104915Z"
    },
    "papermill": {
     "duration": 0.182348,
     "end_time": "2023-07-07T12:04:56.108404",
     "exception": false,
     "start_time": "2023-07-07T12:04:55.926056",
     "status": "completed"
    },
    "tags": []
   },
   "outputs": [
    {
     "data": {
      "image/png": "[encoded data removed]",
      "text/plain": [
       "<Figure size 640x480 with 1 Axes>"
      ]
     },
     "metadata": {},
     "output_type": "display_data"
    }
   ],
   "source": [
    "df.gender.value_counts().plot(kind='bar')\n",
    "plt.show()"
   ]
  },
  {
   "cell_type": "code",
   "execution_count": 13,
   "id": "11eeb169",
   "metadata": {
    "execution": {
     "iopub.execute_input": "2023-07-07T12:04:56.148127Z",
     "iopub.status.busy": "2023-07-07T12:04:56.147760Z",
     "iopub.status.idle": "2023-07-07T12:04:56.312714Z",
     "shell.execute_reply": "2023-07-07T12:04:56.311808Z"
    },
    "papermill": {
     "duration": 0.187656,
     "end_time": "2023-07-07T12:04:56.315119",
     "exception": false,
     "start_time": "2023-07-07T12:04:56.127463",
     "status": "completed"
    },
    "tags": []
   },
   "outputs": [
    {
     "data": {
      "image/png": "[encoded data removed]",
      "text/plain": [
       "<Figure size 640x480 with 1 Axes>"
      ]
     },
     "metadata": {},
     "output_type": "display_data"
    }
   ],
   "source": [
    "df.groupby('diabetes')['gender'].value_counts().plot(kind='bar')\n",
    "plt.show()"
   ]
  },
  {
   "cell_type": "code",
   "execution_count": 14,
   "id": "ffb388bc",
   "metadata": {
    "execution": {
     "iopub.execute_input": "2023-07-07T12:04:56.356005Z",
     "iopub.status.busy": "2023-07-07T12:04:56.355067Z",
     "iopub.status.idle": "2023-07-07T12:04:56.383180Z",
     "shell.execute_reply": "2023-07-07T12:04:56.382226Z"
    },
    "papermill": {
     "duration": 0.050155,
     "end_time": "2023-07-07T12:04:56.385126",
     "exception": false,
     "start_time": "2023-07-07T12:04:56.334971",
     "status": "completed"
    },
    "tags": []
   },
   "outputs": [
    {
     "data": {
      "text/plain": [
       "1.188732885582169e-32"
      ]
     },
     "execution_count": 14,
     "metadata": {},
     "output_type": "execute_result"
    }
   ],
   "source": [
    "from scipy.stats import chi2_contingency\n",
    "ops = pd.crosstab(df.diabetes, df.gender)\n",
    "chi, p, dof, ex = chi2_contingency(ops)\n",
    "p"
   ]
  },
  {
   "cell_type": "markdown",
   "id": "24a0a358",
   "metadata": {
    "papermill": {
     "duration": 0.018164,
     "end_time": "2023-07-07T12:04:56.421789",
     "exception": false,
     "start_time": "2023-07-07T12:04:56.403625",
     "status": "completed"
    },
    "tags": []
   },
   "source": [
    "We have also used chi2 test to find out if there is correlation between output and these variable, and there surley is. After finishing review of categorical data we can proceed on analysing numerical data. Because there is binary values and ordinary numerical values, we will have two separate analysis. First we will see what is happening with"
   ]
  },
  {
   "cell_type": "code",
   "execution_count": 15,
   "id": "437c6ecf",
   "metadata": {
    "execution": {
     "iopub.execute_input": "2023-07-07T12:04:56.462031Z",
     "iopub.status.busy": "2023-07-07T12:04:56.461701Z",
     "iopub.status.idle": "2023-07-07T12:04:56.508760Z",
     "shell.execute_reply": "2023-07-07T12:04:56.507838Z"
    },
    "papermill": {
     "duration": 0.070806,
     "end_time": "2023-07-07T12:04:56.511319",
     "exception": false,
     "start_time": "2023-07-07T12:04:56.440513",
     "status": "completed"
    },
    "tags": []
   },
   "outputs": [
    {
     "data": {
      "text/html": [
       "<div>\n",
       "<style scoped>\n",
       "    .dataframe tbody tr th:only-of-type {\n",
       "        vertical-align: middle;\n",
       "    }\n",
       "\n",
       "    .dataframe tbody tr th {\n",
       "        vertical-align: top;\n",
       "    }\n",
       "\n",
       "    .dataframe thead th {\n",
       "        text-align: right;\n",
       "    }\n",
       "</style>\n",
       "<table border=\"1\" class=\"dataframe\">\n",
       "  <thead>\n",
       "    <tr style=\"text-align: right;\">\n",
       "      <th></th>\n",
       "      <th>age</th>\n",
       "      <th>hypertension</th>\n",
       "      <th>heart_disease</th>\n",
       "      <th>bmi</th>\n",
       "      <th>HbA1c_level</th>\n",
       "      <th>blood_glucose_level</th>\n",
       "      <th>diabetes</th>\n",
       "    </tr>\n",
       "  </thead>\n",
       "  <tbody>\n",
       "    <tr>\n",
       "      <th>count</th>\n",
       "      <td>100000.000000</td>\n",
       "      <td>100000.00000</td>\n",
       "      <td>100000.000000</td>\n",
       "      <td>100000.000000</td>\n",
       "      <td>100000.000000</td>\n",
       "      <td>100000.000000</td>\n",
       "      <td>100000.000000</td>\n",
       "    </tr>\n",
       "    <tr>\n",
       "      <th>mean</th>\n",
       "      <td>41.885856</td>\n",
       "      <td>0.07485</td>\n",
       "      <td>0.039420</td>\n",
       "      <td>27.320767</td>\n",
       "      <td>5.527507</td>\n",
       "      <td>138.058060</td>\n",
       "      <td>0.085000</td>\n",
       "    </tr>\n",
       "    <tr>\n",
       "      <th>std</th>\n",
       "      <td>22.516840</td>\n",
       "      <td>0.26315</td>\n",
       "      <td>0.194593</td>\n",
       "      <td>6.636783</td>\n",
       "      <td>1.070672</td>\n",
       "      <td>40.708136</td>\n",
       "      <td>0.278883</td>\n",
       "    </tr>\n",
       "    <tr>\n",
       "      <th>min</th>\n",
       "      <td>0.080000</td>\n",
       "      <td>0.00000</td>\n",
       "      <td>0.000000</td>\n",
       "      <td>10.010000</td>\n",
       "      <td>3.500000</td>\n",
       "      <td>80.000000</td>\n",
       "      <td>0.000000</td>\n",
       "    </tr>\n",
       "    <tr>\n",
       "      <th>25%</th>\n",
       "      <td>24.000000</td>\n",
       "      <td>0.00000</td>\n",
       "      <td>0.000000</td>\n",
       "      <td>23.630000</td>\n",
       "      <td>4.800000</td>\n",
       "      <td>100.000000</td>\n",
       "      <td>0.000000</td>\n",
       "    </tr>\n",
       "    <tr>\n",
       "      <th>50%</th>\n",
       "      <td>43.000000</td>\n",
       "      <td>0.00000</td>\n",
       "      <td>0.000000</td>\n",
       "      <td>27.320000</td>\n",
       "      <td>5.800000</td>\n",
       "      <td>140.000000</td>\n",
       "      <td>0.000000</td>\n",
       "    </tr>\n",
       "    <tr>\n",
       "      <th>75%</th>\n",
       "      <td>60.000000</td>\n",
       "      <td>0.00000</td>\n",
       "      <td>0.000000</td>\n",
       "      <td>29.580000</td>\n",
       "      <td>6.200000</td>\n",
       "      <td>159.000000</td>\n",
       "      <td>0.000000</td>\n",
       "    </tr>\n",
       "    <tr>\n",
       "      <th>max</th>\n",
       "      <td>80.000000</td>\n",
       "      <td>1.00000</td>\n",
       "      <td>1.000000</td>\n",
       "      <td>95.690000</td>\n",
       "      <td>9.000000</td>\n",
       "      <td>300.000000</td>\n",
       "      <td>1.000000</td>\n",
       "    </tr>\n",
       "  </tbody>\n",
       "</table>\n",
       "</div>"
      ],
      "text/plain": [
       "                 age  hypertension  heart_disease            bmi  \\\n",
       "count  100000.000000  100000.00000  100000.000000  100000.000000   \n",
       "mean       41.885856       0.07485       0.039420      27.320767   \n",
       "std        22.516840       0.26315       0.194593       6.636783   \n",
       "min         0.080000       0.00000       0.000000      10.010000   \n",
       "25%        24.000000       0.00000       0.000000      23.630000   \n",
       "50%        43.000000       0.00000       0.000000      27.320000   \n",
       "75%        60.000000       0.00000       0.000000      29.580000   \n",
       "max        80.000000       1.00000       1.000000      95.690000   \n",
       "\n",
       "         HbA1c_level  blood_glucose_level       diabetes  \n",
       "count  100000.000000        100000.000000  100000.000000  \n",
       "mean        5.527507           138.058060       0.085000  \n",
       "std         1.070672            40.708136       0.278883  \n",
       "min         3.500000            80.000000       0.000000  \n",
       "25%         4.800000           100.000000       0.000000  \n",
       "50%         5.800000           140.000000       0.000000  \n",
       "75%         6.200000           159.000000       0.000000  \n",
       "max         9.000000           300.000000       1.000000  "
      ]
     },
     "execution_count": 15,
     "metadata": {},
     "output_type": "execute_result"
    }
   ],
   "source": [
    "df.describe()"
   ]
  },
  {
   "cell_type": "code",
   "execution_count": 16,
   "id": "1767fde1",
   "metadata": {
    "execution": {
     "iopub.execute_input": "2023-07-07T12:04:56.551844Z",
     "iopub.status.busy": "2023-07-07T12:04:56.551432Z",
     "iopub.status.idle": "2023-07-07T12:04:57.186489Z",
     "shell.execute_reply": "2023-07-07T12:04:57.185701Z"
    },
    "papermill": {
     "duration": 0.657146,
     "end_time": "2023-07-07T12:04:57.188283",
     "exception": false,
     "start_time": "2023-07-07T12:04:56.531137",
     "status": "completed"
    },
    "tags": []
   },
   "outputs": [
    {
     "data": {
      "image/png": "[encoded data removed]",
      "text/plain": [
       "<Figure size 1200x600 with 4 Axes>"
      ]
     },
     "metadata": {},
     "output_type": "display_data"
    }
   ],
   "source": [
    "df[['age','bmi','HbA1c_level','blood_glucose_level']].hist(figsize=(12,6))\n",
    "plt.show()"
   ]
  },
  {
   "cell_type": "code",
   "execution_count": 17,
   "id": "27e7a2ba",
   "metadata": {
    "execution": {
     "iopub.execute_input": "2023-07-07T12:04:57.227729Z",
     "iopub.status.busy": "2023-07-07T12:04:57.227400Z",
     "iopub.status.idle": "2023-07-07T12:04:57.489861Z",
     "shell.execute_reply": "2023-07-07T12:04:57.488608Z"
    },
    "papermill": {
     "duration": 0.286136,
     "end_time": "2023-07-07T12:04:57.493385",
     "exception": false,
     "start_time": "2023-07-07T12:04:57.207249",
     "status": "completed"
    },
    "tags": []
   },
   "outputs": [
    {
     "data": {
      "image/png": "[encoded data removed]",
      "text/plain": [
       "<Figure size 2000x1000 with 1 Axes>"
      ]
     },
     "metadata": {},
     "output_type": "display_data"
    }
   ],
   "source": [
    "df[['age','bmi','HbA1c_level','blood_glucose_level']].plot(kind='box', figsize=(20,10))\n",
    "plt.show()"
   ]
  },
  {
   "cell_type": "markdown",
   "id": "95beadf8",
   "metadata": {
    "papermill": {
     "duration": 0.019503,
     "end_time": "2023-07-07T12:04:57.533697",
     "exception": false,
     "start_time": "2023-07-07T12:04:57.514194",
     "status": "completed"
    },
    "tags": []
   },
   "source": [
    "First thing that we can see is that variable bmi has many outliers. We will leave them for now, becuase we must consider a multivariable outlier analysis later. Other variables have normal results, some of which have few outliers, but nothing strange. We can continue analysing binary variables."
   ]
  },
  {
   "cell_type": "code",
   "execution_count": 18,
   "id": "39b57edb",
   "metadata": {
    "execution": {
     "iopub.execute_input": "2023-07-07T12:04:57.575067Z",
     "iopub.status.busy": "2023-07-07T12:04:57.574745Z",
     "iopub.status.idle": "2023-07-07T12:04:57.584072Z",
     "shell.execute_reply": "2023-07-07T12:04:57.582968Z"
    },
    "papermill": {
     "duration": 0.032908,
     "end_time": "2023-07-07T12:04:57.586221",
     "exception": false,
     "start_time": "2023-07-07T12:04:57.553313",
     "status": "completed"
    },
    "tags": []
   },
   "outputs": [
    {
     "data": {
      "text/plain": [
       "0    0.915\n",
       "1    0.085\n",
       "Name: diabetes, dtype: float64"
      ]
     },
     "execution_count": 18,
     "metadata": {},
     "output_type": "execute_result"
    }
   ],
   "source": [
    "df.diabetes.value_counts(normalize=True)"
   ]
  },
  {
   "cell_type": "code",
   "execution_count": 19,
   "id": "fb0580b2",
   "metadata": {
    "execution": {
     "iopub.execute_input": "2023-07-07T12:04:57.628649Z",
     "iopub.status.busy": "2023-07-07T12:04:57.627231Z",
     "iopub.status.idle": "2023-07-07T12:04:57.638445Z",
     "shell.execute_reply": "2023-07-07T12:04:57.637041Z"
    },
    "papermill": {
     "duration": 0.034718,
     "end_time": "2023-07-07T12:04:57.640916",
     "exception": false,
     "start_time": "2023-07-07T12:04:57.606198",
     "status": "completed"
    },
    "tags": []
   },
   "outputs": [
    {
     "data": {
      "text/plain": [
       "0    0.92515\n",
       "1    0.07485\n",
       "Name: hypertension, dtype: float64"
      ]
     },
     "execution_count": 19,
     "metadata": {},
     "output_type": "execute_result"
    }
   ],
   "source": [
    "df.hypertension.value_counts(normalize=True)"
   ]
  },
  {
   "cell_type": "code",
   "execution_count": 20,
   "id": "93867641",
   "metadata": {
    "execution": {
     "iopub.execute_input": "2023-07-07T12:04:57.683640Z",
     "iopub.status.busy": "2023-07-07T12:04:57.683287Z",
     "iopub.status.idle": "2023-07-07T12:04:57.692979Z",
     "shell.execute_reply": "2023-07-07T12:04:57.692019Z"
    },
    "papermill": {
     "duration": 0.034236,
     "end_time": "2023-07-07T12:04:57.694633",
     "exception": false,
     "start_time": "2023-07-07T12:04:57.660397",
     "status": "completed"
    },
    "tags": []
   },
   "outputs": [
    {
     "data": {
      "text/plain": [
       "0    0.96058\n",
       "1    0.03942\n",
       "Name: heart_disease, dtype: float64"
      ]
     },
     "execution_count": 20,
     "metadata": {},
     "output_type": "execute_result"
    }
   ],
   "source": [
    "df.heart_disease.value_counts(normalize=True)"
   ]
  },
  {
   "cell_type": "code",
   "execution_count": 21,
   "id": "545d0810",
   "metadata": {
    "execution": {
     "iopub.execute_input": "2023-07-07T12:04:57.736876Z",
     "iopub.status.busy": "2023-07-07T12:04:57.736097Z",
     "iopub.status.idle": "2023-07-07T12:04:57.759240Z",
     "shell.execute_reply": "2023-07-07T12:04:57.757915Z"
    },
    "papermill": {
     "duration": 0.047506,
     "end_time": "2023-07-07T12:04:57.761740",
     "exception": false,
     "start_time": "2023-07-07T12:04:57.714234",
     "status": "completed"
    },
    "tags": []
   },
   "outputs": [
    {
     "data": {
      "text/html": [
       "<div>\n",
       "<style scoped>\n",
       "    .dataframe tbody tr th:only-of-type {\n",
       "        vertical-align: middle;\n",
       "    }\n",
       "\n",
       "    .dataframe tbody tr th {\n",
       "        vertical-align: top;\n",
       "    }\n",
       "\n",
       "    .dataframe thead th {\n",
       "        text-align: right;\n",
       "    }\n",
       "</style>\n",
       "<table border=\"1\" class=\"dataframe\">\n",
       "  <thead>\n",
       "    <tr style=\"text-align: right;\">\n",
       "      <th>hypertension</th>\n",
       "      <th>0</th>\n",
       "      <th>1</th>\n",
       "    </tr>\n",
       "    <tr>\n",
       "      <th>diabetes</th>\n",
       "      <th></th>\n",
       "      <th></th>\n",
       "    </tr>\n",
       "  </thead>\n",
       "  <tbody>\n",
       "    <tr>\n",
       "      <th>0</th>\n",
       "      <td>0.930692</td>\n",
       "      <td>0.721042</td>\n",
       "    </tr>\n",
       "    <tr>\n",
       "      <th>1</th>\n",
       "      <td>0.069308</td>\n",
       "      <td>0.278958</td>\n",
       "    </tr>\n",
       "  </tbody>\n",
       "</table>\n",
       "</div>"
      ],
      "text/plain": [
       "hypertension         0         1\n",
       "diabetes                        \n",
       "0             0.930692  0.721042\n",
       "1             0.069308  0.278958"
      ]
     },
     "execution_count": 21,
     "metadata": {},
     "output_type": "execute_result"
    }
   ],
   "source": [
    "pd.crosstab(index=df.diabetes, columns=df.hypertension, normalize='columns')"
   ]
  },
  {
   "cell_type": "code",
   "execution_count": 22,
   "id": "73b525ab",
   "metadata": {
    "execution": {
     "iopub.execute_input": "2023-07-07T12:04:57.803796Z",
     "iopub.status.busy": "2023-07-07T12:04:57.803267Z",
     "iopub.status.idle": "2023-07-07T12:04:57.812371Z",
     "shell.execute_reply": "2023-07-07T12:04:57.811147Z"
    },
    "papermill": {
     "duration": 0.032901,
     "end_time": "2023-07-07T12:04:57.814636",
     "exception": false,
     "start_time": "2023-07-07T12:04:57.781735",
     "status": "completed"
    },
    "tags": []
   },
   "outputs": [
    {
     "name": "stdout",
     "output_type": "stream",
     "text": [
      "Coef. correlation: 0.1717268495488512, p-value: 0.0\n"
     ]
    }
   ],
   "source": [
    "from scipy.stats import pearsonr\n",
    "r, p = pearsonr(df.diabetes, df.heart_disease)\n",
    "print(f'Coef. correlation: {r}, p-value: {p}')"
   ]
  },
  {
   "cell_type": "code",
   "execution_count": 23,
   "id": "63eed610",
   "metadata": {
    "execution": {
     "iopub.execute_input": "2023-07-07T12:04:57.870218Z",
     "iopub.status.busy": "2023-07-07T12:04:57.869132Z",
     "iopub.status.idle": "2023-07-07T12:04:57.878005Z",
     "shell.execute_reply": "2023-07-07T12:04:57.876883Z"
    },
    "papermill": {
     "duration": 0.038525,
     "end_time": "2023-07-07T12:04:57.879847",
     "exception": false,
     "start_time": "2023-07-07T12:04:57.841322",
     "status": "completed"
    },
    "tags": []
   },
   "outputs": [
    {
     "name": "stdout",
     "output_type": "stream",
     "text": [
      "Coef. correlation: 0.1978232464080518, p-value: 0.0\n"
     ]
    }
   ],
   "source": [
    "r, p = pearsonr(df.diabetes, df.hypertension)\n",
    "print(f'Coef. correlation: {r}, p-value: {p}')"
   ]
  },
  {
   "cell_type": "markdown",
   "id": "e8952ae3",
   "metadata": {
    "papermill": {
     "duration": 0.026444,
     "end_time": "2023-07-07T12:04:57.932755",
     "exception": false,
     "start_time": "2023-07-07T12:04:57.906311",
     "status": "completed"
    },
    "tags": []
   },
   "source": [
    "First of all we can see that we have huge class imbalance in this dataset, where only 5% of the people have diabetes. So we can say that accuracy for this classification problem will not be useful for evaulation. Also we can see that there is correlation between output and input binary variables with pearson correlation coeffietient. This is important because we can see that this variables have high impact on output.\n",
    "Next stage is transforming cateogorical into numerical data."
   ]
  },
  {
   "cell_type": "code",
   "execution_count": 24,
   "id": "4e186727",
   "metadata": {
    "execution": {
     "iopub.execute_input": "2023-07-07T12:04:57.987451Z",
     "iopub.status.busy": "2023-07-07T12:04:57.987127Z",
     "iopub.status.idle": "2023-07-07T12:04:58.026877Z",
     "shell.execute_reply": "2023-07-07T12:04:58.025963Z"
    },
    "papermill": {
     "duration": 0.070211,
     "end_time": "2023-07-07T12:04:58.029492",
     "exception": false,
     "start_time": "2023-07-07T12:04:57.959281",
     "status": "completed"
    },
    "tags": []
   },
   "outputs": [],
   "source": [
    "df.gender=df.gender.apply(lambda x: 1 if x == 'Female' else 0)"
   ]
  },
  {
   "cell_type": "code",
   "execution_count": 25,
   "id": "a1383e9f",
   "metadata": {
    "execution": {
     "iopub.execute_input": "2023-07-07T12:04:58.073472Z",
     "iopub.status.busy": "2023-07-07T12:04:58.073175Z",
     "iopub.status.idle": "2023-07-07T12:04:58.304336Z",
     "shell.execute_reply": "2023-07-07T12:04:58.303243Z"
    },
    "papermill": {
     "duration": 0.25611,
     "end_time": "2023-07-07T12:04:58.306426",
     "exception": false,
     "start_time": "2023-07-07T12:04:58.050316",
     "status": "completed"
    },
    "tags": []
   },
   "outputs": [
    {
     "data": {
      "text/html": [
       "<div>\n",
       "<style scoped>\n",
       "    .dataframe tbody tr th:only-of-type {\n",
       "        vertical-align: middle;\n",
       "    }\n",
       "\n",
       "    .dataframe tbody tr th {\n",
       "        vertical-align: top;\n",
       "    }\n",
       "\n",
       "    .dataframe thead th {\n",
       "        text-align: right;\n",
       "    }\n",
       "</style>\n",
       "<table border=\"1\" class=\"dataframe\">\n",
       "  <thead>\n",
       "    <tr style=\"text-align: right;\">\n",
       "      <th></th>\n",
       "      <th>No Info</th>\n",
       "      <th>current</th>\n",
       "      <th>ever</th>\n",
       "      <th>former</th>\n",
       "      <th>never</th>\n",
       "      <th>not current</th>\n",
       "    </tr>\n",
       "  </thead>\n",
       "  <tbody>\n",
       "    <tr>\n",
       "      <th>0</th>\n",
       "      <td>0.0</td>\n",
       "      <td>0.0</td>\n",
       "      <td>0.0</td>\n",
       "      <td>0.0</td>\n",
       "      <td>1.0</td>\n",
       "      <td>0.0</td>\n",
       "    </tr>\n",
       "    <tr>\n",
       "      <th>1</th>\n",
       "      <td>1.0</td>\n",
       "      <td>0.0</td>\n",
       "      <td>0.0</td>\n",
       "      <td>0.0</td>\n",
       "      <td>0.0</td>\n",
       "      <td>0.0</td>\n",
       "    </tr>\n",
       "    <tr>\n",
       "      <th>2</th>\n",
       "      <td>0.0</td>\n",
       "      <td>0.0</td>\n",
       "      <td>0.0</td>\n",
       "      <td>0.0</td>\n",
       "      <td>1.0</td>\n",
       "      <td>0.0</td>\n",
       "    </tr>\n",
       "    <tr>\n",
       "      <th>3</th>\n",
       "      <td>0.0</td>\n",
       "      <td>1.0</td>\n",
       "      <td>0.0</td>\n",
       "      <td>0.0</td>\n",
       "      <td>0.0</td>\n",
       "      <td>0.0</td>\n",
       "    </tr>\n",
       "    <tr>\n",
       "      <th>4</th>\n",
       "      <td>0.0</td>\n",
       "      <td>1.0</td>\n",
       "      <td>0.0</td>\n",
       "      <td>0.0</td>\n",
       "      <td>0.0</td>\n",
       "      <td>0.0</td>\n",
       "    </tr>\n",
       "    <tr>\n",
       "      <th>...</th>\n",
       "      <td>...</td>\n",
       "      <td>...</td>\n",
       "      <td>...</td>\n",
       "      <td>...</td>\n",
       "      <td>...</td>\n",
       "      <td>...</td>\n",
       "    </tr>\n",
       "    <tr>\n",
       "      <th>99995</th>\n",
       "      <td>1.0</td>\n",
       "      <td>0.0</td>\n",
       "      <td>0.0</td>\n",
       "      <td>0.0</td>\n",
       "      <td>0.0</td>\n",
       "      <td>0.0</td>\n",
       "    </tr>\n",
       "    <tr>\n",
       "      <th>99996</th>\n",
       "      <td>1.0</td>\n",
       "      <td>0.0</td>\n",
       "      <td>0.0</td>\n",
       "      <td>0.0</td>\n",
       "      <td>0.0</td>\n",
       "      <td>0.0</td>\n",
       "    </tr>\n",
       "    <tr>\n",
       "      <th>99997</th>\n",
       "      <td>0.0</td>\n",
       "      <td>0.0</td>\n",
       "      <td>0.0</td>\n",
       "      <td>1.0</td>\n",
       "      <td>0.0</td>\n",
       "      <td>0.0</td>\n",
       "    </tr>\n",
       "    <tr>\n",
       "      <th>99998</th>\n",
       "      <td>0.0</td>\n",
       "      <td>0.0</td>\n",
       "      <td>0.0</td>\n",
       "      <td>0.0</td>\n",
       "      <td>1.0</td>\n",
       "      <td>0.0</td>\n",
       "    </tr>\n",
       "    <tr>\n",
       "      <th>99999</th>\n",
       "      <td>0.0</td>\n",
       "      <td>1.0</td>\n",
       "      <td>0.0</td>\n",
       "      <td>0.0</td>\n",
       "      <td>0.0</td>\n",
       "      <td>0.0</td>\n",
       "    </tr>\n",
       "  </tbody>\n",
       "</table>\n",
       "<p>100000 rows × 6 columns</p>\n",
       "</div>"
      ],
      "text/plain": [
       "       No Info  current  ever  former  never  not current\n",
       "0          0.0      0.0   0.0     0.0    1.0          0.0\n",
       "1          1.0      0.0   0.0     0.0    0.0          0.0\n",
       "2          0.0      0.0   0.0     0.0    1.0          0.0\n",
       "3          0.0      1.0   0.0     0.0    0.0          0.0\n",
       "4          0.0      1.0   0.0     0.0    0.0          0.0\n",
       "...        ...      ...   ...     ...    ...          ...\n",
       "99995      1.0      0.0   0.0     0.0    0.0          0.0\n",
       "99996      1.0      0.0   0.0     0.0    0.0          0.0\n",
       "99997      0.0      0.0   0.0     1.0    0.0          0.0\n",
       "99998      0.0      0.0   0.0     0.0    1.0          0.0\n",
       "99999      0.0      1.0   0.0     0.0    0.0          0.0\n",
       "\n",
       "[100000 rows x 6 columns]"
      ]
     },
     "execution_count": 25,
     "metadata": {},
     "output_type": "execute_result"
    }
   ],
   "source": [
    "from sklearn.preprocessing import OneHotEncoder\n",
    "encoder = OneHotEncoder()\n",
    "ohe=encoder.fit_transform(df[['smoking_history']]).toarray()\n",
    "labels=encoder.categories_\n",
    "feat_labels=np.concatenate(labels)\n",
    "ohc_df=pd.DataFrame(data=ohe, columns=feat_labels)\n",
    "ohc_df"
   ]
  },
  {
   "cell_type": "code",
   "execution_count": 26,
   "id": "4efd5e21",
   "metadata": {
    "execution": {
     "iopub.execute_input": "2023-07-07T12:04:58.349028Z",
     "iopub.status.busy": "2023-07-07T12:04:58.348460Z",
     "iopub.status.idle": "2023-07-07T12:04:58.383857Z",
     "shell.execute_reply": "2023-07-07T12:04:58.382452Z"
    },
    "papermill": {
     "duration": 0.059393,
     "end_time": "2023-07-07T12:04:58.386097",
     "exception": false,
     "start_time": "2023-07-07T12:04:58.326704",
     "status": "completed"
    },
    "tags": []
   },
   "outputs": [
    {
     "data": {
      "text/html": [
       "<div>\n",
       "<style scoped>\n",
       "    .dataframe tbody tr th:only-of-type {\n",
       "        vertical-align: middle;\n",
       "    }\n",
       "\n",
       "    .dataframe tbody tr th {\n",
       "        vertical-align: top;\n",
       "    }\n",
       "\n",
       "    .dataframe thead th {\n",
       "        text-align: right;\n",
       "    }\n",
       "</style>\n",
       "<table border=\"1\" class=\"dataframe\">\n",
       "  <thead>\n",
       "    <tr style=\"text-align: right;\">\n",
       "      <th></th>\n",
       "      <th>gender</th>\n",
       "      <th>age</th>\n",
       "      <th>hypertension</th>\n",
       "      <th>heart_disease</th>\n",
       "      <th>bmi</th>\n",
       "      <th>HbA1c_level</th>\n",
       "      <th>blood_glucose_level</th>\n",
       "      <th>diabetes</th>\n",
       "      <th>No Info</th>\n",
       "      <th>current</th>\n",
       "      <th>ever</th>\n",
       "      <th>former</th>\n",
       "      <th>never</th>\n",
       "      <th>not current</th>\n",
       "    </tr>\n",
       "  </thead>\n",
       "  <tbody>\n",
       "    <tr>\n",
       "      <th>0</th>\n",
       "      <td>1</td>\n",
       "      <td>80.0</td>\n",
       "      <td>0</td>\n",
       "      <td>1</td>\n",
       "      <td>25.19</td>\n",
       "      <td>6.6</td>\n",
       "      <td>140</td>\n",
       "      <td>0</td>\n",
       "      <td>0.0</td>\n",
       "      <td>0.0</td>\n",
       "      <td>0.0</td>\n",
       "      <td>0.0</td>\n",
       "      <td>1.0</td>\n",
       "      <td>0.0</td>\n",
       "    </tr>\n",
       "    <tr>\n",
       "      <th>1</th>\n",
       "      <td>1</td>\n",
       "      <td>54.0</td>\n",
       "      <td>0</td>\n",
       "      <td>0</td>\n",
       "      <td>27.32</td>\n",
       "      <td>6.6</td>\n",
       "      <td>80</td>\n",
       "      <td>0</td>\n",
       "      <td>1.0</td>\n",
       "      <td>0.0</td>\n",
       "      <td>0.0</td>\n",
       "      <td>0.0</td>\n",
       "      <td>0.0</td>\n",
       "      <td>0.0</td>\n",
       "    </tr>\n",
       "    <tr>\n",
       "      <th>2</th>\n",
       "      <td>0</td>\n",
       "      <td>28.0</td>\n",
       "      <td>0</td>\n",
       "      <td>0</td>\n",
       "      <td>27.32</td>\n",
       "      <td>5.7</td>\n",
       "      <td>158</td>\n",
       "      <td>0</td>\n",
       "      <td>0.0</td>\n",
       "      <td>0.0</td>\n",
       "      <td>0.0</td>\n",
       "      <td>0.0</td>\n",
       "      <td>1.0</td>\n",
       "      <td>0.0</td>\n",
       "    </tr>\n",
       "    <tr>\n",
       "      <th>3</th>\n",
       "      <td>1</td>\n",
       "      <td>36.0</td>\n",
       "      <td>0</td>\n",
       "      <td>0</td>\n",
       "      <td>23.45</td>\n",
       "      <td>5.0</td>\n",
       "      <td>155</td>\n",
       "      <td>0</td>\n",
       "      <td>0.0</td>\n",
       "      <td>1.0</td>\n",
       "      <td>0.0</td>\n",
       "      <td>0.0</td>\n",
       "      <td>0.0</td>\n",
       "      <td>0.0</td>\n",
       "    </tr>\n",
       "    <tr>\n",
       "      <th>4</th>\n",
       "      <td>0</td>\n",
       "      <td>76.0</td>\n",
       "      <td>1</td>\n",
       "      <td>1</td>\n",
       "      <td>20.14</td>\n",
       "      <td>4.8</td>\n",
       "      <td>155</td>\n",
       "      <td>0</td>\n",
       "      <td>0.0</td>\n",
       "      <td>1.0</td>\n",
       "      <td>0.0</td>\n",
       "      <td>0.0</td>\n",
       "      <td>0.0</td>\n",
       "      <td>0.0</td>\n",
       "    </tr>\n",
       "    <tr>\n",
       "      <th>...</th>\n",
       "      <td>...</td>\n",
       "      <td>...</td>\n",
       "      <td>...</td>\n",
       "      <td>...</td>\n",
       "      <td>...</td>\n",
       "      <td>...</td>\n",
       "      <td>...</td>\n",
       "      <td>...</td>\n",
       "      <td>...</td>\n",
       "      <td>...</td>\n",
       "      <td>...</td>\n",
       "      <td>...</td>\n",
       "      <td>...</td>\n",
       "      <td>...</td>\n",
       "    </tr>\n",
       "    <tr>\n",
       "      <th>99995</th>\n",
       "      <td>1</td>\n",
       "      <td>80.0</td>\n",
       "      <td>0</td>\n",
       "      <td>0</td>\n",
       "      <td>27.32</td>\n",
       "      <td>6.2</td>\n",
       "      <td>90</td>\n",
       "      <td>0</td>\n",
       "      <td>1.0</td>\n",
       "      <td>0.0</td>\n",
       "      <td>0.0</td>\n",
       "      <td>0.0</td>\n",
       "      <td>0.0</td>\n",
       "      <td>0.0</td>\n",
       "    </tr>\n",
       "    <tr>\n",
       "      <th>99996</th>\n",
       "      <td>1</td>\n",
       "      <td>2.0</td>\n",
       "      <td>0</td>\n",
       "      <td>0</td>\n",
       "      <td>17.37</td>\n",
       "      <td>6.5</td>\n",
       "      <td>100</td>\n",
       "      <td>0</td>\n",
       "      <td>1.0</td>\n",
       "      <td>0.0</td>\n",
       "      <td>0.0</td>\n",
       "      <td>0.0</td>\n",
       "      <td>0.0</td>\n",
       "      <td>0.0</td>\n",
       "    </tr>\n",
       "    <tr>\n",
       "      <th>99997</th>\n",
       "      <td>0</td>\n",
       "      <td>66.0</td>\n",
       "      <td>0</td>\n",
       "      <td>0</td>\n",
       "      <td>27.83</td>\n",
       "      <td>5.7</td>\n",
       "      <td>155</td>\n",
       "      <td>0</td>\n",
       "      <td>0.0</td>\n",
       "      <td>0.0</td>\n",
       "      <td>0.0</td>\n",
       "      <td>1.0</td>\n",
       "      <td>0.0</td>\n",
       "      <td>0.0</td>\n",
       "    </tr>\n",
       "    <tr>\n",
       "      <th>99998</th>\n",
       "      <td>1</td>\n",
       "      <td>24.0</td>\n",
       "      <td>0</td>\n",
       "      <td>0</td>\n",
       "      <td>35.42</td>\n",
       "      <td>4.0</td>\n",
       "      <td>100</td>\n",
       "      <td>0</td>\n",
       "      <td>0.0</td>\n",
       "      <td>0.0</td>\n",
       "      <td>0.0</td>\n",
       "      <td>0.0</td>\n",
       "      <td>1.0</td>\n",
       "      <td>0.0</td>\n",
       "    </tr>\n",
       "    <tr>\n",
       "      <th>99999</th>\n",
       "      <td>1</td>\n",
       "      <td>57.0</td>\n",
       "      <td>0</td>\n",
       "      <td>0</td>\n",
       "      <td>22.43</td>\n",
       "      <td>6.6</td>\n",
       "      <td>90</td>\n",
       "      <td>0</td>\n",
       "      <td>0.0</td>\n",
       "      <td>1.0</td>\n",
       "      <td>0.0</td>\n",
       "      <td>0.0</td>\n",
       "      <td>0.0</td>\n",
       "      <td>0.0</td>\n",
       "    </tr>\n",
       "  </tbody>\n",
       "</table>\n",
       "<p>100000 rows × 14 columns</p>\n",
       "</div>"
      ],
      "text/plain": [
       "       gender   age  hypertension  heart_disease    bmi  HbA1c_level  \\\n",
       "0           1  80.0             0              1  25.19          6.6   \n",
       "1           1  54.0             0              0  27.32          6.6   \n",
       "2           0  28.0             0              0  27.32          5.7   \n",
       "3           1  36.0             0              0  23.45          5.0   \n",
       "4           0  76.0             1              1  20.14          4.8   \n",
       "...       ...   ...           ...            ...    ...          ...   \n",
       "99995       1  80.0             0              0  27.32          6.2   \n",
       "99996       1   2.0             0              0  17.37          6.5   \n",
       "99997       0  66.0             0              0  27.83          5.7   \n",
       "99998       1  24.0             0              0  35.42          4.0   \n",
       "99999       1  57.0             0              0  22.43          6.6   \n",
       "\n",
       "       blood_glucose_level  diabetes  No Info  current  ever  former  never  \\\n",
       "0                      140         0      0.0      0.0   0.0     0.0    1.0   \n",
       "1                       80         0      1.0      0.0   0.0     0.0    0.0   \n",
       "2                      158         0      0.0      0.0   0.0     0.0    1.0   \n",
       "3                      155         0      0.0      1.0   0.0     0.0    0.0   \n",
       "4                      155         0      0.0      1.0   0.0     0.0    0.0   \n",
       "...                    ...       ...      ...      ...   ...     ...    ...   \n",
       "99995                   90         0      1.0      0.0   0.0     0.0    0.0   \n",
       "99996                  100         0      1.0      0.0   0.0     0.0    0.0   \n",
       "99997                  155         0      0.0      0.0   0.0     1.0    0.0   \n",
       "99998                  100         0      0.0      0.0   0.0     0.0    1.0   \n",
       "99999                   90         0      0.0      1.0   0.0     0.0    0.0   \n",
       "\n",
       "       not current  \n",
       "0              0.0  \n",
       "1              0.0  \n",
       "2              0.0  \n",
       "3              0.0  \n",
       "4              0.0  \n",
       "...            ...  \n",
       "99995          0.0  \n",
       "99996          0.0  \n",
       "99997          0.0  \n",
       "99998          0.0  \n",
       "99999          0.0  \n",
       "\n",
       "[100000 rows x 14 columns]"
      ]
     },
     "execution_count": 26,
     "metadata": {},
     "output_type": "execute_result"
    }
   ],
   "source": [
    "df=pd.concat([df, ohc_df], axis=1)\n",
    "df=df.drop('smoking_history', axis=1)\n",
    "df"
   ]
  },
  {
   "cell_type": "markdown",
   "id": "8b3c1fd4",
   "metadata": {
    "papermill": {
     "duration": 0.021026,
     "end_time": "2023-07-07T12:04:58.428145",
     "exception": false,
     "start_time": "2023-07-07T12:04:58.407119",
     "status": "completed"
    },
    "tags": []
   },
   "source": [
    "Because `gender` was binary categorical variable we used binary conversion, where `Female` now have value 1, and `Male` now have value 0. For `smoking_history` variable we have used **OneHotEncoder** and made 5 new columns, for each unique value of this variable. Last thing to do for preprocessing data is to normalize it. "
   ]
  },
  {
   "cell_type": "code",
   "execution_count": 27,
   "id": "96c070a9",
   "metadata": {
    "execution": {
     "iopub.execute_input": "2023-07-07T12:04:58.472648Z",
     "iopub.status.busy": "2023-07-07T12:04:58.472303Z",
     "iopub.status.idle": "2023-07-07T12:04:58.510694Z",
     "shell.execute_reply": "2023-07-07T12:04:58.509751Z"
    },
    "papermill": {
     "duration": 0.063216,
     "end_time": "2023-07-07T12:04:58.513057",
     "exception": false,
     "start_time": "2023-07-07T12:04:58.449841",
     "status": "completed"
    },
    "tags": []
   },
   "outputs": [
    {
     "data": {
      "text/html": [
       "<div>\n",
       "<style scoped>\n",
       "    .dataframe tbody tr th:only-of-type {\n",
       "        vertical-align: middle;\n",
       "    }\n",
       "\n",
       "    .dataframe tbody tr th {\n",
       "        vertical-align: top;\n",
       "    }\n",
       "\n",
       "    .dataframe thead th {\n",
       "        text-align: right;\n",
       "    }\n",
       "</style>\n",
       "<table border=\"1\" class=\"dataframe\">\n",
       "  <thead>\n",
       "    <tr style=\"text-align: right;\">\n",
       "      <th></th>\n",
       "      <th>gender</th>\n",
       "      <th>age</th>\n",
       "      <th>hypertension</th>\n",
       "      <th>heart_disease</th>\n",
       "      <th>bmi</th>\n",
       "      <th>HbA1c_level</th>\n",
       "      <th>blood_glucose_level</th>\n",
       "      <th>diabetes</th>\n",
       "      <th>No Info</th>\n",
       "      <th>current</th>\n",
       "      <th>ever</th>\n",
       "      <th>former</th>\n",
       "      <th>never</th>\n",
       "      <th>not current</th>\n",
       "    </tr>\n",
       "  </thead>\n",
       "  <tbody>\n",
       "    <tr>\n",
       "      <th>0</th>\n",
       "      <td>1.0</td>\n",
       "      <td>1.000000</td>\n",
       "      <td>0.0</td>\n",
       "      <td>1.0</td>\n",
       "      <td>0.177171</td>\n",
       "      <td>0.563636</td>\n",
       "      <td>0.272727</td>\n",
       "      <td>0.0</td>\n",
       "      <td>0.0</td>\n",
       "      <td>0.0</td>\n",
       "      <td>0.0</td>\n",
       "      <td>0.0</td>\n",
       "      <td>1.0</td>\n",
       "      <td>0.0</td>\n",
       "    </tr>\n",
       "    <tr>\n",
       "      <th>1</th>\n",
       "      <td>1.0</td>\n",
       "      <td>0.674675</td>\n",
       "      <td>0.0</td>\n",
       "      <td>0.0</td>\n",
       "      <td>0.202031</td>\n",
       "      <td>0.563636</td>\n",
       "      <td>0.000000</td>\n",
       "      <td>0.0</td>\n",
       "      <td>1.0</td>\n",
       "      <td>0.0</td>\n",
       "      <td>0.0</td>\n",
       "      <td>0.0</td>\n",
       "      <td>0.0</td>\n",
       "      <td>0.0</td>\n",
       "    </tr>\n",
       "    <tr>\n",
       "      <th>2</th>\n",
       "      <td>0.0</td>\n",
       "      <td>0.349349</td>\n",
       "      <td>0.0</td>\n",
       "      <td>0.0</td>\n",
       "      <td>0.202031</td>\n",
       "      <td>0.400000</td>\n",
       "      <td>0.354545</td>\n",
       "      <td>0.0</td>\n",
       "      <td>0.0</td>\n",
       "      <td>0.0</td>\n",
       "      <td>0.0</td>\n",
       "      <td>0.0</td>\n",
       "      <td>1.0</td>\n",
       "      <td>0.0</td>\n",
       "    </tr>\n",
       "    <tr>\n",
       "      <th>3</th>\n",
       "      <td>1.0</td>\n",
       "      <td>0.449449</td>\n",
       "      <td>0.0</td>\n",
       "      <td>0.0</td>\n",
       "      <td>0.156863</td>\n",
       "      <td>0.272727</td>\n",
       "      <td>0.340909</td>\n",
       "      <td>0.0</td>\n",
       "      <td>0.0</td>\n",
       "      <td>1.0</td>\n",
       "      <td>0.0</td>\n",
       "      <td>0.0</td>\n",
       "      <td>0.0</td>\n",
       "      <td>0.0</td>\n",
       "    </tr>\n",
       "    <tr>\n",
       "      <th>4</th>\n",
       "      <td>0.0</td>\n",
       "      <td>0.949950</td>\n",
       "      <td>1.0</td>\n",
       "      <td>1.0</td>\n",
       "      <td>0.118231</td>\n",
       "      <td>0.236364</td>\n",
       "      <td>0.340909</td>\n",
       "      <td>0.0</td>\n",
       "      <td>0.0</td>\n",
       "      <td>1.0</td>\n",
       "      <td>0.0</td>\n",
       "      <td>0.0</td>\n",
       "      <td>0.0</td>\n",
       "      <td>0.0</td>\n",
       "    </tr>\n",
       "    <tr>\n",
       "      <th>...</th>\n",
       "      <td>...</td>\n",
       "      <td>...</td>\n",
       "      <td>...</td>\n",
       "      <td>...</td>\n",
       "      <td>...</td>\n",
       "      <td>...</td>\n",
       "      <td>...</td>\n",
       "      <td>...</td>\n",
       "      <td>...</td>\n",
       "      <td>...</td>\n",
       "      <td>...</td>\n",
       "      <td>...</td>\n",
       "      <td>...</td>\n",
       "      <td>...</td>\n",
       "    </tr>\n",
       "    <tr>\n",
       "      <th>99995</th>\n",
       "      <td>1.0</td>\n",
       "      <td>1.000000</td>\n",
       "      <td>0.0</td>\n",
       "      <td>0.0</td>\n",
       "      <td>0.202031</td>\n",
       "      <td>0.490909</td>\n",
       "      <td>0.045455</td>\n",
       "      <td>0.0</td>\n",
       "      <td>1.0</td>\n",
       "      <td>0.0</td>\n",
       "      <td>0.0</td>\n",
       "      <td>0.0</td>\n",
       "      <td>0.0</td>\n",
       "      <td>0.0</td>\n",
       "    </tr>\n",
       "    <tr>\n",
       "      <th>99996</th>\n",
       "      <td>1.0</td>\n",
       "      <td>0.024024</td>\n",
       "      <td>0.0</td>\n",
       "      <td>0.0</td>\n",
       "      <td>0.085901</td>\n",
       "      <td>0.545455</td>\n",
       "      <td>0.090909</td>\n",
       "      <td>0.0</td>\n",
       "      <td>1.0</td>\n",
       "      <td>0.0</td>\n",
       "      <td>0.0</td>\n",
       "      <td>0.0</td>\n",
       "      <td>0.0</td>\n",
       "      <td>0.0</td>\n",
       "    </tr>\n",
       "    <tr>\n",
       "      <th>99997</th>\n",
       "      <td>0.0</td>\n",
       "      <td>0.824825</td>\n",
       "      <td>0.0</td>\n",
       "      <td>0.0</td>\n",
       "      <td>0.207983</td>\n",
       "      <td>0.400000</td>\n",
       "      <td>0.340909</td>\n",
       "      <td>0.0</td>\n",
       "      <td>0.0</td>\n",
       "      <td>0.0</td>\n",
       "      <td>0.0</td>\n",
       "      <td>1.0</td>\n",
       "      <td>0.0</td>\n",
       "      <td>0.0</td>\n",
       "    </tr>\n",
       "    <tr>\n",
       "      <th>99998</th>\n",
       "      <td>1.0</td>\n",
       "      <td>0.299299</td>\n",
       "      <td>0.0</td>\n",
       "      <td>0.0</td>\n",
       "      <td>0.296569</td>\n",
       "      <td>0.090909</td>\n",
       "      <td>0.090909</td>\n",
       "      <td>0.0</td>\n",
       "      <td>0.0</td>\n",
       "      <td>0.0</td>\n",
       "      <td>0.0</td>\n",
       "      <td>0.0</td>\n",
       "      <td>1.0</td>\n",
       "      <td>0.0</td>\n",
       "    </tr>\n",
       "    <tr>\n",
       "      <th>99999</th>\n",
       "      <td>1.0</td>\n",
       "      <td>0.712212</td>\n",
       "      <td>0.0</td>\n",
       "      <td>0.0</td>\n",
       "      <td>0.144958</td>\n",
       "      <td>0.563636</td>\n",
       "      <td>0.045455</td>\n",
       "      <td>0.0</td>\n",
       "      <td>0.0</td>\n",
       "      <td>1.0</td>\n",
       "      <td>0.0</td>\n",
       "      <td>0.0</td>\n",
       "      <td>0.0</td>\n",
       "      <td>0.0</td>\n",
       "    </tr>\n",
       "  </tbody>\n",
       "</table>\n",
       "<p>100000 rows × 14 columns</p>\n",
       "</div>"
      ],
      "text/plain": [
       "       gender       age  hypertension  heart_disease       bmi  HbA1c_level  \\\n",
       "0         1.0  1.000000           0.0            1.0  0.177171     0.563636   \n",
       "1         1.0  0.674675           0.0            0.0  0.202031     0.563636   \n",
       "2         0.0  0.349349           0.0            0.0  0.202031     0.400000   \n",
       "3         1.0  0.449449           0.0            0.0  0.156863     0.272727   \n",
       "4         0.0  0.949950           1.0            1.0  0.118231     0.236364   \n",
       "...       ...       ...           ...            ...       ...          ...   \n",
       "99995     1.0  1.000000           0.0            0.0  0.202031     0.490909   \n",
       "99996     1.0  0.024024           0.0            0.0  0.085901     0.545455   \n",
       "99997     0.0  0.824825           0.0            0.0  0.207983     0.400000   \n",
       "99998     1.0  0.299299           0.0            0.0  0.296569     0.090909   \n",
       "99999     1.0  0.712212           0.0            0.0  0.144958     0.563636   \n",
       "\n",
       "       blood_glucose_level  diabetes  No Info  current  ever  former  never  \\\n",
       "0                 0.272727       0.0      0.0      0.0   0.0     0.0    1.0   \n",
       "1                 0.000000       0.0      1.0      0.0   0.0     0.0    0.0   \n",
       "2                 0.354545       0.0      0.0      0.0   0.0     0.0    1.0   \n",
       "3                 0.340909       0.0      0.0      1.0   0.0     0.0    0.0   \n",
       "4                 0.340909       0.0      0.0      1.0   0.0     0.0    0.0   \n",
       "...                    ...       ...      ...      ...   ...     ...    ...   \n",
       "99995             0.045455       0.0      1.0      0.0   0.0     0.0    0.0   \n",
       "99996             0.090909       0.0      1.0      0.0   0.0     0.0    0.0   \n",
       "99997             0.340909       0.0      0.0      0.0   0.0     1.0    0.0   \n",
       "99998             0.090909       0.0      0.0      0.0   0.0     0.0    1.0   \n",
       "99999             0.045455       0.0      0.0      1.0   0.0     0.0    0.0   \n",
       "\n",
       "       not current  \n",
       "0              0.0  \n",
       "1              0.0  \n",
       "2              0.0  \n",
       "3              0.0  \n",
       "4              0.0  \n",
       "...            ...  \n",
       "99995          0.0  \n",
       "99996          0.0  \n",
       "99997          0.0  \n",
       "99998          0.0  \n",
       "99999          0.0  \n",
       "\n",
       "[100000 rows x 14 columns]"
      ]
     },
     "execution_count": 27,
     "metadata": {},
     "output_type": "execute_result"
    }
   ],
   "source": [
    "from sklearn.preprocessing import MinMaxScaler\n",
    "scaler = MinMaxScaler()\n",
    "np_norm=scaler.fit_transform(df)\n",
    "df_norm=pd.DataFrame(data=np_norm, columns=df.columns)\n",
    "df_norm"
   ]
  },
  {
   "cell_type": "markdown",
   "id": "a8f2f5fa",
   "metadata": {
    "papermill": {
     "duration": 0.021317,
     "end_time": "2023-07-07T12:04:58.556258",
     "exception": false,
     "start_time": "2023-07-07T12:04:58.534941",
     "status": "completed"
    },
    "tags": []
   },
   "source": [
    "Because there is a lot of columns that is made from **OneHotEncoder**, for normalization we used **MinMaxScaler**. Our preprocessing is finished and we can now focus on anolmaly detection. Before that we need to separate train and test set for further modeling."
   ]
  },
  {
   "cell_type": "code",
   "execution_count": 28,
   "id": "25253a00",
   "metadata": {
    "execution": {
     "iopub.execute_input": "2023-07-07T12:04:58.599273Z",
     "iopub.status.busy": "2023-07-07T12:04:58.598981Z",
     "iopub.status.idle": "2023-07-07T12:04:58.746835Z",
     "shell.execute_reply": "2023-07-07T12:04:58.745409Z"
    },
    "papermill": {
     "duration": 0.172018,
     "end_time": "2023-07-07T12:04:58.749220",
     "exception": false,
     "start_time": "2023-07-07T12:04:58.577202",
     "status": "completed"
    },
    "tags": []
   },
   "outputs": [],
   "source": [
    "from sklearn.model_selection import train_test_split\n",
    "X_train, X_test, y_train, y_test = train_test_split(df_norm.drop('diabetes', axis=1), df_norm.diabetes, test_size=0.2, random_state=13)"
   ]
  },
  {
   "cell_type": "code",
   "execution_count": 29,
   "id": "a376f70b",
   "metadata": {
    "execution": {
     "iopub.execute_input": "2023-07-07T12:04:58.793138Z",
     "iopub.status.busy": "2023-07-07T12:04:58.792823Z",
     "iopub.status.idle": "2023-07-07T12:05:24.330026Z",
     "shell.execute_reply": "2023-07-07T12:05:24.328655Z"
    },
    "papermill": {
     "duration": 25.562235,
     "end_time": "2023-07-07T12:05:24.332729",
     "exception": false,
     "start_time": "2023-07-07T12:04:58.770494",
     "status": "completed"
    },
    "tags": []
   },
   "outputs": [
    {
     "data": {
      "image/png": "[encoded data removed]",
      "text/plain": [
       "<Figure size 640x480 with 1 Axes>"
      ]
     },
     "metadata": {},
     "output_type": "display_data"
    }
   ],
   "source": [
    "from sklearn.neighbors import NearestNeighbors\n",
    "out = NearestNeighbors()\n",
    "out.fit(X_train)\n",
    "distances, indexes = out.kneighbors()\n",
    "plt.plot(distances.mean(axis=1))\n",
    "plt.axhline(0.3, color = 'r')\n",
    "plt.show()"
   ]
  },
  {
   "cell_type": "code",
   "execution_count": 30,
   "id": "937c0fa9",
   "metadata": {
    "execution": {
     "iopub.execute_input": "2023-07-07T12:05:24.378937Z",
     "iopub.status.busy": "2023-07-07T12:05:24.378554Z",
     "iopub.status.idle": "2023-07-07T12:05:24.396907Z",
     "shell.execute_reply": "2023-07-07T12:05:24.395679Z"
    },
    "papermill": {
     "duration": 0.0442,
     "end_time": "2023-07-07T12:05:24.399635",
     "exception": false,
     "start_time": "2023-07-07T12:05:24.355435",
     "status": "completed"
    },
    "tags": []
   },
   "outputs": [],
   "source": [
    "X_train=X_train.reset_index()\n",
    "y_train=y_train.reset_index()\n",
    "X_train=X_train.drop('index', axis=1)\n",
    "y_train=y_train.drop('index', axis=1)\n",
    "outlier_index = np.where(distances.mean(axis=1)>0.3)\n",
    "X_train_noout=X_train.drop(outlier_index[0])\n",
    "y_train_noout = y_train.drop(outlier_index[0])"
   ]
  },
  {
   "cell_type": "markdown",
   "id": "87eb1423",
   "metadata": {
    "papermill": {
     "duration": 0.02192,
     "end_time": "2023-07-07T12:05:24.444215",
     "exception": false,
     "start_time": "2023-07-07T12:05:24.422295",
     "status": "completed"
    },
    "tags": []
   },
   "source": [
    "We have now made new dataset which involves data without outliers based on **KNN** model. We will use both in future analysis so we can see how does models work on both of them but also we will use feature engineering and selection to make one more dataset. For feature engineering we will be using **PolynomialFeatures**."
   ]
  },
  {
   "cell_type": "code",
   "execution_count": 31,
   "id": "942f0a95",
   "metadata": {
    "execution": {
     "iopub.execute_input": "2023-07-07T12:05:24.488778Z",
     "iopub.status.busy": "2023-07-07T12:05:24.488383Z",
     "iopub.status.idle": "2023-07-07T12:05:24.676588Z",
     "shell.execute_reply": "2023-07-07T12:05:24.675351Z"
    },
    "papermill": {
     "duration": 0.212843,
     "end_time": "2023-07-07T12:05:24.678640",
     "exception": false,
     "start_time": "2023-07-07T12:05:24.465797",
     "status": "completed"
    },
    "tags": []
   },
   "outputs": [
    {
     "data": {
      "text/html": [
       "<div>\n",
       "<style scoped>\n",
       "    .dataframe tbody tr th:only-of-type {\n",
       "        vertical-align: middle;\n",
       "    }\n",
       "\n",
       "    .dataframe tbody tr th {\n",
       "        vertical-align: top;\n",
       "    }\n",
       "\n",
       "    .dataframe thead th {\n",
       "        text-align: right;\n",
       "    }\n",
       "</style>\n",
       "<table border=\"1\" class=\"dataframe\">\n",
       "  <thead>\n",
       "    <tr style=\"text-align: right;\">\n",
       "      <th></th>\n",
       "      <th>1</th>\n",
       "      <th>gender</th>\n",
       "      <th>age</th>\n",
       "      <th>hypertension</th>\n",
       "      <th>heart_disease</th>\n",
       "      <th>bmi</th>\n",
       "      <th>HbA1c_level</th>\n",
       "      <th>blood_glucose_level</th>\n",
       "      <th>No Info</th>\n",
       "      <th>current</th>\n",
       "      <th>...</th>\n",
       "      <th>ever former</th>\n",
       "      <th>ever never</th>\n",
       "      <th>ever not current</th>\n",
       "      <th>former^2</th>\n",
       "      <th>former never</th>\n",
       "      <th>former not current</th>\n",
       "      <th>never^2</th>\n",
       "      <th>never not current</th>\n",
       "      <th>not current^2</th>\n",
       "      <th>diabetes</th>\n",
       "    </tr>\n",
       "  </thead>\n",
       "  <tbody>\n",
       "    <tr>\n",
       "      <th>0</th>\n",
       "      <td>1.0</td>\n",
       "      <td>1.0</td>\n",
       "      <td>1.000000</td>\n",
       "      <td>0.0</td>\n",
       "      <td>1.0</td>\n",
       "      <td>0.177171</td>\n",
       "      <td>0.563636</td>\n",
       "      <td>0.272727</td>\n",
       "      <td>0.0</td>\n",
       "      <td>0.0</td>\n",
       "      <td>...</td>\n",
       "      <td>0.0</td>\n",
       "      <td>0.0</td>\n",
       "      <td>0.0</td>\n",
       "      <td>0.0</td>\n",
       "      <td>0.0</td>\n",
       "      <td>0.0</td>\n",
       "      <td>1.0</td>\n",
       "      <td>0.0</td>\n",
       "      <td>0.0</td>\n",
       "      <td>0.0</td>\n",
       "    </tr>\n",
       "    <tr>\n",
       "      <th>1</th>\n",
       "      <td>1.0</td>\n",
       "      <td>1.0</td>\n",
       "      <td>0.674675</td>\n",
       "      <td>0.0</td>\n",
       "      <td>0.0</td>\n",
       "      <td>0.202031</td>\n",
       "      <td>0.563636</td>\n",
       "      <td>0.000000</td>\n",
       "      <td>1.0</td>\n",
       "      <td>0.0</td>\n",
       "      <td>...</td>\n",
       "      <td>0.0</td>\n",
       "      <td>0.0</td>\n",
       "      <td>0.0</td>\n",
       "      <td>0.0</td>\n",
       "      <td>0.0</td>\n",
       "      <td>0.0</td>\n",
       "      <td>0.0</td>\n",
       "      <td>0.0</td>\n",
       "      <td>0.0</td>\n",
       "      <td>0.0</td>\n",
       "    </tr>\n",
       "    <tr>\n",
       "      <th>2</th>\n",
       "      <td>1.0</td>\n",
       "      <td>0.0</td>\n",
       "      <td>0.349349</td>\n",
       "      <td>0.0</td>\n",
       "      <td>0.0</td>\n",
       "      <td>0.202031</td>\n",
       "      <td>0.400000</td>\n",
       "      <td>0.354545</td>\n",
       "      <td>0.0</td>\n",
       "      <td>0.0</td>\n",
       "      <td>...</td>\n",
       "      <td>0.0</td>\n",
       "      <td>0.0</td>\n",
       "      <td>0.0</td>\n",
       "      <td>0.0</td>\n",
       "      <td>0.0</td>\n",
       "      <td>0.0</td>\n",
       "      <td>1.0</td>\n",
       "      <td>0.0</td>\n",
       "      <td>0.0</td>\n",
       "      <td>0.0</td>\n",
       "    </tr>\n",
       "    <tr>\n",
       "      <th>3</th>\n",
       "      <td>1.0</td>\n",
       "      <td>1.0</td>\n",
       "      <td>0.449449</td>\n",
       "      <td>0.0</td>\n",
       "      <td>0.0</td>\n",
       "      <td>0.156863</td>\n",
       "      <td>0.272727</td>\n",
       "      <td>0.340909</td>\n",
       "      <td>0.0</td>\n",
       "      <td>1.0</td>\n",
       "      <td>...</td>\n",
       "      <td>0.0</td>\n",
       "      <td>0.0</td>\n",
       "      <td>0.0</td>\n",
       "      <td>0.0</td>\n",
       "      <td>0.0</td>\n",
       "      <td>0.0</td>\n",
       "      <td>0.0</td>\n",
       "      <td>0.0</td>\n",
       "      <td>0.0</td>\n",
       "      <td>0.0</td>\n",
       "    </tr>\n",
       "    <tr>\n",
       "      <th>4</th>\n",
       "      <td>1.0</td>\n",
       "      <td>0.0</td>\n",
       "      <td>0.949950</td>\n",
       "      <td>1.0</td>\n",
       "      <td>1.0</td>\n",
       "      <td>0.118231</td>\n",
       "      <td>0.236364</td>\n",
       "      <td>0.340909</td>\n",
       "      <td>0.0</td>\n",
       "      <td>1.0</td>\n",
       "      <td>...</td>\n",
       "      <td>0.0</td>\n",
       "      <td>0.0</td>\n",
       "      <td>0.0</td>\n",
       "      <td>0.0</td>\n",
       "      <td>0.0</td>\n",
       "      <td>0.0</td>\n",
       "      <td>0.0</td>\n",
       "      <td>0.0</td>\n",
       "      <td>0.0</td>\n",
       "      <td>0.0</td>\n",
       "    </tr>\n",
       "    <tr>\n",
       "      <th>...</th>\n",
       "      <td>...</td>\n",
       "      <td>...</td>\n",
       "      <td>...</td>\n",
       "      <td>...</td>\n",
       "      <td>...</td>\n",
       "      <td>...</td>\n",
       "      <td>...</td>\n",
       "      <td>...</td>\n",
       "      <td>...</td>\n",
       "      <td>...</td>\n",
       "      <td>...</td>\n",
       "      <td>...</td>\n",
       "      <td>...</td>\n",
       "      <td>...</td>\n",
       "      <td>...</td>\n",
       "      <td>...</td>\n",
       "      <td>...</td>\n",
       "      <td>...</td>\n",
       "      <td>...</td>\n",
       "      <td>...</td>\n",
       "      <td>...</td>\n",
       "    </tr>\n",
       "    <tr>\n",
       "      <th>99995</th>\n",
       "      <td>1.0</td>\n",
       "      <td>1.0</td>\n",
       "      <td>1.000000</td>\n",
       "      <td>0.0</td>\n",
       "      <td>0.0</td>\n",
       "      <td>0.202031</td>\n",
       "      <td>0.490909</td>\n",
       "      <td>0.045455</td>\n",
       "      <td>1.0</td>\n",
       "      <td>0.0</td>\n",
       "      <td>...</td>\n",
       "      <td>0.0</td>\n",
       "      <td>0.0</td>\n",
       "      <td>0.0</td>\n",
       "      <td>0.0</td>\n",
       "      <td>0.0</td>\n",
       "      <td>0.0</td>\n",
       "      <td>0.0</td>\n",
       "      <td>0.0</td>\n",
       "      <td>0.0</td>\n",
       "      <td>0.0</td>\n",
       "    </tr>\n",
       "    <tr>\n",
       "      <th>99996</th>\n",
       "      <td>1.0</td>\n",
       "      <td>1.0</td>\n",
       "      <td>0.024024</td>\n",
       "      <td>0.0</td>\n",
       "      <td>0.0</td>\n",
       "      <td>0.085901</td>\n",
       "      <td>0.545455</td>\n",
       "      <td>0.090909</td>\n",
       "      <td>1.0</td>\n",
       "      <td>0.0</td>\n",
       "      <td>...</td>\n",
       "      <td>0.0</td>\n",
       "      <td>0.0</td>\n",
       "      <td>0.0</td>\n",
       "      <td>0.0</td>\n",
       "      <td>0.0</td>\n",
       "      <td>0.0</td>\n",
       "      <td>0.0</td>\n",
       "      <td>0.0</td>\n",
       "      <td>0.0</td>\n",
       "      <td>0.0</td>\n",
       "    </tr>\n",
       "    <tr>\n",
       "      <th>99997</th>\n",
       "      <td>1.0</td>\n",
       "      <td>0.0</td>\n",
       "      <td>0.824825</td>\n",
       "      <td>0.0</td>\n",
       "      <td>0.0</td>\n",
       "      <td>0.207983</td>\n",
       "      <td>0.400000</td>\n",
       "      <td>0.340909</td>\n",
       "      <td>0.0</td>\n",
       "      <td>0.0</td>\n",
       "      <td>...</td>\n",
       "      <td>0.0</td>\n",
       "      <td>0.0</td>\n",
       "      <td>0.0</td>\n",
       "      <td>1.0</td>\n",
       "      <td>0.0</td>\n",
       "      <td>0.0</td>\n",
       "      <td>0.0</td>\n",
       "      <td>0.0</td>\n",
       "      <td>0.0</td>\n",
       "      <td>0.0</td>\n",
       "    </tr>\n",
       "    <tr>\n",
       "      <th>99998</th>\n",
       "      <td>1.0</td>\n",
       "      <td>1.0</td>\n",
       "      <td>0.299299</td>\n",
       "      <td>0.0</td>\n",
       "      <td>0.0</td>\n",
       "      <td>0.296569</td>\n",
       "      <td>0.090909</td>\n",
       "      <td>0.090909</td>\n",
       "      <td>0.0</td>\n",
       "      <td>0.0</td>\n",
       "      <td>...</td>\n",
       "      <td>0.0</td>\n",
       "      <td>0.0</td>\n",
       "      <td>0.0</td>\n",
       "      <td>0.0</td>\n",
       "      <td>0.0</td>\n",
       "      <td>0.0</td>\n",
       "      <td>1.0</td>\n",
       "      <td>0.0</td>\n",
       "      <td>0.0</td>\n",
       "      <td>0.0</td>\n",
       "    </tr>\n",
       "    <tr>\n",
       "      <th>99999</th>\n",
       "      <td>1.0</td>\n",
       "      <td>1.0</td>\n",
       "      <td>0.712212</td>\n",
       "      <td>0.0</td>\n",
       "      <td>0.0</td>\n",
       "      <td>0.144958</td>\n",
       "      <td>0.563636</td>\n",
       "      <td>0.045455</td>\n",
       "      <td>0.0</td>\n",
       "      <td>1.0</td>\n",
       "      <td>...</td>\n",
       "      <td>0.0</td>\n",
       "      <td>0.0</td>\n",
       "      <td>0.0</td>\n",
       "      <td>0.0</td>\n",
       "      <td>0.0</td>\n",
       "      <td>0.0</td>\n",
       "      <td>0.0</td>\n",
       "      <td>0.0</td>\n",
       "      <td>0.0</td>\n",
       "      <td>0.0</td>\n",
       "    </tr>\n",
       "  </tbody>\n",
       "</table>\n",
       "<p>100000 rows × 106 columns</p>\n",
       "</div>"
      ],
      "text/plain": [
       "         1  gender       age  hypertension  heart_disease       bmi  \\\n",
       "0      1.0     1.0  1.000000           0.0            1.0  0.177171   \n",
       "1      1.0     1.0  0.674675           0.0            0.0  0.202031   \n",
       "2      1.0     0.0  0.349349           0.0            0.0  0.202031   \n",
       "3      1.0     1.0  0.449449           0.0            0.0  0.156863   \n",
       "4      1.0     0.0  0.949950           1.0            1.0  0.118231   \n",
       "...    ...     ...       ...           ...            ...       ...   \n",
       "99995  1.0     1.0  1.000000           0.0            0.0  0.202031   \n",
       "99996  1.0     1.0  0.024024           0.0            0.0  0.085901   \n",
       "99997  1.0     0.0  0.824825           0.0            0.0  0.207983   \n",
       "99998  1.0     1.0  0.299299           0.0            0.0  0.296569   \n",
       "99999  1.0     1.0  0.712212           0.0            0.0  0.144958   \n",
       "\n",
       "       HbA1c_level  blood_glucose_level  No Info  current  ...  ever former  \\\n",
       "0         0.563636             0.272727      0.0      0.0  ...          0.0   \n",
       "1         0.563636             0.000000      1.0      0.0  ...          0.0   \n",
       "2         0.400000             0.354545      0.0      0.0  ...          0.0   \n",
       "3         0.272727             0.340909      0.0      1.0  ...          0.0   \n",
       "4         0.236364             0.340909      0.0      1.0  ...          0.0   \n",
       "...            ...                  ...      ...      ...  ...          ...   \n",
       "99995     0.490909             0.045455      1.0      0.0  ...          0.0   \n",
       "99996     0.545455             0.090909      1.0      0.0  ...          0.0   \n",
       "99997     0.400000             0.340909      0.0      0.0  ...          0.0   \n",
       "99998     0.090909             0.090909      0.0      0.0  ...          0.0   \n",
       "99999     0.563636             0.045455      0.0      1.0  ...          0.0   \n",
       "\n",
       "       ever never  ever not current  former^2  former never  \\\n",
       "0             0.0               0.0       0.0           0.0   \n",
       "1             0.0               0.0       0.0           0.0   \n",
       "2             0.0               0.0       0.0           0.0   \n",
       "3             0.0               0.0       0.0           0.0   \n",
       "4             0.0               0.0       0.0           0.0   \n",
       "...           ...               ...       ...           ...   \n",
       "99995         0.0               0.0       0.0           0.0   \n",
       "99996         0.0               0.0       0.0           0.0   \n",
       "99997         0.0               0.0       1.0           0.0   \n",
       "99998         0.0               0.0       0.0           0.0   \n",
       "99999         0.0               0.0       0.0           0.0   \n",
       "\n",
       "       former not current  never^2  never not current  not current^2  diabetes  \n",
       "0                     0.0      1.0                0.0            0.0       0.0  \n",
       "1                     0.0      0.0                0.0            0.0       0.0  \n",
       "2                     0.0      1.0                0.0            0.0       0.0  \n",
       "3                     0.0      0.0                0.0            0.0       0.0  \n",
       "4                     0.0      0.0                0.0            0.0       0.0  \n",
       "...                   ...      ...                ...            ...       ...  \n",
       "99995                 0.0      0.0                0.0            0.0       0.0  \n",
       "99996                 0.0      0.0                0.0            0.0       0.0  \n",
       "99997                 0.0      0.0                0.0            0.0       0.0  \n",
       "99998                 0.0      1.0                0.0            0.0       0.0  \n",
       "99999                 0.0      0.0                0.0            0.0       0.0  \n",
       "\n",
       "[100000 rows x 106 columns]"
      ]
     },
     "execution_count": 31,
     "metadata": {},
     "output_type": "execute_result"
    }
   ],
   "source": [
    "from sklearn.preprocessing import PolynomialFeatures\n",
    "df_newfeat = df_norm.drop('diabetes', axis=1).copy()\n",
    "poly=PolynomialFeatures(degree=2)\n",
    "np_poly=poly.fit_transform(df_newfeat)\n",
    "df_poly=pd.DataFrame(data=np_poly, columns=poly.get_feature_names_out())\n",
    "df_poly['diabetes']=df_norm.diabetes\n",
    "df_poly"
   ]
  },
  {
   "cell_type": "code",
   "execution_count": 32,
   "id": "6c61bb26",
   "metadata": {
    "execution": {
     "iopub.execute_input": "2023-07-07T12:05:24.723488Z",
     "iopub.status.busy": "2023-07-07T12:05:24.723131Z",
     "iopub.status.idle": "2023-07-07T12:05:24.780132Z",
     "shell.execute_reply": "2023-07-07T12:05:24.778944Z"
    },
    "papermill": {
     "duration": 0.082523,
     "end_time": "2023-07-07T12:05:24.782857",
     "exception": false,
     "start_time": "2023-07-07T12:05:24.700334",
     "status": "completed"
    },
    "tags": []
   },
   "outputs": [],
   "source": [
    "X_train_poly, X_test_poly, y_train_poly, y_test_poly = train_test_split(df_poly.drop('diabetes', axis=1), df_poly.diabetes, test_size=0.2, random_state=13)"
   ]
  },
  {
   "cell_type": "markdown",
   "id": "c21b1b44",
   "metadata": {
    "papermill": {
     "duration": 0.022031,
     "end_time": "2023-07-07T12:05:24.827076",
     "exception": false,
     "start_time": "2023-07-07T12:05:24.805045",
     "status": "completed"
    },
    "tags": []
   },
   "source": [
    "After we have made new features, we need to use feature selection tools so we can select only the most important columns from dataset and dodge a overfit problem. For feature selection we will use VarianceThreshold with 0.7 probability."
   ]
  },
  {
   "cell_type": "code",
   "execution_count": 33,
   "id": "96ce1463",
   "metadata": {
    "execution": {
     "iopub.execute_input": "2023-07-07T12:05:24.872168Z",
     "iopub.status.busy": "2023-07-07T12:05:24.871870Z",
     "iopub.status.idle": "2023-07-07T12:05:25.088827Z",
     "shell.execute_reply": "2023-07-07T12:05:25.087396Z"
    },
    "papermill": {
     "duration": 0.242188,
     "end_time": "2023-07-07T12:05:25.091326",
     "exception": false,
     "start_time": "2023-07-07T12:05:24.849138",
     "status": "completed"
    },
    "tags": []
   },
   "outputs": [],
   "source": [
    "from sklearn.feature_selection import VarianceThreshold\n",
    "selection = VarianceThreshold(threshold=(0.05))\n",
    "selection.fit(pd.concat([X_train_poly, y_train_poly], axis=1))\n",
    "labels=selection.get_support()\n",
    "df_sel_train=pd.concat([X_train_poly, y_train_poly], axis=1).loc[:,labels]\n",
    "df_sel_test=pd.concat([X_test_poly, y_test_poly], axis=1).loc[:,labels]\n",
    "X_train_sel = df_sel_train.drop('diabetes', axis=1)\n",
    "X_test_sel = df_sel_test.drop('diabetes', axis=1)\n",
    "y_train_sel = df_sel_train.diabetes\n",
    "y_test_sel = df_sel_test.diabetes"
   ]
  },
  {
   "cell_type": "markdown",
   "id": "e466906f",
   "metadata": {
    "papermill": {
     "duration": 0.022259,
     "end_time": "2023-07-07T12:05:25.135961",
     "exception": false,
     "start_time": "2023-07-07T12:05:25.113702",
     "status": "completed"
    },
    "tags": []
   },
   "source": [
    "Now we have total of 4 datasets that we will going to use: starter set, no outlier set, polynomial feature created set and feature selected set. For every one of this sets we will make models. Now its modeling time, where we will first make pipline for modeling, and then start creating models. We will use 3 main algorithms for this problem, DescisionTree, KNearestNeighbros, LogisticRegression and one boosting algorithm, GradientBoost. For every of the sets we will be using hyperparameters optimization using GridSearchCV method. Because classification accuracy is not great metric for this problem, every descision is basen on maximizing recall and auc metrics."
   ]
  },
  {
   "cell_type": "code",
   "execution_count": 34,
   "id": "e1820b14",
   "metadata": {
    "execution": {
     "iopub.execute_input": "2023-07-07T12:05:25.181918Z",
     "iopub.status.busy": "2023-07-07T12:05:25.181542Z",
     "iopub.status.idle": "2023-07-07T12:05:25.187520Z",
     "shell.execute_reply": "2023-07-07T12:05:25.186457Z"
    },
    "papermill": {
     "duration": 0.031221,
     "end_time": "2023-07-07T12:05:25.189477",
     "exception": false,
     "start_time": "2023-07-07T12:05:25.158256",
     "status": "completed"
    },
    "tags": []
   },
   "outputs": [],
   "source": [
    "resultsTree = pd.DataFrame()\n",
    "resultsKNN = pd.DataFrame()\n",
    "resultsLogistic = pd.DataFrame()\n",
    "resultsBoost = pd.DataFrame()"
   ]
  },
  {
   "cell_type": "code",
   "execution_count": 35,
   "id": "0341d508",
   "metadata": {
    "execution": {
     "iopub.execute_input": "2023-07-07T12:05:25.235163Z",
     "iopub.status.busy": "2023-07-07T12:05:25.234763Z",
     "iopub.status.idle": "2023-07-07T12:05:25.422473Z",
     "shell.execute_reply": "2023-07-07T12:05:25.421474Z"
    },
    "papermill": {
     "duration": 0.213262,
     "end_time": "2023-07-07T12:05:25.424906",
     "exception": false,
     "start_time": "2023-07-07T12:05:25.211644",
     "status": "completed"
    },
    "tags": []
   },
   "outputs": [],
   "source": [
    "from sklearn.tree import DecisionTreeClassifier\n",
    "from sklearn.neighbors import KNeighborsClassifier\n",
    "from sklearn.linear_model import LogisticRegression\n",
    "from sklearn.ensemble import GradientBoostingClassifier\n",
    "from sklearn.model_selection import GridSearchCV\n",
    "from sklearn.metrics import confusion_matrix, ConfusionMatrixDisplay, recall_score, precision_score, roc_auc_score\n",
    "def evaulation(y, y_hat,):\n",
    "    ConfusionMatrixDisplay(confusion_matrix(y, y_hat), display_labels=[False, True]).plot()\n",
    "    plt.show()\n",
    "    print(f'Recall: {recall_score(y, y_hat)}')\n",
    "    print(f'Precision: {precision_score(y, y_hat)}')\n",
    "def auc_print(y, y_hat_probs):\n",
    "    print(f'AUC score: {roc_auc_score(y, y_hat_probs)}')"
   ]
  },
  {
   "cell_type": "code",
   "execution_count": 36,
   "id": "3fcc2c8a",
   "metadata": {
    "execution": {
     "iopub.execute_input": "2023-07-07T12:05:25.471894Z",
     "iopub.status.busy": "2023-07-07T12:05:25.470840Z",
     "iopub.status.idle": "2023-07-07T12:05:25.476256Z",
     "shell.execute_reply": "2023-07-07T12:05:25.475622Z"
    },
    "papermill": {
     "duration": 0.030605,
     "end_time": "2023-07-07T12:05:25.477985",
     "exception": false,
     "start_time": "2023-07-07T12:05:25.447380",
     "status": "completed"
    },
    "tags": []
   },
   "outputs": [],
   "source": [
    "def resultsDataFrame(y, y_hat, y_hat_prob, column_name):\n",
    "        return pd.DataFrame({f'{column_name}' : [round(roc_auc_score(y, y_hat_prob), 4), round(precision_score(y, y_hat), 4), round(recall_score(y, y_hat), 4)]}, index=['AUC', 'Precision', 'Recall'])"
   ]
  },
  {
   "cell_type": "code",
   "execution_count": 37,
   "id": "b5a52c4c",
   "metadata": {
    "execution": {
     "iopub.execute_input": "2023-07-07T12:05:25.523236Z",
     "iopub.status.busy": "2023-07-07T12:05:25.522377Z",
     "iopub.status.idle": "2023-07-07T12:05:25.529977Z",
     "shell.execute_reply": "2023-07-07T12:05:25.528850Z"
    },
    "papermill": {
     "duration": 0.032782,
     "end_time": "2023-07-07T12:05:25.532165",
     "exception": false,
     "start_time": "2023-07-07T12:05:25.499383",
     "status": "completed"
    },
    "tags": []
   },
   "outputs": [],
   "source": [
    "gridTree = GridSearchCV(estimator=DecisionTreeClassifier(), param_grid={'min_samples_leaf' : [2,3,4,5,6], 'max_depth' : [2,3,4,5,6], 'min_samples_split' : [2,3,4,5,6]}, cv=3, scoring='roc_auc')\n",
    "gridKNN = GridSearchCV(estimator=KNeighborsClassifier(), param_grid={'n_neighbors' : [3,5,7,9,11,13,15,17,19,21,23,25,27,29,31]}, cv=5, scoring='roc_auc')\n",
    "gridLogistic = GridSearchCV(estimator=LogisticRegression(), param_grid={'C' : [0.01,0.05, 0.1, 0.2, 0.3, 0.5, 0.8, 1, 2, 5, 10]}, cv=5, scoring='roc_auc')\n",
    "gridBoost = GridSearchCV(estimator=GradientBoostingClassifier(), param_grid={'learning_rate' : [0.05, 0.1, 0.2, 0.5, 1], 'n_estimators': [30,50,70,100]} ,cv=3, scoring='roc_auc')"
   ]
  },
  {
   "cell_type": "markdown",
   "id": "98595b84",
   "metadata": {
    "papermill": {
     "duration": 0.021595,
     "end_time": "2023-07-07T12:05:25.576106",
     "exception": false,
     "start_time": "2023-07-07T12:05:25.554511",
     "status": "completed"
    },
    "tags": []
   },
   "source": [
    "We have created GridSerachCV for every algorithm we will use. Now we will fit this grid into datasets and create models one by one."
   ]
  },
  {
   "cell_type": "markdown",
   "id": "1b1ec8a9",
   "metadata": {
    "papermill": {
     "duration": 0.021301,
     "end_time": "2023-07-07T12:05:25.619023",
     "exception": false,
     "start_time": "2023-07-07T12:05:25.597722",
     "status": "completed"
    },
    "tags": []
   },
   "source": [
    "## Basic dataset"
   ]
  },
  {
   "cell_type": "code",
   "execution_count": 38,
   "id": "76506394",
   "metadata": {
    "execution": {
     "iopub.execute_input": "2023-07-07T12:05:25.664416Z",
     "iopub.status.busy": "2023-07-07T12:05:25.664063Z",
     "iopub.status.idle": "2023-07-07T12:06:00.045937Z",
     "shell.execute_reply": "2023-07-07T12:06:00.044637Z"
    },
    "papermill": {
     "duration": 34.428116,
     "end_time": "2023-07-07T12:06:00.068985",
     "exception": false,
     "start_time": "2023-07-07T12:05:25.640869",
     "status": "completed"
    },
    "tags": []
   },
   "outputs": [
    {
     "name": "stdout",
     "output_type": "stream",
     "text": [
      "{'max_depth': 6, 'min_samples_leaf': 2, 'min_samples_split': 2}\n"
     ]
    }
   ],
   "source": [
    "gridTree.fit(X_train, y_train)\n",
    "print(gridTree.best_params_)"
   ]
  },
  {
   "cell_type": "code",
   "execution_count": 39,
   "id": "e152fc42",
   "metadata": {
    "execution": {
     "iopub.execute_input": "2023-07-07T12:06:00.115049Z",
     "iopub.status.busy": "2023-07-07T12:06:00.114487Z",
     "iopub.status.idle": "2023-07-07T12:06:00.546180Z",
     "shell.execute_reply": "2023-07-07T12:06:00.545553Z"
    },
    "papermill": {
     "duration": 0.457446,
     "end_time": "2023-07-07T12:06:00.548037",
     "exception": false,
     "start_time": "2023-07-07T12:06:00.090591",
     "status": "completed"
    },
    "tags": []
   },
   "outputs": [
    {
     "data": {
      "image/png": "[encoded data removed]",
      "text/plain": [
       "<Figure size 640x480 with 2 Axes>"
      ]
     },
     "metadata": {},
     "output_type": "display_data"
    },
    {
     "name": "stdout",
     "output_type": "stream",
     "text": [
      "Recall: 0.668614845119813\n",
      "Precision: 1.0\n",
      "AUC score: 0.9618451769193486\n"
     ]
    }
   ],
   "source": [
    "model_tree1 = DecisionTreeClassifier(max_depth=6, min_samples_leaf=2,min_samples_split=2).fit(X_train, y_train)\n",
    "evaulation(y_test, model_tree1.predict(X_test))\n",
    "auc_print(y_test, model_tree1.predict_proba(X_test)[:,1])\n",
    "resultsTree=pd.concat([resultsTree, resultsDataFrame(y_test,model_tree1.predict(X_test), model_tree1.predict_proba(X_test)[:,1], 'Basic')], axis=1)"
   ]
  },
  {
   "cell_type": "code",
   "execution_count": 40,
   "id": "4ed9276c",
   "metadata": {
    "execution": {
     "iopub.execute_input": "2023-07-07T12:06:00.594834Z",
     "iopub.status.busy": "2023-07-07T12:06:00.594275Z",
     "iopub.status.idle": "2023-07-07T12:11:41.176052Z",
     "shell.execute_reply": "2023-07-07T12:11:41.174698Z"
    },
    "papermill": {
     "duration": 340.629248,
     "end_time": "2023-07-07T12:11:41.199752",
     "exception": false,
     "start_time": "2023-07-07T12:06:00.570504",
     "status": "completed"
    },
    "tags": []
   },
   "outputs": [
    {
     "name": "stdout",
     "output_type": "stream",
     "text": [
      "{'n_neighbors': 31}\n"
     ]
    }
   ],
   "source": [
    "gridKNN.fit(X_train, y_train)\n",
    "print(gridKNN.best_params_)"
   ]
  },
  {
   "cell_type": "code",
   "execution_count": 41,
   "id": "31b73d31",
   "metadata": {
    "execution": {
     "iopub.execute_input": "2023-07-07T12:11:41.245539Z",
     "iopub.status.busy": "2023-07-07T12:11:41.245134Z",
     "iopub.status.idle": "2023-07-07T12:11:56.450274Z",
     "shell.execute_reply": "2023-07-07T12:11:56.449207Z"
    },
    "papermill": {
     "duration": 15.230442,
     "end_time": "2023-07-07T12:11:56.452104",
     "exception": false,
     "start_time": "2023-07-07T12:11:41.221662",
     "status": "completed"
    },
    "tags": []
   },
   "outputs": [
    {
     "data": {
      "image/png": "[encoded data removed]",
      "text/plain": [
       "<Figure size 640x480 with 2 Axes>"
      ]
     },
     "metadata": {},
     "output_type": "display_data"
    },
    {
     "name": "stdout",
     "output_type": "stream",
     "text": [
      "Recall: 0.5365283459964932\n",
      "Precision: 0.9807692307692307\n",
      "AUC score: 0.9531129029438672\n"
     ]
    }
   ],
   "source": [
    "model_knn1 = KNeighborsClassifier(n_neighbors=31).fit(X_train_noout, y_train_noout)\n",
    "evaulation(y_test, model_knn1.predict(X_test))\n",
    "auc_print(y_test, model_knn1.predict_proba(X_test)[:,1])\n",
    "resultsKNN=pd.concat([resultsKNN, resultsDataFrame(y_test,model_tree1.predict(X_test), model_tree1.predict_proba(X_test)[:,1], 'Basic')], axis=1)"
   ]
  },
  {
   "cell_type": "code",
   "execution_count": 42,
   "id": "4ea6cf4a",
   "metadata": {
    "execution": {
     "iopub.execute_input": "2023-07-07T12:11:56.498687Z",
     "iopub.status.busy": "2023-07-07T12:11:56.498280Z",
     "iopub.status.idle": "2023-07-07T12:12:08.700135Z",
     "shell.execute_reply": "2023-07-07T12:12:08.699238Z"
    },
    "papermill": {
     "duration": 12.227608,
     "end_time": "2023-07-07T12:12:08.702202",
     "exception": false,
     "start_time": "2023-07-07T12:11:56.474594",
     "status": "completed"
    },
    "tags": []
   },
   "outputs": [
    {
     "name": "stdout",
     "output_type": "stream",
     "text": [
      "{'C': 0.8}\n"
     ]
    }
   ],
   "source": [
    "gridLogistic.fit(X_train, y_train)\n",
    "print(gridLogistic.best_params_)"
   ]
  },
  {
   "cell_type": "code",
   "execution_count": 43,
   "id": "94595a63",
   "metadata": {
    "execution": {
     "iopub.execute_input": "2023-07-07T12:12:08.764293Z",
     "iopub.status.busy": "2023-07-07T12:12:08.763917Z",
     "iopub.status.idle": "2023-07-07T12:12:09.306177Z",
     "shell.execute_reply": "2023-07-07T12:12:09.305411Z"
    },
    "papermill": {
     "duration": 0.575871,
     "end_time": "2023-07-07T12:12:09.308351",
     "exception": false,
     "start_time": "2023-07-07T12:12:08.732480",
     "status": "completed"
    },
    "tags": []
   },
   "outputs": [
    {
     "data": {
      "image/png": "[encoded data removed]",
      "text/plain": [
       "<Figure size 640x480 with 2 Axes>"
      ]
     },
     "metadata": {},
     "output_type": "display_data"
    },
    {
     "name": "stdout",
     "output_type": "stream",
     "text": [
      "Recall: 0.6165984804208066\n",
      "Precision: 0.8726220016542597\n",
      "AUC score: 0.9608418367876832\n"
     ]
    }
   ],
   "source": [
    "model_log1 = LogisticRegression(C=0.8).fit(X_train_noout, y_train_noout)\n",
    "evaulation(y_test, model_log1.predict(X_test))\n",
    "auc_print(y_test, model_log1.predict_proba(X_test)[:,1])\n",
    "resultsLogistic=pd.concat([resultsLogistic, resultsDataFrame(y_test,model_tree1.predict(X_test), model_tree1.predict_proba(X_test)[:,1], 'Basic')], axis=1)"
   ]
  },
  {
   "cell_type": "code",
   "execution_count": 44,
   "id": "1020099f",
   "metadata": {
    "execution": {
     "iopub.execute_input": "2023-07-07T12:12:09.372694Z",
     "iopub.status.busy": "2023-07-07T12:12:09.372305Z",
     "iopub.status.idle": "2023-07-07T12:15:13.836159Z",
     "shell.execute_reply": "2023-07-07T12:15:13.834657Z"
    },
    "papermill": {
     "duration": 184.519516,
     "end_time": "2023-07-07T12:15:13.859106",
     "exception": false,
     "start_time": "2023-07-07T12:12:09.339590",
     "status": "completed"
    },
    "tags": []
   },
   "outputs": [
    {
     "name": "stdout",
     "output_type": "stream",
     "text": [
      "{'learning_rate': 0.2, 'n_estimators': 100}\n"
     ]
    }
   ],
   "source": [
    "gridBoost.fit(X_train, y_train)\n",
    "print(gridBoost.best_params_)"
   ]
  },
  {
   "cell_type": "code",
   "execution_count": 45,
   "id": "c03ea24d",
   "metadata": {
    "execution": {
     "iopub.execute_input": "2023-07-07T12:15:13.907787Z",
     "iopub.status.busy": "2023-07-07T12:15:13.907380Z",
     "iopub.status.idle": "2023-07-07T12:15:21.152800Z",
     "shell.execute_reply": "2023-07-07T12:15:21.150626Z"
    },
    "papermill": {
     "duration": 7.272843,
     "end_time": "2023-07-07T12:15:21.155074",
     "exception": false,
     "start_time": "2023-07-07T12:15:13.882231",
     "status": "completed"
    },
    "tags": []
   },
   "outputs": [
    {
     "data": {
      "image/png": "[encoded data removed]",
      "text/plain": [
       "<Figure size 640x480 with 2 Axes>"
      ]
     },
     "metadata": {},
     "output_type": "display_data"
    },
    {
     "name": "stdout",
     "output_type": "stream",
     "text": [
      "Recall: 0.684979544126242\n",
      "Precision: 0.9726141078838174\n",
      "AUC score: 0.9783478643542431\n"
     ]
    }
   ],
   "source": [
    "model_boost1 = GradientBoostingClassifier(learning_rate=0.2, n_estimators=100).fit(X_train_noout, y_train_noout)\n",
    "evaulation(y_test, model_boost1.predict(X_test))\n",
    "auc_print(y_test, model_boost1.predict_proba(X_test)[:,1])\n",
    "resultsBoost=pd.concat([resultsBoost, resultsDataFrame(y_test,model_tree1.predict(X_test), model_tree1.predict_proba(X_test)[:,1], 'Basic')], axis=1)"
   ]
  },
  {
   "cell_type": "markdown",
   "id": "3cbd92fc",
   "metadata": {
    "papermill": {
     "duration": 0.024145,
     "end_time": "2023-07-07T12:15:21.204408",
     "exception": false,
     "start_time": "2023-07-07T12:15:21.180263",
     "status": "completed"
    },
    "tags": []
   },
   "source": [
    "## No outlier dataset"
   ]
  },
  {
   "cell_type": "code",
   "execution_count": 46,
   "id": "d1316bf6",
   "metadata": {
    "execution": {
     "iopub.execute_input": "2023-07-07T12:15:21.255710Z",
     "iopub.status.busy": "2023-07-07T12:15:21.255264Z",
     "iopub.status.idle": "2023-07-07T12:15:55.828256Z",
     "shell.execute_reply": "2023-07-07T12:15:55.827172Z"
    },
    "papermill": {
     "duration": 34.62343,
     "end_time": "2023-07-07T12:15:55.853066",
     "exception": false,
     "start_time": "2023-07-07T12:15:21.229636",
     "status": "completed"
    },
    "tags": []
   },
   "outputs": [
    {
     "name": "stdout",
     "output_type": "stream",
     "text": [
      "{'max_depth': 6, 'min_samples_leaf': 2, 'min_samples_split': 2}\n"
     ]
    }
   ],
   "source": [
    "gridTree.fit(X_train_noout, y_train_noout)\n",
    "print(gridTree.best_params_)"
   ]
  },
  {
   "cell_type": "code",
   "execution_count": 47,
   "id": "d3d2fedf",
   "metadata": {
    "execution": {
     "iopub.execute_input": "2023-07-07T12:15:55.902385Z",
     "iopub.status.busy": "2023-07-07T12:15:55.901364Z",
     "iopub.status.idle": "2023-07-07T12:15:56.323180Z",
     "shell.execute_reply": "2023-07-07T12:15:56.321618Z"
    },
    "papermill": {
     "duration": 0.448695,
     "end_time": "2023-07-07T12:15:56.325549",
     "exception": false,
     "start_time": "2023-07-07T12:15:55.876854",
     "status": "completed"
    },
    "tags": []
   },
   "outputs": [
    {
     "data": {
      "image/png": "[encoded data removed]",
      "text/plain": [
       "<Figure size 640x480 with 2 Axes>"
      ]
     },
     "metadata": {},
     "output_type": "display_data"
    },
    {
     "name": "stdout",
     "output_type": "stream",
     "text": [
      "Recall: 0.668614845119813\n",
      "Precision: 1.0\n",
      "AUC score: 0.9619258512564632\n"
     ]
    }
   ],
   "source": [
    "model_tree2 = DecisionTreeClassifier(max_depth=6, min_samples_leaf=2,min_samples_split=2).fit(X_train_noout, y_train_noout)\n",
    "evaulation(y_test, model_tree2.predict(X_test))\n",
    "auc_print(y_test, model_tree2.predict_proba(X_test)[:,1])\n",
    "resultsTree=pd.concat([resultsTree, resultsDataFrame(y_test,model_tree2.predict(X_test), model_tree2.predict_proba(X_test)[:,1], 'No out')], axis=1)"
   ]
  },
  {
   "cell_type": "code",
   "execution_count": 48,
   "id": "7cb98077",
   "metadata": {
    "execution": {
     "iopub.execute_input": "2023-07-07T12:15:56.375803Z",
     "iopub.status.busy": "2023-07-07T12:15:56.375419Z",
     "iopub.status.idle": "2023-07-07T12:21:37.568345Z",
     "shell.execute_reply": "2023-07-07T12:21:37.567224Z"
    },
    "papermill": {
     "duration": 341.244132,
     "end_time": "2023-07-07T12:21:37.593749",
     "exception": false,
     "start_time": "2023-07-07T12:15:56.349617",
     "status": "completed"
    },
    "tags": []
   },
   "outputs": [
    {
     "name": "stdout",
     "output_type": "stream",
     "text": [
      "{'n_neighbors': 31}\n"
     ]
    }
   ],
   "source": [
    "gridKNN.fit(X_train_noout, y_train_noout)\n",
    "print(gridKNN.best_params_)"
   ]
  },
  {
   "cell_type": "code",
   "execution_count": 49,
   "id": "1a23da5f",
   "metadata": {
    "execution": {
     "iopub.execute_input": "2023-07-07T12:21:37.645539Z",
     "iopub.status.busy": "2023-07-07T12:21:37.645190Z",
     "iopub.status.idle": "2023-07-07T12:22:08.072753Z",
     "shell.execute_reply": "2023-07-07T12:22:08.071266Z"
    },
    "papermill": {
     "duration": 30.456932,
     "end_time": "2023-07-07T12:22:08.075391",
     "exception": false,
     "start_time": "2023-07-07T12:21:37.618459",
     "status": "completed"
    },
    "tags": []
   },
   "outputs": [
    {
     "data": {
      "image/png": "[encoded data removed]",
      "text/plain": [
       "<Figure size 640x480 with 2 Axes>"
      ]
     },
     "metadata": {},
     "output_type": "display_data"
    },
    {
     "name": "stdout",
     "output_type": "stream",
     "text": [
      "Recall: 0.5365283459964932\n",
      "Precision: 0.9807692307692307\n",
      "AUC score: 0.9531129029438672\n"
     ]
    }
   ],
   "source": [
    "model_knn2 = KNeighborsClassifier(n_neighbors=31).fit(X_train_noout, y_train_noout)\n",
    "evaulation(y_test, model_knn2.predict(X_test))\n",
    "auc_print(y_test, model_knn2.predict_proba(X_test)[:,1])\n",
    "resultsKNN=pd.concat([resultsKNN, resultsDataFrame(y_test,model_knn2.predict(X_test), model_knn2.predict_proba(X_test)[:,1], 'No out')], axis=1)"
   ]
  },
  {
   "cell_type": "code",
   "execution_count": 50,
   "id": "bcdd5bc8",
   "metadata": {
    "execution": {
     "iopub.execute_input": "2023-07-07T12:22:08.127183Z",
     "iopub.status.busy": "2023-07-07T12:22:08.126709Z",
     "iopub.status.idle": "2023-07-07T12:22:20.861766Z",
     "shell.execute_reply": "2023-07-07T12:22:20.861000Z"
    },
    "papermill": {
     "duration": 12.763332,
     "end_time": "2023-07-07T12:22:20.863781",
     "exception": false,
     "start_time": "2023-07-07T12:22:08.100449",
     "status": "completed"
    },
    "tags": []
   },
   "outputs": [
    {
     "name": "stdout",
     "output_type": "stream",
     "text": [
      "{'C': 0.8}\n"
     ]
    }
   ],
   "source": [
    "gridLogistic.fit(X_train_noout, y_train_noout)\n",
    "print(gridLogistic.best_params_)"
   ]
  },
  {
   "cell_type": "code",
   "execution_count": 51,
   "id": "434a72a5",
   "metadata": {
    "execution": {
     "iopub.execute_input": "2023-07-07T12:22:20.930494Z",
     "iopub.status.busy": "2023-07-07T12:22:20.930161Z",
     "iopub.status.idle": "2023-07-07T12:22:21.500803Z",
     "shell.execute_reply": "2023-07-07T12:22:21.500039Z"
    },
    "papermill": {
     "duration": 0.606564,
     "end_time": "2023-07-07T12:22:21.502993",
     "exception": false,
     "start_time": "2023-07-07T12:22:20.896429",
     "status": "completed"
    },
    "tags": []
   },
   "outputs": [
    {
     "data": {
      "image/png": "[encoded data removed]",
      "text/plain": [
       "<Figure size 640x480 with 2 Axes>"
      ]
     },
     "metadata": {},
     "output_type": "display_data"
    },
    {
     "name": "stdout",
     "output_type": "stream",
     "text": [
      "Recall: 0.6165984804208066\n",
      "Precision: 0.8726220016542597\n",
      "AUC score: 0.9608418367876832\n"
     ]
    }
   ],
   "source": [
    "model_log2 = LogisticRegression(C=0.8).fit(X_train_noout, y_train_noout)\n",
    "evaulation(y_test, model_log2.predict(X_test))\n",
    "auc_print(y_test, model_log2.predict_proba(X_test)[:,1])\n",
    "resultsLogistic=pd.concat([resultsLogistic, resultsDataFrame(y_test,model_log2.predict(X_test), model_log2.predict_proba(X_test)[:,1], 'No out')], axis=1)"
   ]
  },
  {
   "cell_type": "code",
   "execution_count": 52,
   "id": "11c3737f",
   "metadata": {
    "execution": {
     "iopub.execute_input": "2023-07-07T12:22:21.569880Z",
     "iopub.status.busy": "2023-07-07T12:22:21.569531Z",
     "iopub.status.idle": "2023-07-07T12:25:22.146377Z",
     "shell.execute_reply": "2023-07-07T12:25:22.144866Z"
    },
    "papermill": {
     "duration": 180.637418,
     "end_time": "2023-07-07T12:25:22.172945",
     "exception": false,
     "start_time": "2023-07-07T12:22:21.535527",
     "status": "completed"
    },
    "tags": []
   },
   "outputs": [
    {
     "name": "stdout",
     "output_type": "stream",
     "text": [
      "{'learning_rate': 0.2, 'n_estimators': 70}\n"
     ]
    }
   ],
   "source": [
    "gridBoost.fit(X_train_noout, y_train_noout)\n",
    "print(gridBoost.best_params_)"
   ]
  },
  {
   "cell_type": "code",
   "execution_count": 53,
   "id": "6a4a6734",
   "metadata": {
    "execution": {
     "iopub.execute_input": "2023-07-07T12:25:22.224962Z",
     "iopub.status.busy": "2023-07-07T12:25:22.224539Z",
     "iopub.status.idle": "2023-07-07T12:25:27.543283Z",
     "shell.execute_reply": "2023-07-07T12:25:27.541687Z"
    },
    "papermill": {
     "duration": 5.347588,
     "end_time": "2023-07-07T12:25:27.545411",
     "exception": false,
     "start_time": "2023-07-07T12:25:22.197823",
     "status": "completed"
    },
    "tags": []
   },
   "outputs": [
    {
     "data": {
      "image/png": "[encoded data removed]",
      "text/plain": [
       "<Figure size 640x480 with 2 Axes>"
      ]
     },
     "metadata": {},
     "output_type": "display_data"
    },
    {
     "name": "stdout",
     "output_type": "stream",
     "text": [
      "Recall: 0.684395090590298\n",
      "Precision: 0.9733998337489609\n",
      "AUC score: 0.9782473449930253\n"
     ]
    }
   ],
   "source": [
    "model_boost2 = GradientBoostingClassifier(learning_rate=0.2, n_estimators=70).fit(X_train_noout, y_train_noout)\n",
    "evaulation(y_test, model_boost2.predict(X_test))\n",
    "auc_print(y_test, model_boost2.predict_proba(X_test)[:,1])\n",
    "resultsBoost=pd.concat([resultsBoost, resultsDataFrame(y_test,model_boost2.predict(X_test), model_boost2.predict_proba(X_test)[:,1], 'No out')], axis=1)"
   ]
  },
  {
   "cell_type": "markdown",
   "id": "67d56f82",
   "metadata": {
    "papermill": {
     "duration": 0.025597,
     "end_time": "2023-07-07T12:25:27.596902",
     "exception": false,
     "start_time": "2023-07-07T12:25:27.571305",
     "status": "completed"
    },
    "tags": []
   },
   "source": [
    "## Poly dataset"
   ]
  },
  {
   "cell_type": "code",
   "execution_count": 54,
   "id": "1ef8924b",
   "metadata": {
    "execution": {
     "iopub.execute_input": "2023-07-07T12:25:27.650853Z",
     "iopub.status.busy": "2023-07-07T12:25:27.650471Z",
     "iopub.status.idle": "2023-07-07T12:28:49.323051Z",
     "shell.execute_reply": "2023-07-07T12:28:49.321728Z"
    },
    "papermill": {
     "duration": 201.730242,
     "end_time": "2023-07-07T12:28:49.353194",
     "exception": false,
     "start_time": "2023-07-07T12:25:27.622952",
     "status": "completed"
    },
    "tags": []
   },
   "outputs": [
    {
     "name": "stdout",
     "output_type": "stream",
     "text": [
      "{'max_depth': 6, 'min_samples_leaf': 5, 'min_samples_split': 2}\n"
     ]
    }
   ],
   "source": [
    "gridTree.fit(X_train_poly, y_train_poly)\n",
    "print(gridTree.best_params_)"
   ]
  },
  {
   "cell_type": "code",
   "execution_count": 55,
   "id": "6a2217e2",
   "metadata": {
    "execution": {
     "iopub.execute_input": "2023-07-07T12:28:49.408771Z",
     "iopub.status.busy": "2023-07-07T12:28:49.408201Z",
     "iopub.status.idle": "2023-07-07T12:28:50.867935Z",
     "shell.execute_reply": "2023-07-07T12:28:50.866537Z"
    },
    "papermill": {
     "duration": 1.490639,
     "end_time": "2023-07-07T12:28:50.870735",
     "exception": false,
     "start_time": "2023-07-07T12:28:49.380096",
     "status": "completed"
    },
    "tags": []
   },
   "outputs": [
    {
     "data": {
      "image/png": "[encoded data removed]",
      "text/plain": [
       "<Figure size 640x480 with 2 Axes>"
      ]
     },
     "metadata": {},
     "output_type": "display_data"
    },
    {
     "name": "stdout",
     "output_type": "stream",
     "text": [
      "Recall: 0.668614845119813\n",
      "Precision: 0.9991266375545852\n",
      "AUC score: 0.9674315512043645\n"
     ]
    }
   ],
   "source": [
    "model_tree3 = DecisionTreeClassifier(max_depth=6, min_samples_leaf=5, min_samples_split=2).fit(X_train_poly, y_train_poly)\n",
    "evaulation(y_test_poly, model_tree3.predict(X_test_poly))\n",
    "auc_print(y_test_poly, model_tree3.predict_proba(X_test_poly)[:,1])\n",
    "resultsTree=pd.concat([resultsTree, resultsDataFrame(y_test_poly,model_tree3.predict(X_test_poly), model_tree3.predict_proba(X_test_poly)[:,1], 'Poly')], axis=1)"
   ]
  },
  {
   "cell_type": "code",
   "execution_count": 56,
   "id": "255cfb59",
   "metadata": {
    "execution": {
     "iopub.execute_input": "2023-07-07T12:28:50.925719Z",
     "iopub.status.busy": "2023-07-07T12:28:50.925177Z",
     "iopub.status.idle": "2023-07-07T12:33:02.629601Z",
     "shell.execute_reply": "2023-07-07T12:33:02.628626Z"
    },
    "papermill": {
     "duration": 251.756523,
     "end_time": "2023-07-07T12:33:02.653977",
     "exception": false,
     "start_time": "2023-07-07T12:28:50.897454",
     "status": "completed"
    },
    "tags": []
   },
   "outputs": [
    {
     "name": "stdout",
     "output_type": "stream",
     "text": [
      "{'n_neighbors': 31}\n"
     ]
    }
   ],
   "source": [
    "gridKNN.fit(X_train_poly, y_train_poly)\n",
    "print(gridKNN.best_params_)"
   ]
  },
  {
   "cell_type": "code",
   "execution_count": 57,
   "id": "cfbe8111",
   "metadata": {
    "execution": {
     "iopub.execute_input": "2023-07-07T12:33:02.707533Z",
     "iopub.status.busy": "2023-07-07T12:33:02.707197Z",
     "iopub.status.idle": "2023-07-07T12:33:24.554083Z",
     "shell.execute_reply": "2023-07-07T12:33:24.552835Z"
    },
    "papermill": {
     "duration": 21.876488,
     "end_time": "2023-07-07T12:33:24.556370",
     "exception": false,
     "start_time": "2023-07-07T12:33:02.679882",
     "status": "completed"
    },
    "tags": []
   },
   "outputs": [
    {
     "data": {
      "image/png": "[encoded data removed]",
      "text/plain": [
       "<Figure size 640x480 with 2 Axes>"
      ]
     },
     "metadata": {},
     "output_type": "display_data"
    },
    {
     "name": "stdout",
     "output_type": "stream",
     "text": [
      "Recall: 0.5318527177089422\n",
      "Precision: 0.9806034482758621\n",
      "AUC score: 0.9527817051503014\n"
     ]
    }
   ],
   "source": [
    "model_knn3 = KNeighborsClassifier(n_neighbors=31).fit(X_train_poly, y_train_poly)\n",
    "evaulation(y_test_poly, model_knn3.predict(X_test_poly))\n",
    "auc_print(y_test_poly, model_knn3.predict_proba(X_test_poly)[:,1])\n",
    "resultsKNN=pd.concat([resultsKNN, resultsDataFrame(y_test_poly,model_knn3.predict(X_test_poly), model_knn3.predict_proba(X_test_poly)[:,1], 'Poly')], axis=1)"
   ]
  },
  {
   "cell_type": "code",
   "execution_count": 58,
   "id": "6bf445ea",
   "metadata": {
    "execution": {
     "iopub.execute_input": "2023-07-07T12:33:24.610999Z",
     "iopub.status.busy": "2023-07-07T12:33:24.610642Z",
     "iopub.status.idle": "2023-07-07T12:34:22.574887Z",
     "shell.execute_reply": "2023-07-07T12:34:22.574115Z"
    },
    "papermill": {
     "duration": 58.028653,
     "end_time": "2023-07-07T12:34:22.611978",
     "exception": false,
     "start_time": "2023-07-07T12:33:24.583325",
     "status": "completed"
    },
    "tags": []
   },
   "outputs": [
    {
     "name": "stdout",
     "output_type": "stream",
     "text": [
      "{'C': 0.1}\n"
     ]
    }
   ],
   "source": [
    "gridLogistic.fit(X_train_poly, y_train_poly)\n",
    "print(gridLogistic.best_params_)"
   ]
  },
  {
   "cell_type": "code",
   "execution_count": 59,
   "id": "be3d768a",
   "metadata": {
    "execution": {
     "iopub.execute_input": "2023-07-07T12:34:22.742937Z",
     "iopub.status.busy": "2023-07-07T12:34:22.742621Z",
     "iopub.status.idle": "2023-07-07T12:34:24.307015Z",
     "shell.execute_reply": "2023-07-07T12:34:24.304808Z"
    },
    "papermill": {
     "duration": 1.595224,
     "end_time": "2023-07-07T12:34:24.309944",
     "exception": false,
     "start_time": "2023-07-07T12:34:22.714720",
     "status": "completed"
    },
    "tags": []
   },
   "outputs": [
    {
     "data": {
      "image/png": "[encoded data removed]",
      "text/plain": [
       "<Figure size 640x480 with 2 Axes>"
      ]
     },
     "metadata": {},
     "output_type": "display_data"
    },
    {
     "name": "stdout",
     "output_type": "stream",
     "text": [
      "Recall: 0.6130917592051431\n",
      "Precision: 0.8904923599320883\n",
      "AUC score: 0.9605356929375906\n"
     ]
    }
   ],
   "source": [
    "model_log3 = LogisticRegression(C=0.1).fit(X_train_poly, y_train_poly)\n",
    "evaulation(y_test_poly, model_log3.predict(X_test_poly))\n",
    "auc_print(y_test_poly, model_log3.predict_proba(X_test_poly)[:,1])\n",
    "resultsLogistic=pd.concat([resultsLogistic, resultsDataFrame(y_test_poly,model_log3.predict(X_test_poly), model_log3.predict_proba(X_test_poly)[:,1], 'Poly')], axis=1)"
   ]
  },
  {
   "cell_type": "code",
   "execution_count": 60,
   "id": "95004591",
   "metadata": {
    "execution": {
     "iopub.execute_input": "2023-07-07T12:34:24.386282Z",
     "iopub.status.busy": "2023-07-07T12:34:24.385874Z",
     "iopub.status.idle": "2023-07-07T12:55:48.480980Z",
     "shell.execute_reply": "2023-07-07T12:55:48.479348Z"
    },
    "papermill": {
     "duration": 1284.161269,
     "end_time": "2023-07-07T12:55:48.508929",
     "exception": false,
     "start_time": "2023-07-07T12:34:24.347660",
     "status": "completed"
    },
    "tags": []
   },
   "outputs": [
    {
     "name": "stdout",
     "output_type": "stream",
     "text": [
      "{'learning_rate': 0.2, 'n_estimators': 100}\n"
     ]
    }
   ],
   "source": [
    "gridBoost.fit(X_train_poly, y_train_poly)\n",
    "print(gridBoost.best_params_)"
   ]
  },
  {
   "cell_type": "code",
   "execution_count": 61,
   "id": "d58781b4",
   "metadata": {
    "execution": {
     "iopub.execute_input": "2023-07-07T12:55:48.566018Z",
     "iopub.status.busy": "2023-07-07T12:55:48.565692Z",
     "iopub.status.idle": "2023-07-07T12:56:40.241345Z",
     "shell.execute_reply": "2023-07-07T12:56:40.240392Z"
    },
    "papermill": {
     "duration": 51.706903,
     "end_time": "2023-07-07T12:56:40.243949",
     "exception": false,
     "start_time": "2023-07-07T12:55:48.537046",
     "status": "completed"
    },
    "tags": []
   },
   "outputs": [
    {
     "data": {
      "image/png": "[encoded data removed]",
      "text/plain": [
       "<Figure size 640x480 with 2 Axes>"
      ]
     },
     "metadata": {},
     "output_type": "display_data"
    },
    {
     "name": "stdout",
     "output_type": "stream",
     "text": [
      "Recall: 0.6855639976621859\n",
      "Precision: 0.9710264900662252\n",
      "AUC score: 0.9780650487933538\n"
     ]
    }
   ],
   "source": [
    "model_boost3 = GradientBoostingClassifier(learning_rate=0.2, n_estimators=100).fit(X_train_poly, y_train_poly)\n",
    "evaulation(y_test_poly, model_boost3.predict(X_test_poly))\n",
    "auc_print(y_test_poly, model_boost3.predict_proba(X_test_poly)[:,1])\n",
    "resultsBoost=pd.concat([resultsBoost, resultsDataFrame(y_test_poly,model_boost3.predict(X_test_poly), model_boost3.predict_proba(X_test_poly)[:,1], 'Poly')], axis=1)"
   ]
  },
  {
   "cell_type": "markdown",
   "id": "25b099ab",
   "metadata": {
    "papermill": {
     "duration": 0.027344,
     "end_time": "2023-07-07T12:56:40.299292",
     "exception": false,
     "start_time": "2023-07-07T12:56:40.271948",
     "status": "completed"
    },
    "tags": []
   },
   "source": [
    "## Selected dataset"
   ]
  },
  {
   "cell_type": "code",
   "execution_count": 62,
   "id": "8c7cf83c",
   "metadata": {
    "execution": {
     "iopub.execute_input": "2023-07-07T12:56:40.355957Z",
     "iopub.status.busy": "2023-07-07T12:56:40.355533Z",
     "iopub.status.idle": "2023-07-07T12:57:17.985941Z",
     "shell.execute_reply": "2023-07-07T12:57:17.984751Z"
    },
    "papermill": {
     "duration": 37.687655,
     "end_time": "2023-07-07T12:57:18.014469",
     "exception": false,
     "start_time": "2023-07-07T12:56:40.326814",
     "status": "completed"
    },
    "tags": []
   },
   "outputs": [
    {
     "name": "stdout",
     "output_type": "stream",
     "text": [
      "{'max_depth': 6, 'min_samples_leaf': 2, 'min_samples_split': 2}\n"
     ]
    }
   ],
   "source": [
    "gridTree.fit(X_train_sel, y_train_sel)\n",
    "print(gridTree.best_params_)"
   ]
  },
  {
   "cell_type": "code",
   "execution_count": 63,
   "id": "049f257d",
   "metadata": {
    "execution": {
     "iopub.execute_input": "2023-07-07T12:57:18.071150Z",
     "iopub.status.busy": "2023-07-07T12:57:18.070073Z",
     "iopub.status.idle": "2023-07-07T12:57:18.518462Z",
     "shell.execute_reply": "2023-07-07T12:57:18.517206Z"
    },
    "papermill": {
     "duration": 0.479157,
     "end_time": "2023-07-07T12:57:18.520671",
     "exception": false,
     "start_time": "2023-07-07T12:57:18.041514",
     "status": "completed"
    },
    "tags": []
   },
   "outputs": [
    {
     "data": {
      "image/png": "[encoded data removed]",
      "text/plain": [
       "<Figure size 640x480 with 2 Axes>"
      ]
     },
     "metadata": {},
     "output_type": "display_data"
    },
    {
     "name": "stdout",
     "output_type": "stream",
     "text": [
      "Recall: 0.24196376388077148\n",
      "Precision: 1.0\n",
      "AUC score: 0.8778622971992727\n"
     ]
    }
   ],
   "source": [
    "model_tree4 = DecisionTreeClassifier(max_depth=6, min_samples_leaf=2, min_samples_split=2).fit(X_train_sel, y_train_sel)\n",
    "evaulation(y_test_sel, model_tree4.predict(X_test_sel))\n",
    "auc_print(y_test_sel, model_tree4.predict_proba(X_test_sel)[:,1])\n",
    "resultsTree=pd.concat([resultsTree, resultsDataFrame(y_test_sel,model_tree4.predict(X_test_sel), model_tree4.predict_proba(X_test_sel)[:,1], 'Selected')], axis=1)"
   ]
  },
  {
   "cell_type": "code",
   "execution_count": 64,
   "id": "f58766db",
   "metadata": {
    "execution": {
     "iopub.execute_input": "2023-07-07T12:57:18.577012Z",
     "iopub.status.busy": "2023-07-07T12:57:18.576690Z",
     "iopub.status.idle": "2023-07-07T12:59:22.643009Z",
     "shell.execute_reply": "2023-07-07T12:59:22.641478Z"
    },
    "papermill": {
     "duration": 124.124585,
     "end_time": "2023-07-07T12:59:22.672983",
     "exception": false,
     "start_time": "2023-07-07T12:57:18.548398",
     "status": "completed"
    },
    "tags": []
   },
   "outputs": [
    {
     "name": "stdout",
     "output_type": "stream",
     "text": [
      "{'n_neighbors': 31}\n"
     ]
    }
   ],
   "source": [
    "gridKNN.fit(X_train_sel, y_train_sel)\n",
    "print(gridKNN.best_params_)"
   ]
  },
  {
   "cell_type": "code",
   "execution_count": 65,
   "id": "facbda58",
   "metadata": {
    "execution": {
     "iopub.execute_input": "2023-07-07T12:59:22.731282Z",
     "iopub.status.busy": "2023-07-07T12:59:22.730714Z",
     "iopub.status.idle": "2023-07-07T12:59:33.917036Z",
     "shell.execute_reply": "2023-07-07T12:59:33.915990Z"
    },
    "papermill": {
     "duration": 11.218197,
     "end_time": "2023-07-07T12:59:33.919433",
     "exception": false,
     "start_time": "2023-07-07T12:59:22.701236",
     "status": "completed"
    },
    "tags": []
   },
   "outputs": [
    {
     "data": {
      "image/png": "[encoded data removed]",
      "text/plain": [
       "<Figure size 640x480 with 2 Axes>"
      ]
     },
     "metadata": {},
     "output_type": "display_data"
    },
    {
     "name": "stdout",
     "output_type": "stream",
     "text": [
      "Recall: 0.179427235534775\n",
      "Precision: 0.9219219219219219\n",
      "AUC score: 0.853706844382639\n"
     ]
    }
   ],
   "source": [
    "model_knn4 = KNeighborsClassifier(n_neighbors=31).fit(X_train_sel, y_train_sel)\n",
    "evaulation(y_test_sel, model_knn4.predict(X_test_sel))\n",
    "auc_print(y_test_sel, model_knn4.predict_proba(X_test_sel)[:,1])\n",
    "resultsKNN=pd.concat([resultsKNN, resultsDataFrame(y_test_sel,model_knn4.predict(X_test_sel), model_knn4.predict_proba(X_test_sel)[:,1], 'Selected')], axis=1)"
   ]
  },
  {
   "cell_type": "code",
   "execution_count": 66,
   "id": "354f637f",
   "metadata": {
    "execution": {
     "iopub.execute_input": "2023-07-07T12:59:33.977352Z",
     "iopub.status.busy": "2023-07-07T12:59:33.976990Z",
     "iopub.status.idle": "2023-07-07T12:59:57.163986Z",
     "shell.execute_reply": "2023-07-07T12:59:57.163138Z"
    },
    "papermill": {
     "duration": 23.21753,
     "end_time": "2023-07-07T12:59:57.165994",
     "exception": false,
     "start_time": "2023-07-07T12:59:33.948464",
     "status": "completed"
    },
    "tags": []
   },
   "outputs": [
    {
     "name": "stdout",
     "output_type": "stream",
     "text": [
      "{'C': 0.2}\n"
     ]
    }
   ],
   "source": [
    "gridLogistic.fit(X_train_sel, y_train_sel)\n",
    "print(gridLogistic.best_params_)"
   ]
  },
  {
   "cell_type": "code",
   "execution_count": 67,
   "id": "84f9bd6c",
   "metadata": {
    "execution": {
     "iopub.execute_input": "2023-07-07T12:59:57.242553Z",
     "iopub.status.busy": "2023-07-07T12:59:57.242213Z",
     "iopub.status.idle": "2023-07-07T12:59:58.090267Z",
     "shell.execute_reply": "2023-07-07T12:59:58.089589Z"
    },
    "papermill": {
     "duration": 0.888655,
     "end_time": "2023-07-07T12:59:58.092197",
     "exception": false,
     "start_time": "2023-07-07T12:59:57.203542",
     "status": "completed"
    },
    "tags": []
   },
   "outputs": [
    {
     "data": {
      "image/png": "[encoded data removed]",
      "text/plain": [
       "<Figure size 640x480 with 2 Axes>"
      ]
     },
     "metadata": {},
     "output_type": "display_data"
    },
    {
     "name": "stdout",
     "output_type": "stream",
     "text": [
      "Recall: 0.19286966686148452\n",
      "Precision: 0.8776595744680851\n",
      "AUC score: 0.8716121212384611\n"
     ]
    }
   ],
   "source": [
    "model_log4 = LogisticRegression(C=0.2).fit(X_train_sel, y_train_sel)\n",
    "evaulation(y_test_sel, model_log4.predict(X_test_sel))\n",
    "auc_print(y_test_sel, model_log4.predict_proba(X_test_sel)[:,1])\n",
    "resultsLogistic=pd.concat([resultsLogistic, resultsDataFrame(y_test_sel,model_log4.predict(X_test_sel), model_log4.predict_proba(X_test_sel)[:,1], 'Selected')], axis=1)"
   ]
  },
  {
   "cell_type": "code",
   "execution_count": 68,
   "id": "e15a8b86",
   "metadata": {
    "execution": {
     "iopub.execute_input": "2023-07-07T12:59:58.169704Z",
     "iopub.status.busy": "2023-07-07T12:59:58.169323Z",
     "iopub.status.idle": "2023-07-07T13:03:10.433289Z",
     "shell.execute_reply": "2023-07-07T13:03:10.432125Z"
    },
    "papermill": {
     "duration": 192.334244,
     "end_time": "2023-07-07T13:03:10.464392",
     "exception": false,
     "start_time": "2023-07-07T12:59:58.130148",
     "status": "completed"
    },
    "tags": []
   },
   "outputs": [
    {
     "name": "stdout",
     "output_type": "stream",
     "text": [
      "{'learning_rate': 0.1, 'n_estimators': 100}\n"
     ]
    }
   ],
   "source": [
    "gridBoost.fit(X_train_sel, y_train_sel)\n",
    "print(gridBoost.best_params_)"
   ]
  },
  {
   "cell_type": "code",
   "execution_count": 69,
   "id": "cbb3c029",
   "metadata": {
    "execution": {
     "iopub.execute_input": "2023-07-07T13:03:10.524745Z",
     "iopub.status.busy": "2023-07-07T13:03:10.524373Z",
     "iopub.status.idle": "2023-07-07T13:03:18.449344Z",
     "shell.execute_reply": "2023-07-07T13:03:18.448204Z"
    },
    "papermill": {
     "duration": 7.958445,
     "end_time": "2023-07-07T13:03:18.451623",
     "exception": false,
     "start_time": "2023-07-07T13:03:10.493178",
     "status": "completed"
    },
    "tags": []
   },
   "outputs": [
    {
     "data": {
      "image/png": "[encoded data removed]",
      "text/plain": [
       "<Figure size 640x480 with 2 Axes>"
      ]
     },
     "metadata": {},
     "output_type": "display_data"
    },
    {
     "name": "stdout",
     "output_type": "stream",
     "text": [
      "Recall: 0.24196376388077148\n",
      "Precision: 1.0\n",
      "AUC score: 0.8849540651605134\n"
     ]
    }
   ],
   "source": [
    "model_boost4 = GradientBoostingClassifier(learning_rate=0.1, n_estimators=100).fit(X_train_sel, y_train_sel)\n",
    "evaulation(y_test_sel, model_boost4.predict(X_test_sel))\n",
    "auc_print(y_test_sel, model_boost4.predict_proba(X_test_sel)[:,1])\n",
    "resultsBoost=pd.concat([resultsBoost, resultsDataFrame(y_test_sel,model_boost4.predict(X_test_sel), model_boost4.predict_proba(X_test_sel)[:,1], 'Selected')], axis=1)"
   ]
  },
  {
   "cell_type": "code",
   "execution_count": 70,
   "id": "e3541ed5",
   "metadata": {
    "execution": {
     "iopub.execute_input": "2023-07-07T13:03:18.513232Z",
     "iopub.status.busy": "2023-07-07T13:03:18.512652Z",
     "iopub.status.idle": "2023-07-07T13:03:18.522077Z",
     "shell.execute_reply": "2023-07-07T13:03:18.521299Z"
    },
    "papermill": {
     "duration": 0.043082,
     "end_time": "2023-07-07T13:03:18.523980",
     "exception": false,
     "start_time": "2023-07-07T13:03:18.480898",
     "status": "completed"
    },
    "tags": []
   },
   "outputs": [
    {
     "data": {
      "text/html": [
       "<div>\n",
       "<style scoped>\n",
       "    .dataframe tbody tr th:only-of-type {\n",
       "        vertical-align: middle;\n",
       "    }\n",
       "\n",
       "    .dataframe tbody tr th {\n",
       "        vertical-align: top;\n",
       "    }\n",
       "\n",
       "    .dataframe thead th {\n",
       "        text-align: right;\n",
       "    }\n",
       "</style>\n",
       "<table border=\"1\" class=\"dataframe\">\n",
       "  <thead>\n",
       "    <tr style=\"text-align: right;\">\n",
       "      <th></th>\n",
       "      <th>Basic</th>\n",
       "      <th>No out</th>\n",
       "      <th>Poly</th>\n",
       "      <th>Selected</th>\n",
       "    </tr>\n",
       "  </thead>\n",
       "  <tbody>\n",
       "    <tr>\n",
       "      <th>AUC</th>\n",
       "      <td>0.9618</td>\n",
       "      <td>0.9619</td>\n",
       "      <td>0.9674</td>\n",
       "      <td>0.8779</td>\n",
       "    </tr>\n",
       "    <tr>\n",
       "      <th>Precision</th>\n",
       "      <td>1.0000</td>\n",
       "      <td>1.0000</td>\n",
       "      <td>0.9991</td>\n",
       "      <td>1.0000</td>\n",
       "    </tr>\n",
       "    <tr>\n",
       "      <th>Recall</th>\n",
       "      <td>0.6686</td>\n",
       "      <td>0.6686</td>\n",
       "      <td>0.6686</td>\n",
       "      <td>0.2420</td>\n",
       "    </tr>\n",
       "  </tbody>\n",
       "</table>\n",
       "</div>"
      ],
      "text/plain": [
       "            Basic  No out    Poly  Selected\n",
       "AUC        0.9618  0.9619  0.9674    0.8779\n",
       "Precision  1.0000  1.0000  0.9991    1.0000\n",
       "Recall     0.6686  0.6686  0.6686    0.2420"
      ]
     },
     "execution_count": 70,
     "metadata": {},
     "output_type": "execute_result"
    }
   ],
   "source": [
    "resultsTree"
   ]
  },
  {
   "cell_type": "code",
   "execution_count": 71,
   "id": "f7fb6326",
   "metadata": {
    "execution": {
     "iopub.execute_input": "2023-07-07T13:03:18.584747Z",
     "iopub.status.busy": "2023-07-07T13:03:18.584202Z",
     "iopub.status.idle": "2023-07-07T13:03:18.594487Z",
     "shell.execute_reply": "2023-07-07T13:03:18.593248Z"
    },
    "papermill": {
     "duration": 0.04291,
     "end_time": "2023-07-07T13:03:18.596421",
     "exception": false,
     "start_time": "2023-07-07T13:03:18.553511",
     "status": "completed"
    },
    "tags": []
   },
   "outputs": [
    {
     "data": {
      "text/html": [
       "<div>\n",
       "<style scoped>\n",
       "    .dataframe tbody tr th:only-of-type {\n",
       "        vertical-align: middle;\n",
       "    }\n",
       "\n",
       "    .dataframe tbody tr th {\n",
       "        vertical-align: top;\n",
       "    }\n",
       "\n",
       "    .dataframe thead th {\n",
       "        text-align: right;\n",
       "    }\n",
       "</style>\n",
       "<table border=\"1\" class=\"dataframe\">\n",
       "  <thead>\n",
       "    <tr style=\"text-align: right;\">\n",
       "      <th></th>\n",
       "      <th>Basic</th>\n",
       "      <th>No out</th>\n",
       "      <th>Poly</th>\n",
       "      <th>Selected</th>\n",
       "    </tr>\n",
       "  </thead>\n",
       "  <tbody>\n",
       "    <tr>\n",
       "      <th>AUC</th>\n",
       "      <td>0.9618</td>\n",
       "      <td>0.9531</td>\n",
       "      <td>0.9528</td>\n",
       "      <td>0.8537</td>\n",
       "    </tr>\n",
       "    <tr>\n",
       "      <th>Precision</th>\n",
       "      <td>1.0000</td>\n",
       "      <td>0.9808</td>\n",
       "      <td>0.9806</td>\n",
       "      <td>0.9219</td>\n",
       "    </tr>\n",
       "    <tr>\n",
       "      <th>Recall</th>\n",
       "      <td>0.6686</td>\n",
       "      <td>0.5365</td>\n",
       "      <td>0.5319</td>\n",
       "      <td>0.1794</td>\n",
       "    </tr>\n",
       "  </tbody>\n",
       "</table>\n",
       "</div>"
      ],
      "text/plain": [
       "            Basic  No out    Poly  Selected\n",
       "AUC        0.9618  0.9531  0.9528    0.8537\n",
       "Precision  1.0000  0.9808  0.9806    0.9219\n",
       "Recall     0.6686  0.5365  0.5319    0.1794"
      ]
     },
     "execution_count": 71,
     "metadata": {},
     "output_type": "execute_result"
    }
   ],
   "source": [
    "resultsKNN"
   ]
  },
  {
   "cell_type": "code",
   "execution_count": 72,
   "id": "5d2f110a",
   "metadata": {
    "execution": {
     "iopub.execute_input": "2023-07-07T13:03:18.657469Z",
     "iopub.status.busy": "2023-07-07T13:03:18.657065Z",
     "iopub.status.idle": "2023-07-07T13:03:18.669467Z",
     "shell.execute_reply": "2023-07-07T13:03:18.668160Z"
    },
    "papermill": {
     "duration": 0.046883,
     "end_time": "2023-07-07T13:03:18.672304",
     "exception": false,
     "start_time": "2023-07-07T13:03:18.625421",
     "status": "completed"
    },
    "tags": []
   },
   "outputs": [
    {
     "data": {
      "text/html": [
       "<div>\n",
       "<style scoped>\n",
       "    .dataframe tbody tr th:only-of-type {\n",
       "        vertical-align: middle;\n",
       "    }\n",
       "\n",
       "    .dataframe tbody tr th {\n",
       "        vertical-align: top;\n",
       "    }\n",
       "\n",
       "    .dataframe thead th {\n",
       "        text-align: right;\n",
       "    }\n",
       "</style>\n",
       "<table border=\"1\" class=\"dataframe\">\n",
       "  <thead>\n",
       "    <tr style=\"text-align: right;\">\n",
       "      <th></th>\n",
       "      <th>Basic</th>\n",
       "      <th>No out</th>\n",
       "      <th>Poly</th>\n",
       "      <th>Selected</th>\n",
       "    </tr>\n",
       "  </thead>\n",
       "  <tbody>\n",
       "    <tr>\n",
       "      <th>AUC</th>\n",
       "      <td>0.9618</td>\n",
       "      <td>0.9608</td>\n",
       "      <td>0.9605</td>\n",
       "      <td>0.8716</td>\n",
       "    </tr>\n",
       "    <tr>\n",
       "      <th>Precision</th>\n",
       "      <td>1.0000</td>\n",
       "      <td>0.8726</td>\n",
       "      <td>0.8905</td>\n",
       "      <td>0.8777</td>\n",
       "    </tr>\n",
       "    <tr>\n",
       "      <th>Recall</th>\n",
       "      <td>0.6686</td>\n",
       "      <td>0.6166</td>\n",
       "      <td>0.6131</td>\n",
       "      <td>0.1929</td>\n",
       "    </tr>\n",
       "  </tbody>\n",
       "</table>\n",
       "</div>"
      ],
      "text/plain": [
       "            Basic  No out    Poly  Selected\n",
       "AUC        0.9618  0.9608  0.9605    0.8716\n",
       "Precision  1.0000  0.8726  0.8905    0.8777\n",
       "Recall     0.6686  0.6166  0.6131    0.1929"
      ]
     },
     "execution_count": 72,
     "metadata": {},
     "output_type": "execute_result"
    }
   ],
   "source": [
    "resultsLogistic"
   ]
  },
  {
   "cell_type": "code",
   "execution_count": 73,
   "id": "8de07e33",
   "metadata": {
    "execution": {
     "iopub.execute_input": "2023-07-07T13:03:18.734707Z",
     "iopub.status.busy": "2023-07-07T13:03:18.734146Z",
     "iopub.status.idle": "2023-07-07T13:03:18.745022Z",
     "shell.execute_reply": "2023-07-07T13:03:18.743839Z"
    },
    "papermill": {
     "duration": 0.043945,
     "end_time": "2023-07-07T13:03:18.746910",
     "exception": false,
     "start_time": "2023-07-07T13:03:18.702965",
     "status": "completed"
    },
    "tags": []
   },
   "outputs": [
    {
     "data": {
      "text/html": [
       "<div>\n",
       "<style scoped>\n",
       "    .dataframe tbody tr th:only-of-type {\n",
       "        vertical-align: middle;\n",
       "    }\n",
       "\n",
       "    .dataframe tbody tr th {\n",
       "        vertical-align: top;\n",
       "    }\n",
       "\n",
       "    .dataframe thead th {\n",
       "        text-align: right;\n",
       "    }\n",
       "</style>\n",
       "<table border=\"1\" class=\"dataframe\">\n",
       "  <thead>\n",
       "    <tr style=\"text-align: right;\">\n",
       "      <th></th>\n",
       "      <th>Basic</th>\n",
       "      <th>No out</th>\n",
       "      <th>Poly</th>\n",
       "      <th>Selected</th>\n",
       "    </tr>\n",
       "  </thead>\n",
       "  <tbody>\n",
       "    <tr>\n",
       "      <th>AUC</th>\n",
       "      <td>0.9618</td>\n",
       "      <td>0.9782</td>\n",
       "      <td>0.9781</td>\n",
       "      <td>0.885</td>\n",
       "    </tr>\n",
       "    <tr>\n",
       "      <th>Precision</th>\n",
       "      <td>1.0000</td>\n",
       "      <td>0.9734</td>\n",
       "      <td>0.9710</td>\n",
       "      <td>1.000</td>\n",
       "    </tr>\n",
       "    <tr>\n",
       "      <th>Recall</th>\n",
       "      <td>0.6686</td>\n",
       "      <td>0.6844</td>\n",
       "      <td>0.6856</td>\n",
       "      <td>0.242</td>\n",
       "    </tr>\n",
       "  </tbody>\n",
       "</table>\n",
       "</div>"
      ],
      "text/plain": [
       "            Basic  No out    Poly  Selected\n",
       "AUC        0.9618  0.9782  0.9781     0.885\n",
       "Precision  1.0000  0.9734  0.9710     1.000\n",
       "Recall     0.6686  0.6844  0.6856     0.242"
      ]
     },
     "execution_count": 73,
     "metadata": {},
     "output_type": "execute_result"
    }
   ],
   "source": [
    "resultsBoost"
   ]
  },
  {
   "cell_type": "code",
   "execution_count": 74,
   "id": "bda22463",
   "metadata": {
    "execution": {
     "iopub.execute_input": "2023-07-07T13:03:18.808253Z",
     "iopub.status.busy": "2023-07-07T13:03:18.807916Z",
     "iopub.status.idle": "2023-07-07T13:03:19.020272Z",
     "shell.execute_reply": "2023-07-07T13:03:19.019290Z"
    },
    "papermill": {
     "duration": 0.245158,
     "end_time": "2023-07-07T13:03:19.022356",
     "exception": false,
     "start_time": "2023-07-07T13:03:18.777198",
     "status": "completed"
    },
    "tags": []
   },
   "outputs": [
    {
     "data": {
      "image/png": "[encoded data removed]",
      "text/plain": [
       "<Figure size 2000x1000 with 1 Axes>"
      ]
     },
     "metadata": {},
     "output_type": "display_data"
    }
   ],
   "source": [
    "fig, ax = plt.subplots()\n",
    "fig.set_figwidth(20)\n",
    "fig.set_figheight(10)\n",
    "for i, row in enumerate(resultsTree.values):\n",
    "    x = [p + i * 0.2 for p in range(len(resultsTree.columns))]\n",
    "    ax.bar(x, row, width=0.2, label=f'Red {i+1}')\n",
    "ax.set_xticks([p + 0.2 for p in range(len(resultsTree.columns))])\n",
    "ax.set_xticklabels(resultsTree.columns)\n",
    "plt.show()\n"
   ]
  },
  {
   "cell_type": "code",
   "execution_count": 75,
   "id": "8305709b",
   "metadata": {
    "execution": {
     "iopub.execute_input": "2023-07-07T13:03:19.083899Z",
     "iopub.status.busy": "2023-07-07T13:03:19.083550Z",
     "iopub.status.idle": "2023-07-07T13:03:19.301163Z",
     "shell.execute_reply": "2023-07-07T13:03:19.299948Z"
    },
    "papermill": {
     "duration": 0.252024,
     "end_time": "2023-07-07T13:03:19.304350",
     "exception": false,
     "start_time": "2023-07-07T13:03:19.052326",
     "status": "completed"
    },
    "tags": []
   },
   "outputs": [
    {
     "data": {
      "image/png": "[encoded data removed]",
      "text/plain": [
       "<Figure size 2000x1000 with 1 Axes>"
      ]
     },
     "metadata": {},
     "output_type": "display_data"
    }
   ],
   "source": [
    "fig, ax = plt.subplots()\n",
    "fig.set_figwidth(20)\n",
    "fig.set_figheight(10)\n",
    "for i, row in enumerate(resultsKNN.values):\n",
    "    x = [p + i * 0.2 for p in range(len(resultsKNN.columns))]\n",
    "    ax.bar(x, row, width=0.2, label=f'Red {i+1}')\n",
    "ax.set_xticks([p + 0.2 for p in range(len(resultsKNN.columns))])\n",
    "ax.set_xticklabels(resultsKNN.columns)\n",
    "plt.show()"
   ]
  },
  {
   "cell_type": "code",
   "execution_count": 76,
   "id": "c4fc1425",
   "metadata": {
    "execution": {
     "iopub.execute_input": "2023-07-07T13:03:19.370299Z",
     "iopub.status.busy": "2023-07-07T13:03:19.369351Z",
     "iopub.status.idle": "2023-07-07T13:03:19.586716Z",
     "shell.execute_reply": "2023-07-07T13:03:19.585809Z"
    },
    "papermill": {
     "duration": 0.253044,
     "end_time": "2023-07-07T13:03:19.589175",
     "exception": false,
     "start_time": "2023-07-07T13:03:19.336131",
     "status": "completed"
    },
    "tags": []
   },
   "outputs": [
    {
     "data": {
      "image/png": "[encoded data removed]",
      "text/plain": [
       "<Figure size 2000x1000 with 1 Axes>"
      ]
     },
     "metadata": {},
     "output_type": "display_data"
    }
   ],
   "source": [
    "fig, ax = plt.subplots()\n",
    "fig.set_figwidth(20)\n",
    "fig.set_figheight(10)\n",
    "for i, row in enumerate(resultsLogistic.values):\n",
    "    x = [p + i * 0.2 for p in range(len(resultsLogistic.columns))]\n",
    "    ax.bar(x, row, width=0.2, label=f'Red {i+1}')\n",
    "ax.set_xticks([p + 0.2 for p in range(len(resultsLogistic.columns))])\n",
    "ax.set_xticklabels(resultsLogistic.columns)\n",
    "plt.show()\n"
   ]
  },
  {
   "cell_type": "code",
   "execution_count": 77,
   "id": "1d693dd0",
   "metadata": {
    "execution": {
     "iopub.execute_input": "2023-07-07T13:03:19.653479Z",
     "iopub.status.busy": "2023-07-07T13:03:19.653177Z",
     "iopub.status.idle": "2023-07-07T13:03:19.864806Z",
     "shell.execute_reply": "2023-07-07T13:03:19.863278Z"
    },
    "papermill": {
     "duration": 0.247125,
     "end_time": "2023-07-07T13:03:19.867834",
     "exception": false,
     "start_time": "2023-07-07T13:03:19.620709",
     "status": "completed"
    },
    "tags": []
   },
   "outputs": [
    {
     "data": {
      "image/png": "[encoded data removed]",
      "text/plain": [
       "<Figure size 2000x1000 with 1 Axes>"
      ]
     },
     "metadata": {},
     "output_type": "display_data"
    }
   ],
   "source": [
    "fig, ax = plt.subplots()\n",
    "fig.set_figwidth(20)\n",
    "fig.set_figheight(10)\n",
    "for i, row in enumerate(resultsBoost.values):\n",
    "    x = [p + i * 0.2 for p in range(len(resultsBoost.columns))]\n",
    "    ax.bar(x, row, width=0.2, label=f'Red {i+1}')\n",
    "ax.set_xticks([p + 0.2 for p in range(len(resultsBoost.columns))])\n",
    "ax.set_xticklabels(resultsBoost.columns)\n",
    "plt.show()"
   ]
  },
  {
   "cell_type": "markdown",
   "id": "8317e491",
   "metadata": {
    "papermill": {
     "duration": 0.030856,
     "end_time": "2023-07-07T13:03:19.930826",
     "exception": false,
     "start_time": "2023-07-07T13:03:19.899970",
     "status": "completed"
    },
    "tags": []
   },
   "source": [
    "As we can see, selection has not payed off, because every model has bad results for selected dataset. Also another thing that is clear is that precision is very high. The reason for that is that we dont have much gusses for positive class due to very big class imbalance in this dataset. So focus should be on finding the model who has good recall. We can see that DecisionTree and GradinetBoosting both have good scores for AUC and recall, so we can use them in next analysis which will be threshold change. Because we want to have better recall and for that we will give up on precision, we will lower the threshold so we can make changes in their balance."
   ]
  },
  {
   "cell_type": "code",
   "execution_count": null,
   "id": "11cd8476",
   "metadata": {
    "papermill": {
     "duration": 0.031214,
     "end_time": "2023-07-07T13:03:19.993252",
     "exception": false,
     "start_time": "2023-07-07T13:03:19.962038",
     "status": "completed"
    },
    "tags": []
   },
   "outputs": [],
   "source": []
  }
 ],
 "metadata": {
  "kernelspec": {
   "display_name": "Python 3",
   "language": "python",
   "name": "python3"
  },
  "language_info": {
   "codemirror_mode": {
    "name": "ipython",
    "version": 3
   },
   "file_extension": ".py",
   "mimetype": "text/x-python",
   "name": "python",
   "nbconvert_exporter": "python",
   "pygments_lexer": "ipython3",
   "version": "3.10.10"
  },
  "papermill": {
   "default_parameters": {},
   "duration": 3517.384508,
   "end_time": "2023-07-07T13:03:21.053944",
   "environment_variables": {},
   "exception": null,
   "input_path": "__notebook__.ipynb",
   "output_path": "__notebook__.ipynb",
   "parameters": {},
   "start_time": "2023-07-07T12:04:43.669436",
   "version": "2.4.0"
  }
 },
 "nbformat": 4,
 "nbformat_minor": 5
}
